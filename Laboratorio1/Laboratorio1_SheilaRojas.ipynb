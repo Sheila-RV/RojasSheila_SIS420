{
  "nbformat": 4,
  "nbformat_minor": 0,
  "metadata": {
    "kernelspec": {
      "display_name": "Python 3",
      "language": "python",
      "name": "python3"
    },
    "language_info": {
      "codemirror_mode": {
        "name": "ipython",
        "version": 3
      },
      "file_extension": ".py",
      "mimetype": "text/x-python",
      "name": "python",
      "nbconvert_exporter": "python",
      "pygments_lexer": "ipython3",
      "version": "3.7.6"
    },
    "colab": {
      "provenance": []
    }
  },
  "cells": [
    {
      "cell_type": "markdown",
      "metadata": {
        "id": "Ye1ZcaOdSd21"
      },
      "source": [
        "#LABORATORIO 1 : Regresión Lineal\n"
      ]
    },
    {
      "cell_type": "markdown",
      "source": [
        "Estudiante: Sheila Rojas Vasquez\n"
      ],
      "metadata": {
        "id": "Eq80uJ3EH6Rs"
      }
    },
    {
      "cell_type": "code",
      "metadata": {
        "id": "6PSq0fx3Sd23"
      },
      "source": [
        "# utilizado para manejos de directorios y rutas\n",
        "import os\n",
        "\n",
        "# Computacion vectorial y cientifica para python\n",
        "import numpy as np\n",
        "import pandas as pd\n",
        "\n",
        "# Librerias para graficación (trazado de gráficos)\n",
        "from matplotlib import pyplot\n",
        "from mpl_toolkits.mplot3d import Axes3D  # Necesario para graficar superficies 3D\n",
        "\n",
        "# llama a matplotlib a embeber graficas dentro de los cuadernillos\n",
        "%matplotlib inline"
      ],
      "execution_count": 44,
      "outputs": []
    },
    {
      "cell_type": "markdown",
      "source": [
        "Dataset: https://www.kaggle.com/datasets/gurdit559/canada-per-capita-income-single-variable-data-set\n",
        "\n",
        "\n",
        "\n"
      ],
      "metadata": {
        "id": "7nAdny2nIKeD"
      }
    },
    {
      "cell_type": "markdown",
      "source": [
        "Descripción:\n",
        " El conjunto de datos contiene 2 columnas, año e ingreso per cápita. Agradecimientos El conjunto de datos es útil para predecir el ingreso per cápita de Canadá se ha extraído del sitio web: data.worldbank.org\n",
        " Objetivo: Predecir el ingreso per cápita de Canadá para un año usando regresión lineal"
      ],
      "metadata": {
        "id": "MwFR22oEI09z"
      }
    },
    {
      "cell_type": "code",
      "source": [
        "from google.colab import drive\n",
        "drive.mount('/content/drive')"
      ],
      "metadata": {
        "colab": {
          "base_uri": "https://localhost:8080/"
        },
        "id": "rH3Zu-2YVSgb",
        "outputId": "a680aa46-00ed-4936-cedb-b0e25ad9a2c5"
      },
      "execution_count": 45,
      "outputs": [
        {
          "output_type": "stream",
          "name": "stdout",
          "text": [
            "Drive already mounted at /content/drive; to attempt to forcibly remount, call drive.mount(\"/content/drive\", force_remount=True).\n"
          ]
        }
      ]
    },
    {
      "cell_type": "code",
      "metadata": {
        "id": "rEpvKQOhSd25",
        "colab": {
          "base_uri": "https://localhost:8080/"
        },
        "outputId": "15790bca-8bcd-4ad1-a0c1-9272b7624f09"
      },
      "source": [
        "# Leer datos separados por una coma\n",
        "data= np.genfromtxt('/content/drive/MyDrive/Colab Notebooks/canada_per_capita_income.csv', delimiter=',')\n",
        "data\n",
        "#data contiene 2 columnas, columna 0: año; columna 1: ingreso per cápita\n",
        "\n"
      ],
      "execution_count": 46,
      "outputs": [
        {
          "output_type": "execute_result",
          "data": {
            "text/plain": [
              "array([[         nan,          nan],\n",
              "       [ 1970.      ,  3399.299037],\n",
              "       [ 1971.      ,  3768.297935],\n",
              "       [ 1972.      ,  4251.175484],\n",
              "       [ 1973.      ,  4804.463248],\n",
              "       [ 1974.      ,  5576.514583],\n",
              "       [ 1975.      ,  5998.144346],\n",
              "       [ 1976.      ,  7062.131392],\n",
              "       [ 1977.      ,  7100.12617 ],\n",
              "       [ 1978.      ,  7247.967035],\n",
              "       [ 1979.      ,  7602.912681],\n",
              "       [ 1980.      ,  8355.96812 ],\n",
              "       [ 1981.      ,  9434.390652],\n",
              "       [ 1982.      ,  9619.438377],\n",
              "       [ 1983.      , 10416.53659 ],\n",
              "       [ 1984.      , 10790.32872 ],\n",
              "       [ 1985.      , 11018.95585 ],\n",
              "       [ 1986.      , 11482.89153 ],\n",
              "       [ 1987.      , 12974.80662 ],\n",
              "       [ 1988.      , 15080.28345 ],\n",
              "       [ 1989.      , 16426.72548 ],\n",
              "       [ 1990.      , 16838.6732  ],\n",
              "       [ 1991.      , 17266.09769 ],\n",
              "       [ 1992.      , 16412.08309 ],\n",
              "       [ 1993.      , 15875.58673 ],\n",
              "       [ 1994.      , 15755.82027 ],\n",
              "       [ 1995.      , 16369.31725 ],\n",
              "       [ 1996.      , 16699.82668 ],\n",
              "       [ 1997.      , 17310.75775 ],\n",
              "       [ 1998.      , 16622.67187 ],\n",
              "       [ 1999.      , 17581.02414 ],\n",
              "       [ 2000.      , 18987.38241 ],\n",
              "       [ 2001.      , 18601.39724 ],\n",
              "       [ 2002.      , 19232.17556 ],\n",
              "       [ 2003.      , 22739.42628 ],\n",
              "       [ 2004.      , 25719.14715 ],\n",
              "       [ 2005.      , 29198.05569 ],\n",
              "       [ 2006.      , 32738.2629  ],\n",
              "       [ 2007.      , 36144.48122 ],\n",
              "       [ 2008.      , 37446.48609 ],\n",
              "       [ 2009.      , 32755.17682 ],\n",
              "       [ 2010.      , 38420.52289 ],\n",
              "       [ 2011.      , 42334.71121 ],\n",
              "       [ 2012.      , 42665.25597 ],\n",
              "       [ 2013.      , 42676.46837 ],\n",
              "       [ 2014.      , 41039.8936  ],\n",
              "       [ 2015.      , 35175.18898 ],\n",
              "       [ 2016.      , 34229.19363 ]])"
            ]
          },
          "metadata": {},
          "execution_count": 46
        }
      ]
    },
    {
      "cell_type": "code",
      "source": [
        "X, y = data[1:, 0], data[1:, 1]    #Fila,Columna subindices desde 1\n",
        "\n",
        "m = y.size  # m = numero de ejemplos de entrenamiento\n",
        "#X=X/1000"
      ],
      "metadata": {
        "id": "55JLL14JjNy9"
      },
      "execution_count": 47,
      "outputs": []
    },
    {
      "cell_type": "code",
      "source": [
        "print(X)"
      ],
      "metadata": {
        "colab": {
          "base_uri": "https://localhost:8080/"
        },
        "id": "wMtVrzhdfaCi",
        "outputId": "32dc89b4-83a4-46f8-bcf7-3513ba774fa6"
      },
      "execution_count": 48,
      "outputs": [
        {
          "output_type": "stream",
          "name": "stdout",
          "text": [
            "[1970. 1971. 1972. 1973. 1974. 1975. 1976. 1977. 1978. 1979. 1980. 1981.\n",
            " 1982. 1983. 1984. 1985. 1986. 1987. 1988. 1989. 1990. 1991. 1992. 1993.\n",
            " 1994. 1995. 1996. 1997. 1998. 1999. 2000. 2001. 2002. 2003. 2004. 2005.\n",
            " 2006. 2007. 2008. 2009. 2010. 2011. 2012. 2013. 2014. 2015. 2016.]\n"
          ]
        }
      ]
    },
    {
      "cell_type": "code",
      "source": [
        "# Normalizar los datos\n",
        "X = (X - np.mean(X)) / np.std(X)"
      ],
      "metadata": {
        "id": "C-s-ski2mJjW"
      },
      "execution_count": 49,
      "outputs": []
    },
    {
      "cell_type": "code",
      "source": [
        "X"
      ],
      "metadata": {
        "colab": {
          "base_uri": "https://localhost:8080/"
        },
        "id": "TXiGMu6ImLwh",
        "outputId": "b7539273-cd7a-4534-98f5-090dc4b40d52"
      },
      "execution_count": 50,
      "outputs": [
        {
          "output_type": "execute_result",
          "data": {
            "text/plain": [
              "array([-1.6955825 , -1.62186152, -1.54814054, -1.47441956, -1.40069858,\n",
              "       -1.32697761, -1.25325663, -1.17953565, -1.10581467, -1.03209369,\n",
              "       -0.95837272, -0.88465174, -0.81093076, -0.73720978, -0.6634888 ,\n",
              "       -0.58976782, -0.51604685, -0.44232587, -0.36860489, -0.29488391,\n",
              "       -0.22116293, -0.14744196, -0.07372098,  0.        ,  0.07372098,\n",
              "        0.14744196,  0.22116293,  0.29488391,  0.36860489,  0.44232587,\n",
              "        0.51604685,  0.58976782,  0.6634888 ,  0.73720978,  0.81093076,\n",
              "        0.88465174,  0.95837272,  1.03209369,  1.10581467,  1.17953565,\n",
              "        1.25325663,  1.32697761,  1.40069858,  1.47441956,  1.54814054,\n",
              "        1.62186152,  1.6955825 ])"
            ]
          },
          "metadata": {},
          "execution_count": 50
        }
      ]
    },
    {
      "cell_type": "code",
      "source": [
        "#normalizar y\n",
        "y=(y-np.mean(y))/np.std(y)"
      ],
      "metadata": {
        "id": "xsr5KYhqZVGs"
      },
      "execution_count": 51,
      "outputs": []
    },
    {
      "cell_type": "code",
      "source": [
        "print(y)"
      ],
      "metadata": {
        "colab": {
          "base_uri": "https://localhost:8080/"
        },
        "id": "Pf-9nKMafpXh",
        "outputId": "c0c18b0d-dd69-46cf-802d-67339c6641fd"
      },
      "execution_count": 52,
      "outputs": [
        {
          "output_type": "stream",
          "name": "stdout",
          "text": [
            "[-1.30361891 -1.27262613 -1.23206851 -1.18559702 -1.12075125 -1.08533792\n",
            " -0.99597203 -0.99278079 -0.98036341 -0.95055098 -0.8873007  -0.79672234\n",
            " -0.7811799  -0.7142304  -0.68283503 -0.66363229 -0.62466562 -0.49935739\n",
            " -0.32251518 -0.20942545 -0.17482533 -0.1389253  -0.21065529 -0.25571644\n",
            " -0.26577581 -0.21424726 -0.18648726 -0.13517423 -0.19296761 -0.11247414\n",
            "  0.00564804 -0.02677145  0.02620859  0.32078794  0.57105925  0.8632581\n",
            "  1.16060551  1.446699    1.55605638  1.16202614  1.63786722  1.96662588\n",
            "  1.99438884  1.99533059  1.85787217  1.36528666  1.28583107]\n"
          ]
        }
      ]
    },
    {
      "cell_type": "code",
      "source": [
        "print(X.size) #N° de datos del dataset"
      ],
      "metadata": {
        "colab": {
          "base_uri": "https://localhost:8080/"
        },
        "id": "XpM8pFcmf1PO",
        "outputId": "ca226323-62bd-4a48-8075-a5617784abd7"
      },
      "execution_count": 53,
      "outputs": [
        {
          "output_type": "stream",
          "name": "stdout",
          "text": [
            "47\n"
          ]
        }
      ]
    },
    {
      "cell_type": "markdown",
      "metadata": {
        "id": "bt1oQ_t5Sd25"
      },
      "source": [
        "### 1.1 Trazar los datos"
      ]
    },
    {
      "cell_type": "code",
      "metadata": {
        "id": "PWCJQ5laSd25"
      },
      "source": [
        "def plotData(x, y):\n",
        "    #Grafica los puntos x e y en una figura nueva.\n",
        "\n",
        "    fig = pyplot.figure()  # abre una nueva figura\n",
        "\n",
        "    pyplot.plot(x, y, 'ro', ms=10, mec='k')\n",
        "    pyplot.ylabel('Ingreso per capita')\n",
        "    pyplot.xlabel('Año')\n"
      ],
      "execution_count": 54,
      "outputs": []
    },
    {
      "cell_type": "code",
      "metadata": {
        "colab": {
          "base_uri": "https://localhost:8080/",
          "height": 449
        },
        "id": "EFot_cibSd26",
        "outputId": "2311b322-3721-476d-ee51-246ca123ce3e"
      },
      "source": [
        "plotData(X, y)"
      ],
      "execution_count": 55,
      "outputs": [
        {
          "output_type": "display_data",
          "data": {
            "text/plain": [
              "<Figure size 640x480 with 1 Axes>"
            ],
            "image/png": "[encoded data removed]"
          },
          "metadata": {}
        }
      ]
    },
    {
      "cell_type": "markdown",
      "metadata": {
        "id": "elpjQ_TPSd27"
      },
      "source": [
        "# <a id=\"section2\"></a>\n",
        "### 1.2 Descenso por el gradiente\n",
        "\n"
      ]
    },
    {
      "cell_type": "code",
      "metadata": {
        "id": "Hli_L8XISd28"
      },
      "source": [
        "# Agrega una columna de unos a X\n",
        "#La columna es de x0 que tiene el valor de 1\n",
        "X = np.stack([np.ones(m), X], axis=1)"
      ],
      "execution_count": 56,
      "outputs": []
    },
    {
      "cell_type": "code",
      "source": [
        "#visualizamos X\n",
        "X"
      ],
      "metadata": {
        "colab": {
          "base_uri": "https://localhost:8080/"
        },
        "id": "csQLNY-BWPg6",
        "outputId": "35b7d586-8da5-4d83-df76-2b6fc6537c0f"
      },
      "execution_count": 57,
      "outputs": [
        {
          "output_type": "execute_result",
          "data": {
            "text/plain": [
              "array([[ 1.        , -1.6955825 ],\n",
              "       [ 1.        , -1.62186152],\n",
              "       [ 1.        , -1.54814054],\n",
              "       [ 1.        , -1.47441956],\n",
              "       [ 1.        , -1.40069858],\n",
              "       [ 1.        , -1.32697761],\n",
              "       [ 1.        , -1.25325663],\n",
              "       [ 1.        , -1.17953565],\n",
              "       [ 1.        , -1.10581467],\n",
              "       [ 1.        , -1.03209369],\n",
              "       [ 1.        , -0.95837272],\n",
              "       [ 1.        , -0.88465174],\n",
              "       [ 1.        , -0.81093076],\n",
              "       [ 1.        , -0.73720978],\n",
              "       [ 1.        , -0.6634888 ],\n",
              "       [ 1.        , -0.58976782],\n",
              "       [ 1.        , -0.51604685],\n",
              "       [ 1.        , -0.44232587],\n",
              "       [ 1.        , -0.36860489],\n",
              "       [ 1.        , -0.29488391],\n",
              "       [ 1.        , -0.22116293],\n",
              "       [ 1.        , -0.14744196],\n",
              "       [ 1.        , -0.07372098],\n",
              "       [ 1.        ,  0.        ],\n",
              "       [ 1.        ,  0.07372098],\n",
              "       [ 1.        ,  0.14744196],\n",
              "       [ 1.        ,  0.22116293],\n",
              "       [ 1.        ,  0.29488391],\n",
              "       [ 1.        ,  0.36860489],\n",
              "       [ 1.        ,  0.44232587],\n",
              "       [ 1.        ,  0.51604685],\n",
              "       [ 1.        ,  0.58976782],\n",
              "       [ 1.        ,  0.6634888 ],\n",
              "       [ 1.        ,  0.73720978],\n",
              "       [ 1.        ,  0.81093076],\n",
              "       [ 1.        ,  0.88465174],\n",
              "       [ 1.        ,  0.95837272],\n",
              "       [ 1.        ,  1.03209369],\n",
              "       [ 1.        ,  1.10581467],\n",
              "       [ 1.        ,  1.17953565],\n",
              "       [ 1.        ,  1.25325663],\n",
              "       [ 1.        ,  1.32697761],\n",
              "       [ 1.        ,  1.40069858],\n",
              "       [ 1.        ,  1.47441956],\n",
              "       [ 1.        ,  1.54814054],\n",
              "       [ 1.        ,  1.62186152],\n",
              "       [ 1.        ,  1.6955825 ]])"
            ]
          },
          "metadata": {},
          "execution_count": 57
        }
      ]
    },
    {
      "cell_type": "markdown",
      "metadata": {
        "id": "ElowgFt2Sd28"
      },
      "source": [
        "<a id=\"section2\"></a>\n",
        "#### 1.2.3 Cálculo del costo $J(\\theta)$"
      ]
    },
    {
      "cell_type": "code",
      "metadata": {
        "id": "DYJ8v-K0Sd28"
      },
      "source": [
        "#Definimos la función de costo\n",
        "def computeCost(X, y, theta):\n",
        "    # inicializa algunos valores importantes\n",
        "    m = y.size  # numero de ejemplos de entrenamiento\n",
        "\n",
        "    h = np.dot(X, theta) #producto de x y theta también puede ser  theta*X\n",
        "    J = (1/(2 * m)) * np.sum(np.square(np.dot(X, theta) - y))\n",
        "    return J"
      ],
      "execution_count": 58,
      "outputs": []
    },
    {
      "cell_type": "markdown",
      "metadata": {
        "id": "I22C3lMeSd29"
      },
      "source": [
        "Ejemplo de funcionamiento de la funcion computeCoste con dos valores diferentes de $\\theta$."
      ]
    },
    {
      "cell_type": "code",
      "metadata": {
        "id": "7HZREYI4Sd29",
        "colab": {
          "base_uri": "https://localhost:8080/"
        },
        "outputId": "8f546797-3431-41e0-c37d-cdc01a42dddd"
      },
      "source": [
        "#Prueba de la función costo con theta (0,0)\n",
        "J = computeCost(X, y, theta=np.array([0.0, 0.0]))\n",
        "print('Con theta = [0, 0] \\n Costo calculado = %.2f' % J)\n",
        "\n",
        "# pruebas adicionales de la función de costes\n",
        "J = computeCost(X, y, theta=np.array([-1, 2]))\n",
        "print('Con theta = [-1, 2]\\n Costo calculado = %.2f' % J)\n"
      ],
      "execution_count": 60,
      "outputs": [
        {
          "output_type": "stream",
          "name": "stdout",
          "text": [
            "Con theta = [0, 0] \n",
            " Costo calculado = 0.50\n",
            "Con theta = [-1, 2]\n",
            " Costo calculado = 1.11\n"
          ]
        }
      ]
    },
    {
      "cell_type": "markdown",
      "metadata": {
        "id": "IqT-oqwiSd29"
      },
      "source": [
        "<a id=\"section3\"></a>\n",
        "#### 1.2.4 Descenso por el gradiente\n",
        "\n",
        "El costo $J(\\theta)$ esta parametrizado por el vector $\\theta$, no $X$ y $y$. Donde hay que minimizar el valor de $J(\\theta)$ cambiando los valores del vector $\\theta$. Una buena manera de verificar si el descenso por el gradiente esta trabajando correctamente es ver los valores de $J(\\theta)$ y verificar si estos decresen en cada paso.\n",
        "\n",
        "<div class=\"alert alert-box alert-warning\">\n",
        "**Vectores y matrices en `numpy`** - Importantes notas para implementación\n",
        "Un vector en `numpy` es un array de una diemension, por ejemplo `np.array([1, 2, 3])` es un vector. Una matriz en `numpy` is un arreglo de dos dimensiones, por ejemplo  `np.array([[1, 2, 3], [4, 5, 6]])`. Sin embargo, lo siguiente todavía se considera una matriz `np.array ([[1, 2, 3]])` ya que tiene dos dimensiones, incluso si tiene una forma de 1x3 (que parece un vector)."
      ]
    },
    {
      "cell_type": "code",
      "source": [
        "y"
      ],
      "metadata": {
        "colab": {
          "base_uri": "https://localhost:8080/"
        },
        "id": "xK00sJBiXlCZ",
        "outputId": "0f340114-9219-4715-ec31-2094f5b8a220"
      },
      "execution_count": 61,
      "outputs": [
        {
          "output_type": "execute_result",
          "data": {
            "text/plain": [
              "array([-1.30361891, -1.27262613, -1.23206851, -1.18559702, -1.12075125,\n",
              "       -1.08533792, -0.99597203, -0.99278079, -0.98036341, -0.95055098,\n",
              "       -0.8873007 , -0.79672234, -0.7811799 , -0.7142304 , -0.68283503,\n",
              "       -0.66363229, -0.62466562, -0.49935739, -0.32251518, -0.20942545,\n",
              "       -0.17482533, -0.1389253 , -0.21065529, -0.25571644, -0.26577581,\n",
              "       -0.21424726, -0.18648726, -0.13517423, -0.19296761, -0.11247414,\n",
              "        0.00564804, -0.02677145,  0.02620859,  0.32078794,  0.57105925,\n",
              "        0.8632581 ,  1.16060551,  1.446699  ,  1.55605638,  1.16202614,\n",
              "        1.63786722,  1.96662588,  1.99438884,  1.99533059,  1.85787217,\n",
              "        1.36528666,  1.28583107])"
            ]
          },
          "metadata": {},
          "execution_count": 61
        }
      ]
    },
    {
      "cell_type": "code",
      "source": [
        "y.shape[0]"
      ],
      "metadata": {
        "colab": {
          "base_uri": "https://localhost:8080/"
        },
        "id": "e7RCyaN7cLQA",
        "outputId": "57baf272-d72b-4922-8fee-cb33743dfddb"
      },
      "execution_count": 62,
      "outputs": [
        {
          "output_type": "execute_result",
          "data": {
            "text/plain": [
              "47"
            ]
          },
          "metadata": {},
          "execution_count": 62
        }
      ]
    },
    {
      "cell_type": "code",
      "metadata": {
        "id": "mOJCrh4gSd2-"
      },
      "source": [
        "def gradientDescent(X, y, theta, alpha, num_iters):\n",
        "        # Inicializa algunos valores importantes\n",
        "    m = y.shape[0]  # numero de ejemplos de entrenamiento\n",
        "\n",
        "    # hace una copia de theta, para evitar cambiar la matriz original,\n",
        "    # ya que las matrices numpy se pasan por referencia a las funciones\n",
        "\n",
        "    #alpha =0.001 0.005\n",
        "    theta = theta.copy() #.copy -> evitar las referencias\n",
        "\n",
        "    J_history = [] # Lista que se utiliza para almacenar el costo en cada iteración\n",
        "\n",
        "    for i in range(num_iters):\n",
        "        theta = theta - (alpha / m) * (np.dot(X, theta) - y).dot(X)\n",
        "        # save the cost J in every iteration\n",
        "        J_history.append(computeCost(X, y, theta))\n",
        "\n",
        "    return theta, J_history"
      ],
      "execution_count": 63,
      "outputs": []
    },
    {
      "cell_type": "markdown",
      "metadata": {
        "id": "DjVpuPURSd2-"
      },
      "source": [
        "Se inicializan los parametros $\\theta$ con 0 y la taza de aprendizaje $\\alpha$ con 0.01."
      ]
    },
    {
      "cell_type": "code",
      "metadata": {
        "id": "B7_xnHp1Sd2-",
        "colab": {
          "base_uri": "https://localhost:8080/"
        },
        "outputId": "cf02d6b4-ddc3-4d77-e0ca-c5841a2aeba4"
      },
      "source": [
        "# inicializa los parametros de ajuste\n",
        "theta = np.zeros(2)\n",
        "\n",
        "# configuraciones para el descenso por el gradiente\n",
        "iterations = 1000\n",
        "alpha = 0.01\n",
        "\n",
        "theta, J_history = gradientDescent(X ,y, theta, alpha, iterations)\n",
        "print('Theta encontrada por descenso gradiente: {:.4f}, {:.4f}'.format(*theta))\n",
        "#print('Valores theta esperados (aproximadamente): [-3.6303, 1.1664]')\n",
        "J_history[-1]"
      ],
      "execution_count": 65,
      "outputs": [
        {
          "output_type": "stream",
          "name": "stdout",
          "text": [
            "Theta encontrada por descenso gradiente: 0.0000, 0.9438\n"
          ]
        },
        {
          "output_type": "execute_result",
          "data": {
            "text/plain": [
              "0.05454154185171005"
            ]
          },
          "metadata": {},
          "execution_count": 65
        }
      ]
    },
    {
      "cell_type": "code",
      "source": [
        "J_history"
      ],
      "metadata": {
        "colab": {
          "base_uri": "https://localhost:8080/"
        },
        "id": "eRALWyVGdLd0",
        "outputId": "2701086b-7d2d-411e-8525-64cbefc73b22"
      },
      "execution_count": 66,
      "outputs": [
        {
          "output_type": "execute_result",
          "data": {
            "text/plain": [
              "[0.49113537666632756,\n",
              " 0.48244715933699506,\n",
              " 0.47393183753251644,\n",
              " 0.46558597063194695,\n",
              " 0.45740618648269865,\n",
              " 0.4493891800380204,\n",
              " 0.4415317120215915,\n",
              " 0.4338306076186893,\n",
              " 0.42628275519340497,\n",
              " 0.41888510503138365,\n",
              " 0.4116346681075866,\n",
              " 0.4045285148785732,\n",
              " 0.39756377409881716,\n",
              " 0.3907376316605782,\n",
              " 0.3840473294568602,\n",
              " 0.3774901642669963,\n",
              " 0.3710634866644106,\n",
              " 0.3647646999461164,\n",
              " 0.3585912590835162,\n",
              " 0.3525406696940817,\n",
              " 0.346610487033497,\n",
              " 0.3407983150078579,\n",
              " 0.33510180520552907,\n",
              " 0.3295186559482666,\n",
              " 0.32404661136122365,\n",
              " 0.3186834604614628,\n",
              " 0.3134270362646072,\n",
              " 0.308275214909269,\n",
              " 0.30322591479890215,\n",
              " 0.2982770957607315,\n",
              " 0.2934267582214205,\n",
              " 0.2886729423991418,\n",
              " 0.2840137275117264,\n",
              " 0.2794472310005705,\n",
              " 0.27497160776998675,\n",
              " 0.27058504944169154,\n",
              " 0.2662857836241294,\n",
              " 0.26207207319633674,\n",
              " 0.25794221560605723,\n",
              " 0.2538945421818242,\n",
              " 0.24992741745873343,\n",
              " 0.24603923851763213,\n",
              " 0.24222843433745883,\n",
              " 0.23849346516047085,\n",
              " 0.234832821870105,\n",
              " 0.23124502538121747,\n",
              " 0.22772862604245875,\n",
              " 0.22428220305054133,\n",
              " 0.22090436387616313,\n",
              " 0.217593743701355,\n",
              " 0.2143490048680256,\n",
              " 0.21116883633747938,\n",
              " 0.20805195316069106,\n",
              " 0.2049970959591209,\n",
              " 0.20200303041586187,\n",
              " 0.19906854677691377,\n",
              " 0.19619245936238067,\n",
              " 0.19337360608739684,\n",
              " 0.19061084799258518,\n",
              " 0.18790306878386023,\n",
              " 0.18524917438138896,\n",
              " 0.18264809247752686,\n",
              " 0.18009877210355163,\n",
              " 0.17760018320501844,\n",
              " 0.17515131622556612,\n",
              " 0.1727511816990049,\n",
              " 0.17039880984952221,\n",
              " 0.16809325019984428,\n",
              " 0.1658335711871949,\n",
              " 0.16361885978689725,\n",
              " 0.16144822114346555,\n",
              " 0.15932077820903814,\n",
              " 0.1572356713890058,\n",
              " 0.15519205819469212,\n",
              " 0.15318911290294526,\n",
              " 0.1512260262225042,\n",
              " 0.14930200496700385,\n",
              " 0.147416271734488,\n",
              " 0.14556806459329918,\n",
              " 0.1437566367742201,\n",
              " 0.14198125636874062,\n",
              " 0.14024120603333023,\n",
              " 0.1385357826995945,\n",
              " 0.13686429729020003,\n",
              " 0.13522607444045256,\n",
              " 0.13362045222541508,\n",
              " 0.13204678189245686,\n",
              " 0.13050442759912453,\n",
              " 0.12899276615622943,\n",
              " 0.12751118677604795,\n",
              " 0.12605909082553213,\n",
              " 0.12463589158443157,\n",
              " 0.12324101400822889,\n",
              " 0.1218738944957927,\n",
              " 0.12053398066165397,\n",
              " 0.11922073111281459,\n",
              " 0.1179336152299971,\n",
              " 0.11667211295324767,\n",
              " 0.11543571457180561,\n",
              " 0.11422392051815422,\n",
              " 0.11303624116617048,\n",
              " 0.11187219663329118,\n",
              " 0.11073131658661625,\n",
              " 0.10961314005287012,\n",
              " 0.10851721523214551,\n",
              " 0.10744309931535335,\n",
              " 0.10639035830530533,\n",
              " 0.10535856684135728,\n",
              " 0.10434730802754183,\n",
              " 0.1033561732641213,\n",
              " 0.10238476208249278,\n",
              " 0.10143268198337872,\n",
              " 0.100499548278237,\n",
              " 0.09958498393382761,\n",
              " 0.09868861941987196,\n",
              " 0.09781009255974403,\n",
              " 0.09694904838413265,\n",
              " 0.09610513898761593,\n",
              " 0.09527802338808994,\n",
              " 0.09446736738899444,\n",
              " 0.09367284344428098,\n",
              " 0.09289413052606733,\n",
              " 0.09213091399492612,\n",
              " 0.09138288547275462,\n",
              " 0.09064974271817433,\n",
              " 0.08993118950441022,\n",
              " 0.08922693549959997,\n",
              " 0.08853669614948549,\n",
              " 0.08786019256243827,\n",
              " 0.08719715139677325,\n",
              " 0.086547304750305,\n",
              " 0.08591039005210147,\n",
              " 0.08528614995639217,\n",
              " 0.08467433223858749,\n",
              " 0.08407468969336714,\n",
              " 0.08348698003479667,\n",
              " 0.08291096579843175,\n",
              " 0.0823464142453705,\n",
              " 0.08179309726821515,\n",
              " 0.08125079129890522,\n",
              " 0.08071927721838454,\n",
              " 0.0801983402680662,\n",
              " 0.07968776996305922,\n",
              " 0.07918736000712187,\n",
              " 0.07869690820930769,\n",
              " 0.07821621640227,\n",
              " 0.07774509036219238,\n",
              " 0.07728333973031225,\n",
              " 0.07683077793600657,\n",
              " 0.07638722212140757,\n",
              " 0.07595249306751908,\n",
              " 0.07552641512180297,\n",
              " 0.07510881612720662,\n",
              " 0.07469952735260274,\n",
              " 0.07429838342461347,\n",
              " 0.07390522226079119,\n",
              " 0.07351988500412898,\n",
              " 0.07314221595887434,\n",
              " 0.07277206252762027,\n",
              " 0.07240927514964815,\n",
              " 0.07205370724049769,\n",
              " 0.0717052151327393,\n",
              " 0.07136365801792534,\n",
              " 0.07102889788969614,\n",
              " 0.07070079948801875,\n",
              " 0.07037923024453467,\n",
              " 0.07006406022899599,\n",
              " 0.06975516209676651,\n",
              " 0.06945241103736836,\n",
              " 0.06915568472405227,\n",
              " 0.06886486326437118,\n",
              " 0.06857982915173771,\n",
              " 0.06830046721794567,\n",
              " 0.06802666458663606,\n",
              " 0.06775831062768954,\n",
              " 0.06749529691252605,\n",
              " 0.06723751717029432,\n",
              " 0.066984867244933,\n",
              " 0.06673724505308634,\n",
              " 0.06649455054285745,\n",
              " 0.06625668565338214,\n",
              " 0.06602355427520736,\n",
              " 0.06579506221145827,\n",
              " 0.06557111713977776,\n",
              " 0.06535162857502373,\n",
              " 0.06513650783270829,\n",
              " 0.06492566799316492,\n",
              " 0.06471902386642847,\n",
              " 0.06451649195781407,\n",
              " 0.0643179904341811,\n",
              " 0.06412343909086843,\n",
              " 0.06393275931928769,\n",
              " 0.06374587407516139,\n",
              " 0.06356270784739321,\n",
              " 0.06338318662755763,\n",
              " 0.06320723787999677,\n",
              " 0.06303479051251235,\n",
              " 0.06286577484764086,\n",
              " 0.06270012259450035,\n",
              " 0.06253776682119735,\n",
              " 0.06237864192778304,\n",
              " 0.06222268361974768,\n",
              " 0.062069828882042245,\n",
              " 0.06192001595361713,\n",
              " 0.06177318430246767,\n",
              " 0.061629274601176114,\n",
              " 0.06148822870294022,\n",
              " 0.061349989618079234,\n",
              " 0.061214501491007,\n",
              " 0.06108170957766348,\n",
              " 0.06095156022339551,\n",
              " 0.06082400084127747,\n",
              " 0.06069897989086357,\n",
              " 0.06057644685736293,\n",
              " 0.06045635223122892,\n",
              " 0.06033864748815501,\n",
              " 0.06022328506946825,\n",
              " 0.060110218362913366,\n",
              " 0.059999401683818926,\n",
              " 0.059890790256638446,\n",
              " 0.059784340196858896,\n",
              " 0.05968000849326893,\n",
              " 0.0595777529905804,\n",
              " 0.059477532372395385,\n",
              " 0.05937930614451224,\n",
              " 0.05928303461856398,\n",
              " 0.05918867889598209,\n",
              " 0.059096200852279575,\n",
              " 0.059005563121646724,\n",
              " 0.05891672908185348,\n",
              " 0.058829662839452124,\n",
              " 0.05874432921527457,\n",
              " 0.058660693730218115,\n",
              " 0.058578722591314296,\n",
              " 0.05849838267807468,\n",
              " 0.058419641529108536,\n",
              " 0.05834246732900681,\n",
              " 0.058266828895487115,\n",
              " 0.058192695666794435,\n",
              " 0.05812003768935276,\n",
              " 0.05804882560566217,\n",
              " 0.05797903064243702,\n",
              " 0.05791062459898005,\n",
              " 0.057843579835787876,\n",
              " 0.05777786926338324,\n",
              " 0.057713466331369444,\n",
              " 0.05765034501770272,\n",
              " 0.05758847981817797,\n",
              " 0.05752784573612376,\n",
              " 0.05746841827230241,\n",
              " 0.057410173415011125,\n",
              " 0.05735308763037994,\n",
              " 0.057297137852862896,\n",
              " 0.05724230147591847,\n",
              " 0.057188556342875216,\n",
              " 0.057135880737979525,\n",
              " 0.05708425337762127,\n",
              " 0.05703365340173412,\n",
              " 0.05698406036536714,\n",
              " 0.056935454230423885,\n",
              " 0.056887815357565985,\n",
              " 0.05684112449827794,\n",
              " 0.05679536278708971,\n",
              " 0.05675051173395417,\n",
              " 0.056706553216776014,\n",
              " 0.05666346947408971,\n",
              " 0.05662124309788284,\n",
              " 0.05657985702656251,\n",
              " 0.056539294538061426,\n",
              " 0.056499539243081556,\n",
              " 0.056460575078471735,\n",
              " 0.056422386300737704,\n",
              " 0.05638495747968055,\n",
              " 0.05634827349216242,\n",
              " 0.05631231951599594,\n",
              " 0.056277081023955136,\n",
              " 0.05624254377790597,\n",
              " 0.05620869382305317,\n",
              " 0.056175517482301936,\n",
              " 0.05614300135073164,\n",
              " 0.056111132290179624,\n",
              " 0.05607989742393258,\n",
              " 0.05604928413152383,\n",
              " 0.05601928004363406,\n",
              " 0.055989873037093255,\n",
              " 0.05596105122998265,\n",
              " 0.05593280297683349,\n",
              " 0.055905116863922064,\n",
              " 0.05587798170465752,\n",
              " 0.0558513865350624,\n",
              " 0.055825320609342186,\n",
              " 0.05579977339554378,\n",
              " 0.0557747345713,\n",
              " 0.055750194019658646,\n",
              " 0.05572614182499499,\n",
              " 0.05570256826900512,\n",
              " 0.05567946382677945,\n",
              " 0.055656819162954035,\n",
              " 0.0556346251279388,\n",
              " 0.05561287275422034,\n",
              " 0.05559155325273889,\n",
              " 0.05557065800933693,\n",
              " 0.05555017858127864,\n",
              " 0.05553010669383874,\n",
              " 0.05551043423695886,\n",
              " 0.05549115326197092,\n",
              " 0.055472255978385246,\n",
              " 0.05545373475074289,\n",
              " 0.05543558209553065,\n",
              " 0.05541779067815709,\n",
              " 0.055400353309989325,\n",
              " 0.05538326294544804,\n",
              " 0.05536651267916117,\n",
              " 0.0553500957431734,\n",
              " 0.05533400550421175,\n",
              " 0.055318235461005505,\n",
              " 0.055302779241658995,\n",
              " 0.05528763060107753,\n",
              " 0.055272783418443605,\n",
              " 0.05525823169474411,\n",
              " 0.055243969550346245,\n",
              " 0.05522999122262185,\n",
              " 0.05521629106361923,\n",
              " 0.055202863537780734,\n",
              " 0.055189703219706406,\n",
              " 0.0551768047919618,\n",
              " 0.055164163042929266,\n",
              " 0.05515177286470252,\n",
              " 0.0551396292510225,\n",
              " 0.05512772729525465,\n",
              " 0.05511606218840663,\n",
              " 0.055104629217184835,\n",
              " 0.055093423762090414,\n",
              " 0.05508244129555231,\n",
              " 0.05507167738009837,\n",
              " 0.05506112766656196,\n",
              " 0.05505078789232487,\n",
              " 0.055040653879595176,\n",
              " 0.05503072153371875,\n",
              " 0.05502098684152529,\n",
              " 0.05501144586970644,\n",
              " 0.055002094763226816,\n",
              " 0.054992929743766114,\n",
              " 0.05498394710819274,\n",
              " 0.054975143227067216,\n",
              " 0.05496651454317608,\n",
              " 0.054958057570094435,\n",
              " 0.054949768890777066,\n",
              " 0.05494164515617815,\n",
              " 0.054933683083897726,\n",
              " 0.05492587945685568,\n",
              " 0.0549182311219918,\n",
              " 0.054910734988991676,\n",
              " 0.05490338802903828,\n",
              " 0.05489618727358792,\n",
              " 0.05488912981317109,\n",
              " 0.05488221279621649,\n",
              " 0.05487543342789933,\n",
              " 0.05486878896901164,\n",
              " 0.054862276734855865,\n",
              " 0.05485589409415973,\n",
              " 0.0548496384680135,\n",
              " 0.054843507328827534,\n",
              " 0.05483749819931143,\n",
              " 0.054831608651472664,\n",
              " 0.054825836305635874,\n",
              " 0.054820178829481266,\n",
              " 0.0548146339371021,\n",
              " 0.05480919938808132,\n",
              " 0.05480387298658601,\n",
              " 0.05479865258048048,\n",
              " 0.05479353606045648,\n",
              " 0.054788521359180914,\n",
              " 0.05478360645046072,\n",
              " 0.054778789348424096,\n",
              " 0.054774068106717956,\n",
              " 0.054769440817721816,\n",
              " 0.05476490561177667,\n",
              " 0.054760460656429866,\n",
              " 0.05475610415569442,\n",
              " 0.05475183434932366,\n",
              " 0.05474764951209963,\n",
              " 0.05474354795313639,\n",
              " 0.0547395280151965,\n",
              " 0.054735588074021596,\n",
              " 0.05473172653767613,\n",
              " 0.0547279418459039,\n",
              " 0.05472423246949792,\n",
              " 0.054720596909682465,\n",
              " 0.05471703369750729,\n",
              " 0.054713541393254454,\n",
              " 0.054710118585856185,\n",
              " 0.0547067638923252,\n",
              " 0.05470347595719546,\n",
              " 0.054700253451974774,\n",
              " 0.05469709507460803,\n",
              " 0.05469399954895082,\n",
              " 0.05469096562425426,\n",
              " 0.05468799207465912,\n",
              " 0.05468507769870096,\n",
              " 0.05468222131882431,\n",
              " 0.054679421780907254,\n",
              " 0.05467667795379472,\n",
              " 0.05467398872884175,\n",
              " 0.054671353019465296,\n",
              " 0.05466876976070549,\n",
              " 0.05466623790879499,\n",
              " 0.05466375644073747,\n",
              " 0.05466132435389435,\n",
              " 0.05465894066557938,\n",
              " 0.05465660441266187,\n",
              " 0.054654314651177455,\n",
              " 0.05465207045594652,\n",
              " 0.054649870920200745,\n",
              " 0.054647715155216256,\n",
              " 0.05464560228995498,\n",
              " 0.054643531470712416,\n",
              " 0.05464150186077276,\n",
              " 0.054639512640070914,\n",
              " 0.05463756300486103,\n",
              " 0.05463565216739184,\n",
              " 0.05463377935558824,\n",
              " 0.0546319438127396,\n",
              " 0.054630144797193594,\n",
              " 0.05462838158205698,\n",
              " 0.05462665345490156,\n",
              " 0.05462495971747656,\n",
              " 0.05462329968542631,\n",
              " 0.05462167268801383,\n",
              " 0.05462007806784991,\n",
              " 0.05461851518062719,\n",
              " 0.05461698339486028,\n",
              " 0.05461548209163005,\n",
              " 0.054614010664334176,\n",
              " 0.05461256851844143,\n",
              " 0.054611155071252,\n",
              " 0.05460976975166161,\n",
              " 0.05460841199993106,\n",
              " 0.054607081267459986,\n",
              " 0.05460577701656504,\n",
              " 0.05460449872026295,\n",
              " 0.05460324586205722,\n",
              " 0.05460201793572984,\n",
              " 0.0546008144451363,\n",
              " 0.05459963490400565,\n",
              " 0.05459847883574347,\n",
              " 0.05459734577323968,\n",
              " 0.05459623525867977,\n",
              " 0.05459514684335954,\n",
              " 0.05459408008750425,\n",
              " 0.0545930345600904,\n",
              " 0.05459200983867216,\n",
              " 0.05459100550921012,\n",
              " 0.05459002116590434,\n",
              " 0.054589056411030394,\n",
              " 0.05458811085477842,\n",
              " 0.05458718411509588,\n",
              " 0.054586275817532975,\n",
              " 0.05458538559509158,\n",
              " 0.05458451308807682,\n",
              " 0.054583657943951605,\n",
              " 0.05458281981719451,\n",
              " 0.05458199836915985,\n",
              " 0.05458119326794113,\n",
              " 0.054580404188236606,\n",
              " 0.054579630811218235,\n",
              " 0.05457887282440253,\n",
              " 0.05457812992152442,\n",
              " 0.05457740180241364,\n",
              " 0.05457668817287314,\n",
              " 0.05457598874456048,\n",
              " 0.054575303234871274,\n",
              " 0.05457463136682485,\n",
              " 0.05457397286895258,\n",
              " 0.05457332747518793,\n",
              " 0.054572694924759226,\n",
              " 0.05457207496208403,\n",
              " 0.05457146733666611,\n",
              " 0.05457087180299397,\n",
              " 0.05457028812044194,\n",
              " 0.05456971605317266,\n",
              " 0.05456915537004206,\n",
              " 0.05456860584450576,\n",
              " 0.054568067254527605,\n",
              " 0.05456753938249006,\n",
              " 0.05456702201510603,\n",
              " 0.05456651494333294,\n",
              " 0.05456601796228815,\n",
              " 0.054565530871166154,\n",
              " 0.05456505347315745,\n",
              " 0.05456458557536917,\n",
              " 0.054564126988746825,\n",
              " 0.05456367752799833,\n",
              " 0.05456323701151869,\n",
              " 0.05456280526131697,\n",
              " 0.05456238210294431,\n",
              " 0.05456196736542324,\n",
              " 0.05456156088117887,\n",
              " 0.054561162485970933,\n",
              " 0.054560772018827614,\n",
              " 0.0545603893219805,\n",
              " 0.05456001424080061,\n",
              " 0.054559646623736184,\n",
              " 0.05455928632225139,\n",
              " 0.05455893319076612,\n",
              " 0.05455858708659738,\n",
              " 0.05455824786990165,\n",
              " 0.05455791540361814,\n",
              " 0.05455758955341364,\n",
              " 0.05455727018762826,\n",
              " 0.05455695717722197,\n",
              " 0.054556650395722786,\n",
              " 0.05455634971917544,\n",
              " 0.054556055026091385,\n",
              " 0.05455576619739967,\n",
              " 0.05455548311639897,\n",
              " 0.05455520566871017,\n",
              " 0.05455493374223033,\n",
              " 0.0545546672270875,\n",
              " 0.05455440601559599,\n",
              " 0.05455415000221313,\n",
              " 0.054553899083496636,\n",
              " 0.05455365315806257,\n",
              " 0.05455341212654469,\n",
              " 0.054553175891553965,\n",
              " 0.05455294435763955,\n",
              " 0.05455271743125007,\n",
              " 0.0545524950206957,\n",
              " 0.054552277036111416,\n",
              " 0.05455206338942035,\n",
              " 0.05455185399429836,\n",
              " 0.05455164876613939,\n",
              " 0.05455144762202075,\n",
              " 0.05455125048067005,\n",
              " 0.054551057262432257,\n",
              " 0.05455086788923738,\n",
              " 0.05455068228456906,\n",
              " 0.054550500373433695,\n",
              " 0.05455032208232989,\n",
              " 0.05455014733921903,\n",
              " 0.054549976073496126,\n",
              " 0.05454980821596106,\n",
              " 0.054549643698791,\n",
              " 0.05454948245551258,\n",
              " 0.05454932442097539,\n",
              " 0.05454916953132552,\n",
              " 0.05454901772397965,\n",
              " 0.054548868937600005,\n",
              " 0.0545487231120693,\n",
              " 0.05454858018846665,\n",
              " 0.05454844010904371,\n",
              " 0.054548302817201244,\n",
              " 0.05454816825746648,\n",
              " 0.05454803637547043,\n",
              " 0.05454790711792607,\n",
              " 0.05454778043260691,\n",
              " 0.054547656268325515,\n",
              " 0.054547534574913396,\n",
              " 0.054547415303200134,\n",
              " 0.054547298404993984,\n",
              " 0.05454718383306214,\n",
              " 0.05454707154111174,\n",
              " 0.05454696148377116,\n",
              " 0.05454685361657163,\n",
              " 0.05454674789592937,\n",
              " 0.054546644279127914,\n",
              " 0.054546542724300776,\n",
              " 0.05454644319041474,\n",
              " 0.05454634563725302,\n",
              " 0.0545462500253992,\n",
              " 0.0545461563162213,\n",
              " 0.05454606447185601,\n",
              " 0.05454597445519363,\n",
              " 0.05454588622986279,\n",
              " 0.054545799760216035,\n",
              " 0.0545457150113153,\n",
              " 0.05454563194891762,\n",
              " 0.054545550539461696,\n",
              " 0.05454547075005393,\n",
              " 0.05454539254845543,\n",
              " 0.05454531590306866,\n",
              " 0.05454524078292514,\n",
              " 0.05454516715767246,\n",
              " 0.0545450949975623,\n",
              " 0.05454502427343836,\n",
              " 0.05454495495672444,\n",
              " 0.054544887019413166,\n",
              " 0.05454482043405435,\n",
              " 0.05454475517374422,\n",
              " 0.05454469121211424,\n",
              " 0.05454462852332068,\n",
              " 0.05454456708203415,\n",
              " 0.054544506863429175,\n",
              " 0.05454444784317449,\n",
              " 0.05454438999742283,\n",
              " 0.05454433330280165,\n",
              " 0.05454427773640343,\n",
              " 0.05454422327577652,\n",
              " 0.05454416989891612,\n",
              " 0.0545441175842552,\n",
              " 0.05454406631065603,\n",
              " 0.054544016057401536,\n",
              " 0.05454396680418678,\n",
              " 0.05454391853111098,\n",
              " 0.05454387121866941,\n",
              " 0.05454382484774539,\n",
              " 0.05454377939960282,\n",
              " 0.05454373485587826,\n",
              " 0.05454369119857378,\n",
              " 0.05454364841004971,\n",
              " 0.054543606473017245,\n",
              " 0.05454356537053172,\n",
              " 0.05454352508598569,\n",
              " 0.05454348560310207,\n",
              " 0.0545434469059279,\n",
              " 0.05454340897882745,\n",
              " 0.0545433718064763,\n",
              " 0.05454333537385499,\n",
              " 0.054543299666242794,\n",
              " 0.05454326466921208,\n",
              " 0.05454323036862232,\n",
              " 0.05454319675061424,\n",
              " 0.05454316380160453,\n",
              " 0.054543131508280156,\n",
              " 0.05454309985759289,\n",
              " 0.05454306883675433,\n",
              " 0.05454303843323043,\n",
              " 0.05454300863473669,\n",
              " 0.05454297942923297,\n",
              " 0.05454295080491874,\n",
              " 0.05454292275022842,\n",
              " 0.054542895253826364,\n",
              " 0.054542868304602775,\n",
              " 0.05454284189166873,\n",
              " 0.05454281600435202,\n",
              " 0.05454279063219296,\n",
              " 0.054542765764939834,\n",
              " 0.05454274139254507,\n",
              " 0.054542717505160966,\n",
              " 0.05454269409313576,\n",
              " 0.05454267114700991,\n",
              " 0.05454264865751192,\n",
              " 0.054542626615554986,\n",
              " 0.05454260501223295,\n",
              " 0.05454258383881706,\n",
              " 0.05454256308675212,\n",
              " 0.05454254274765327,\n",
              " 0.05454252281330254,\n",
              " 0.054542503275645304,\n",
              " 0.05454248412678752,\n",
              " 0.05454246535899196,\n",
              " 0.05454244696467557,\n",
              " 0.05454242893640606,\n",
              " 0.054542411266899085,\n",
              " 0.05454239394901534,\n",
              " 0.05454237697575743,\n",
              " 0.05454236034026742,\n",
              " 0.05454234403582361,\n",
              " 0.05454232805583828,\n",
              " 0.05454231239385459,\n",
              " 0.05454229704354445,\n",
              " 0.054542281998705415,\n",
              " 0.05454226725325873,\n",
              " 0.05454225280124643,\n",
              " 0.05454223863682911,\n",
              " 0.05454222475428377,\n",
              " 0.054542211148001014,\n",
              " 0.05454219781248335,\n",
              " 0.05454218474234248,\n",
              " 0.054542171932297365,\n",
              " 0.0545421593771722,\n",
              " 0.05454214707189397,\n",
              " 0.05454213501149084,\n",
              " 0.05454212319108968,\n",
              " 0.05454211160591454,\n",
              " 0.05454210025128438,\n",
              " 0.05454208912261132,\n",
              " 0.05454207821539891,\n",
              " 0.05454206752523997,\n",
              " 0.05454205704781527,\n",
              " 0.05454204677889124,\n",
              " 0.05454203671431885,\n",
              " 0.054542026850031414,\n",
              " 0.05454201718204334,\n",
              " 0.05454200770644821,\n",
              " 0.0545419984194174,\n",
              " 0.05454198931719852,\n",
              " 0.05454198039611383,\n",
              " 0.05454197165255866,\n",
              " 0.05454196308300029,\n",
              " 0.054541954683976136,\n",
              " 0.054541946452092524,\n",
              " 0.0545419383840234,\n",
              " 0.054541930476508876,\n",
              " 0.05454192272635387,\n",
              " 0.05454191513042697,\n",
              " 0.05454190768565899,\n",
              " 0.054541900389041914,\n",
              " 0.05454189323762751,\n",
              " 0.05454188622852624,\n",
              " 0.05454187935890609,\n",
              " 0.05454187262599142,\n",
              " 0.05454186602706171,\n",
              " 0.05454185955945071,\n",
              " 0.05454185322054515,\n",
              " 0.05454184700778387,\n",
              " 0.05454184091865646,\n",
              " 0.05454183495070277,\n",
              " 0.0545418291015113,\n",
              " 0.05454182336871873,\n",
              " 0.054541817750008784,\n",
              " 0.0545418122431111,\n",
              " 0.05454180684580075,\n",
              " 0.05454180155589685,\n",
              " 0.054541796371262,\n",
              " 0.054541791289801446,\n",
              " 0.054541786309461895,\n",
              " 0.054541781428231156,\n",
              " 0.05454177664413687,\n",
              " 0.054541771955246086,\n",
              " 0.05454176735966421,\n",
              " 0.05454176285553444,\n",
              " 0.05454175844103681,\n",
              " 0.05454175411438773,\n",
              " 0.054541749873838946,\n",
              " 0.054541745717677045,\n",
              " 0.05454174164422285,\n",
              " 0.05454173765183031,\n",
              " 0.05454173373888644,\n",
              " 0.0545417299038101,\n",
              " 0.05454172614505184,\n",
              " 0.05454172246109282,\n",
              " 0.054541718850444613,\n",
              " 0.0545417153116483,\n",
              " 0.054541711843274,\n",
              " 0.05454170844392042,\n",
              " 0.0545417051122139,\n",
              " 0.05454170184680839,\n",
              " 0.05454169864638442,\n",
              " 0.054541695509648914,\n",
              " 0.05454169243533443,\n",
              " 0.05454168942219879,\n",
              " 0.05454168646902458,\n",
              " 0.05454168357461849,\n",
              " 0.05454168073781114,\n",
              " 0.0545416779574562,\n",
              " 0.05454167523243037,\n",
              " 0.054541672561632545,\n",
              " 0.05454166994398356,\n",
              " 0.05454166737842584,\n",
              " 0.05454166486392267,\n",
              " 0.05454166239945817,\n",
              " 0.054541659984036456,\n",
              " 0.05454165761668169,\n",
              " 0.05454165529643725,\n",
              " 0.05454165302236566,\n",
              " 0.05454165079354813,\n",
              " 0.05454164860908404,\n",
              " 0.05454164646809081,\n",
              " 0.0545416443697033,\n",
              " 0.05454164231307376,\n",
              " 0.05454164029737112,\n",
              " 0.05454163832178098,\n",
              " 0.05454163638550505,\n",
              " 0.05454163448776104,\n",
              " 0.05454163262778212,\n",
              " 0.054541630804816756,\n",
              " 0.054541629018128424,\n",
              " 0.054541627266995234,\n",
              " 0.054541625550709565,\n",
              " 0.054541623868577936,\n",
              " 0.0545416222199208,\n",
              " 0.05454162060407192,\n",
              " 0.05454161902037838,\n",
              " 0.05454161746820037,\n",
              " 0.054541615946910746,\n",
              " 0.05454161445589475,\n",
              " 0.05454161299454995,\n",
              " 0.05454161156228595,\n",
              " 0.05454161015852397,\n",
              " 0.054541608782696906,\n",
              " 0.054541607434248754,\n",
              " 0.05454160611263473,\n",
              " 0.05454160481732084,\n",
              " 0.05454160354778366,\n",
              " 0.05454160230351032,\n",
              " 0.05454160108399798,\n",
              " 0.054541599888753955,\n",
              " 0.054541598717295296,\n",
              " 0.05454159756914861,\n",
              " 0.054541596443850114,\n",
              " 0.054541595340945,\n",
              " 0.05454159425998775,\n",
              " 0.0545415932005415,\n",
              " 0.054541592162178285,\n",
              " 0.05454159114447845,\n",
              " 0.05454159014703084,\n",
              " 0.05454158916943247,\n",
              " 0.05454158821128829,\n",
              " 0.0545415872722112,\n",
              " 0.05454158635182172,\n",
              " 0.054541585449748006,\n",
              " 0.05454158456562553,\n",
              " 0.05454158369909714,\n",
              " 0.0545415828498126,\n",
              " 0.05454158201742887,\n",
              " 0.05454158120160958,\n",
              " 0.05454158040202506,\n",
              " 0.05454157961835232,\n",
              " 0.05454157885027463,\n",
              " 0.054541578097481676,\n",
              " 0.05454157735966934,\n",
              " 0.05454157663653942,\n",
              " 0.05454157592779984,\n",
              " 0.054541575233164136,\n",
              " 0.05454157455235172,\n",
              " 0.05454157388508742,\n",
              " 0.05454157323110173,\n",
              " 0.05454157259013032,\n",
              " 0.05454157196191428,\n",
              " 0.0545415713461997,\n",
              " 0.05454157074273787,\n",
              " 0.054541570151284906,\n",
              " 0.054541569571601854,\n",
              " 0.054541569003454526,\n",
              " 0.054541568446613314,\n",
              " 0.054541567900853224,\n",
              " 0.05454156736595379,\n",
              " 0.05454156684169882,\n",
              " 0.05454156632787655,\n",
              " 0.05454156582427934,\n",
              " 0.0545415653307037,\n",
              " 0.05454156484695025,\n",
              " 0.05454156437282347,\n",
              " 0.054541563908131786,\n",
              " 0.054541563452687514,\n",
              " 0.05454156300630654,\n",
              " 0.05454156256880859,\n",
              " 0.05454156214001681,\n",
              " 0.05454156171975803,\n",
              " 0.05454156130786235,\n",
              " 0.05454156090416344,\n",
              " 0.05454156050849809,\n",
              " 0.05454156012070653,\n",
              " 0.054541559740631976,\n",
              " 0.054541559368120954,\n",
              " 0.054541559003022856,\n",
              " 0.054541558645190245,\n",
              " 0.05454155829447847,\n",
              " 0.0545415579507459,\n",
              " 0.05454155761385358,\n",
              " 0.054541557283665436,\n",
              " 0.054541556960048004,\n",
              " 0.0545415566428706,\n",
              " 0.054541556332005,\n",
              " 0.05454155602732562,\n",
              " 0.054541555728709355,\n",
              " 0.0545415554360356,\n",
              " 0.054541555149185995,\n",
              " 0.05454155486804474,\n",
              " 0.05454155459249819,\n",
              " 0.05454155432243497,\n",
              " 0.05454155405774608,\n",
              " 0.05454155379832443,\n",
              " 0.054541553544065334,\n",
              " 0.05454155329486596,\n",
              " 0.054541553050625635,\n",
              " 0.05454155281124573,\n",
              " 0.05454155257662948,\n",
              " 0.05454155234668207,\n",
              " 0.054541552121310635,\n",
              " 0.054541551900424055,\n",
              " 0.05454155168393319,\n",
              " 0.05454155147175041,\n",
              " 0.05454155126379012,\n",
              " 0.054541551059968225,\n",
              " 0.054541550860202404,\n",
              " 0.054541550664411874,\n",
              " 0.054541550472517616,\n",
              " 0.05454155028444202,\n",
              " 0.05454155010010921,\n",
              " 0.05454154991944453,\n",
              " 0.05454154974237515,\n",
              " 0.0545415495688294,\n",
              " 0.054541549398737205,\n",
              " 0.05454154923202988,\n",
              " 0.05454154906864,\n",
              " 0.054541548908501596,\n",
              " 0.054541548751549936,\n",
              " 0.05454154859772164,\n",
              " 0.054541548446954496,\n",
              " 0.05454154829918765,\n",
              " 0.05454154815436131,\n",
              " 0.05454154801241709,\n",
              " 0.05454154787329751,\n",
              " 0.054541547736946396,\n",
              " 0.054541547603308725,\n",
              " 0.05454154747233038,\n",
              " 0.05454154734395855,\n",
              " 0.05454154721814129,\n",
              " 0.05454154709482783,\n",
              " 0.05454154697396826,\n",
              " 0.05454154685551385,\n",
              " 0.05454154673941663,\n",
              " 0.05454154662562979,\n",
              " 0.05454154651410728,\n",
              " 0.05454154640480407,\n",
              " 0.05454154629767601,\n",
              " 0.05454154619267979,\n",
              " 0.05454154608977296,\n",
              " 0.05454154598891404,\n",
              " 0.054541545890062146,\n",
              " 0.05454154579317748,\n",
              " 0.05454154569822076,\n",
              " 0.054541545605153674,\n",
              " 0.05454154551393867,\n",
              " 0.054541545424538804,\n",
              " 0.05454154533691802,\n",
              " 0.05454154525104088,\n",
              " 0.05454154516687272,\n",
              " 0.05454154508437945,\n",
              " 0.054541545003527855,\n",
              " 0.05454154492428515,\n",
              " 0.05454154484661943,\n",
              " 0.0545415447704992,\n",
              " 0.054541544695893826,\n",
              " 0.05454154462277305,\n",
              " 0.05454154455110741,\n",
              " 0.05454154448086787,\n",
              " 0.05454154441202617,\n",
              " 0.054541544344554375,\n",
              " 0.054541544278425245,\n",
              " 0.05454154421361214,\n",
              " 0.054541544150088786,\n",
              " 0.05454154408782953,\n",
              " 0.05454154402680928,\n",
              " 0.054541543967003274,\n",
              " 0.05454154390838746,\n",
              " 0.05454154385093807,\n",
              " 0.05454154379463195,\n",
              " 0.05454154373944628,\n",
              " 0.05454154368535885,\n",
              " 0.05454154363234773,\n",
              " 0.05454154358039153,\n",
              " 0.05454154352946928,\n",
              " 0.05454154347956035,\n",
              " 0.05454154343064465,\n",
              " 0.05454154338270232,\n",
              " 0.0545415433357141,\n",
              " 0.054541543289660904,\n",
              " 0.0545415432445242,\n",
              " 0.0545415432002857,\n",
              " 0.05454154315692752,\n",
              " 0.05454154311443221,\n",
              " 0.05454154307278255,\n",
              " 0.05454154303196168,\n",
              " 0.054541542991953205,\n",
              " 0.054541542952740836,\n",
              " 0.05454154291430884,\n",
              " 0.05454154287664163,\n",
              " 0.05454154283972395,\n",
              " 0.054541542803541,\n",
              " 0.054541542768078044,\n",
              " 0.05454154273332085,\n",
              " 0.0545415426992553,\n",
              " 0.054541542665867616,\n",
              " 0.05454154263314439,\n",
              " 0.054541542601072364,\n",
              " 0.05454154256963853,\n",
              " 0.054541542538830284,\n",
              " 0.05454154250863505,\n",
              " 0.05454154247904077,\n",
              " 0.054541542450035375,\n",
              " 0.05454154242160722,\n",
              " 0.05454154239374473,\n",
              " 0.05454154236643677,\n",
              " 0.05454154233967221,\n",
              " 0.054541542313440244,\n",
              " 0.05454154228773033,\n",
              " 0.054541542262532015,\n",
              " 0.05454154223783517,\n",
              " 0.05454154221362976,\n",
              " 0.05454154218990607,\n",
              " 0.05454154216665447,\n",
              " 0.054541542143865564,\n",
              " 0.05454154212153018,\n",
              " 0.05454154209963925,\n",
              " 0.054541542078183985,\n",
              " 0.05454154205715564,\n",
              " 0.054541542036545744,\n",
              " 0.05454154201634604,\n",
              " 0.054541541996548294,\n",
              " 0.05454154197714448,\n",
              " 0.054541541958126875,\n",
              " 0.05454154193948764,\n",
              " 0.054541541921219384,\n",
              " 0.05454154190331464,\n",
              " 0.05454154188576623,\n",
              " 0.05454154186856699,\n",
              " 0.05454154185171005]"
            ]
          },
          "metadata": {},
          "execution_count": 66
        }
      ]
    },
    {
      "cell_type": "markdown",
      "metadata": {
        "id": "kEIEsQgISd2-"
      },
      "source": [
        "Se utilizan los parametros finales para grafical la linea."
      ]
    },
    {
      "cell_type": "code",
      "source": [
        "X"
      ],
      "metadata": {
        "colab": {
          "base_uri": "https://localhost:8080/"
        },
        "id": "9EIbIH9PeLpx",
        "outputId": "2c6216e9-9cf6-4f25-bf30-175dc77dac4e"
      },
      "execution_count": 67,
      "outputs": [
        {
          "output_type": "execute_result",
          "data": {
            "text/plain": [
              "array([[ 1.        , -1.6955825 ],\n",
              "       [ 1.        , -1.62186152],\n",
              "       [ 1.        , -1.54814054],\n",
              "       [ 1.        , -1.47441956],\n",
              "       [ 1.        , -1.40069858],\n",
              "       [ 1.        , -1.32697761],\n",
              "       [ 1.        , -1.25325663],\n",
              "       [ 1.        , -1.17953565],\n",
              "       [ 1.        , -1.10581467],\n",
              "       [ 1.        , -1.03209369],\n",
              "       [ 1.        , -0.95837272],\n",
              "       [ 1.        , -0.88465174],\n",
              "       [ 1.        , -0.81093076],\n",
              "       [ 1.        , -0.73720978],\n",
              "       [ 1.        , -0.6634888 ],\n",
              "       [ 1.        , -0.58976782],\n",
              "       [ 1.        , -0.51604685],\n",
              "       [ 1.        , -0.44232587],\n",
              "       [ 1.        , -0.36860489],\n",
              "       [ 1.        , -0.29488391],\n",
              "       [ 1.        , -0.22116293],\n",
              "       [ 1.        , -0.14744196],\n",
              "       [ 1.        , -0.07372098],\n",
              "       [ 1.        ,  0.        ],\n",
              "       [ 1.        ,  0.07372098],\n",
              "       [ 1.        ,  0.14744196],\n",
              "       [ 1.        ,  0.22116293],\n",
              "       [ 1.        ,  0.29488391],\n",
              "       [ 1.        ,  0.36860489],\n",
              "       [ 1.        ,  0.44232587],\n",
              "       [ 1.        ,  0.51604685],\n",
              "       [ 1.        ,  0.58976782],\n",
              "       [ 1.        ,  0.6634888 ],\n",
              "       [ 1.        ,  0.73720978],\n",
              "       [ 1.        ,  0.81093076],\n",
              "       [ 1.        ,  0.88465174],\n",
              "       [ 1.        ,  0.95837272],\n",
              "       [ 1.        ,  1.03209369],\n",
              "       [ 1.        ,  1.10581467],\n",
              "       [ 1.        ,  1.17953565],\n",
              "       [ 1.        ,  1.25325663],\n",
              "       [ 1.        ,  1.32697761],\n",
              "       [ 1.        ,  1.40069858],\n",
              "       [ 1.        ,  1.47441956],\n",
              "       [ 1.        ,  1.54814054],\n",
              "       [ 1.        ,  1.62186152],\n",
              "       [ 1.        ,  1.6955825 ]])"
            ]
          },
          "metadata": {},
          "execution_count": 67
        }
      ]
    },
    {
      "cell_type": "code",
      "source": [
        "a=np.dot(X, theta)\n",
        "a"
      ],
      "metadata": {
        "colab": {
          "base_uri": "https://localhost:8080/"
        },
        "id": "tZxxqjQFdZBi",
        "outputId": "fdc99ca5-0021-40f6-9c74-0926dfbcdc1d"
      },
      "execution_count": 68,
      "outputs": [
        {
          "output_type": "execute_result",
          "data": {
            "text/plain": [
              "array([-1.60036402e+00, -1.53078297e+00, -1.46120193e+00, -1.39162088e+00,\n",
              "       -1.32203984e+00, -1.25245880e+00, -1.18287775e+00, -1.11329671e+00,\n",
              "       -1.04371566e+00, -9.74134619e-01, -9.04553575e-01, -8.34972531e-01,\n",
              "       -7.65391486e-01, -6.95810442e-01, -6.26229398e-01, -5.56648354e-01,\n",
              "       -4.87067310e-01, -4.17486265e-01, -3.47905221e-01, -2.78324177e-01,\n",
              "       -2.08743133e-01, -1.39162088e-01, -6.95810442e-02,  1.10809707e-16,\n",
              "        6.95810442e-02,  1.39162088e-01,  2.08743133e-01,  2.78324177e-01,\n",
              "        3.47905221e-01,  4.17486265e-01,  4.87067310e-01,  5.56648354e-01,\n",
              "        6.26229398e-01,  6.95810442e-01,  7.65391486e-01,  8.34972531e-01,\n",
              "        9.04553575e-01,  9.74134619e-01,  1.04371566e+00,  1.11329671e+00,\n",
              "        1.18287775e+00,  1.25245880e+00,  1.32203984e+00,  1.39162088e+00,\n",
              "        1.46120193e+00,  1.53078297e+00,  1.60036402e+00])"
            ]
          },
          "metadata": {},
          "execution_count": 68
        }
      ]
    },
    {
      "cell_type": "code",
      "metadata": {
        "id": "PbQqiQ3ZSd2-",
        "colab": {
          "base_uri": "https://localhost:8080/",
          "height": 449
        },
        "outputId": "3d9a7dcd-b307-4b57-effd-081b65a8ece0"
      },
      "source": [
        "# grafica la linea de ajuste\n",
        "plotData(X[:, 1], y)\n",
        "pyplot.plot(X[:, 1], np.dot(X, theta), '-')\n",
        "pyplot.legend(['Datos de entrenamiento', 'Regresión linear']);"
      ],
      "execution_count": 69,
      "outputs": [
        {
          "output_type": "display_data",
          "data": {
            "text/plain": [
              "<Figure size 640x480 with 1 Axes>"
            ],
            "image/png": "[encoded data removed]"
          },
          "metadata": {}
        }
      ]
    },
    {
      "cell_type": "markdown",
      "metadata": {
        "id": "Xl3oHvXWSd2_"
      },
      "source": [
        "Los valores finales de $\\theta$ se utilizaran para realizar predicciones."
      ]
    },
    {
      "cell_type": "code",
      "source": [
        "#Predicción año 2020\n",
        "year = 2020\n",
        "# Normalizar el año 2020 (usando la misma media y desviación estándar que usaste para normalizar los datos de entrenamiento)\n",
        "X_norm = (year - np.mean(data[1:, 0])) / np.std(data[1:, 0])\n",
        "X_norm\n",
        "#Se obtiene y predecida y normalizada\n",
        "y_pred_norm = theta[0] + theta[1] * X_norm\n",
        "#Calculo de y predecida\n",
        "y_pred = y_pred_norm * np.std(data[1:, 1]) + np.mean(data[1:, 1])\n",
        "\n",
        "print(f\"La predicción para el año {year} es: {y_pred}\")"
      ],
      "metadata": {
        "colab": {
          "base_uri": "https://localhost:8080/"
        },
        "id": "h6whKvwRvHJu",
        "outputId": "a07c1fde-c0ea-4bb2-80e4-87432b31e781"
      },
      "execution_count": 72,
      "outputs": [
        {
          "output_type": "stream",
          "name": "stdout",
          "text": [
            "La predicción para el año 2020 es: 41287.72841590764\n"
          ]
        }
      ]
    },
    {
      "cell_type": "code",
      "metadata": {
        "id": "Z55waXwbSd2_",
        "colab": {
          "base_uri": "https://localhost:8080/"
        },
        "outputId": "663a9550-f9a4-4d9c-b703-4bfe219463cc"
      },
      "source": [
        "#Predicción año 2025\n",
        "year = 2025\n",
        "# Normalizar el año 2025\n",
        "X_norm = (year - np.mean(data[1:, 0])) / np.std(data[1:, 0])\n",
        "X_norm\n",
        "#Se obtiene y predecida y normalizada\n",
        "y_pred_norm = theta[0] + theta[1] * X_norm\n",
        "#Calculo de y predecida\n",
        "y_pred = y_pred_norm * np.std(data[1:, 1]) + np.mean(data[1:, 1])\n",
        "\n",
        "print(f\"La predicción para el año {year} es: {y_pred}\")"
      ],
      "execution_count": 73,
      "outputs": [
        {
          "output_type": "stream",
          "name": "stdout",
          "text": [
            "La predicción para el año 2025 es: 45429.87496266752\n"
          ]
        }
      ]
    },
    {
      "cell_type": "markdown",
      "metadata": {
        "id": "3k081p1xSd2_"
      },
      "source": [
        "### 1.4 Visualizar $J(\\theta)$\n",
        "\n",
        "Para comprender mejor la función de costo $J(\\theta)$, se graficará la funcion de costo en 2 dimenciones con los valores de $\\theta_0$ y $\\theta_1$.\n",
        "\n",
        "El proposito de graficar el costo para observar como $J(\\theta)$ varia con cambios en $\\theta_0$ y $\\theta_1$. La función de costo  $J(\\theta)$ tiene forma de una cuenca con un minimo global. (Esto es mas facil observar en los contornos de una superficie 3D). El minimo es el punto optimo para $\\theta_0$ y $\\theta_1$, en cada paso del descenso por el gradiente se mueve mas cerca a este punto."
      ]
    },
    {
      "cell_type": "code",
      "metadata": {
        "id": "NwOIhT8NSd2_",
        "colab": {
          "base_uri": "https://localhost:8080/",
          "height": 1000
        },
        "outputId": "a327a366-5c3e-499b-d937-42c0634dd060"
      },
      "source": [
        "# cuadrícula sobre la que se calcula J\n",
        "theta0_vals = np.linspace(-10, 10, 100)\n",
        "theta1_vals = np.linspace(-1, 4, 100)\n",
        "\n",
        "# inicializa J_vals con una matriz de 0's\n",
        "J_vals = np.zeros((theta0_vals.shape[0], theta1_vals.shape[0]))\n",
        "\n",
        "# Completar J_vals\n",
        "for i, theta0 in enumerate(theta0_vals):\n",
        "    for j, theta1 in enumerate(theta1_vals):\n",
        "        J_vals[i, j] = computeCost(X, y, [theta0, theta1])\n",
        "\n",
        "# Debido a la forma en que funcionan las cuadrículas en el comando surf,\n",
        "# se necesita transponer J_vals antes de llamar a surf, o de lo contrario los ejes se invertirán\n",
        "J_vals = J_vals.T\n",
        "\n",
        "# graficar la superficie\n",
        "fig = pyplot.figure(figsize=(4, 15))\n",
        "ax = fig.add_subplot(311, projection='3d')\n",
        "ax.plot_surface(theta0_vals, theta1_vals, J_vals, cmap='viridis')\n",
        "pyplot.xlabel('theta0')\n",
        "pyplot.ylabel('theta1')\n",
        "pyplot.title('Surface')\n",
        "\n",
        "# graficar contornos\n",
        "# Grafica J_vals como 15 contours spaciados logaritmicamente entre 0.01 y 100\n",
        "ax = pyplot.subplot(312)\n",
        "pyplot.contour(theta0_vals, theta1_vals, J_vals, linewidths=2, cmap='viridis', levels=np.logspace(-2, 3, 20))\n",
        "pyplot.xlabel('theta0')\n",
        "pyplot.ylabel('theta1')\n",
        "pyplot.plot(theta[0], theta[1], 'ro', ms=10, lw=2)\n",
        "pyplot.title('Contorno, mostrando el minimo')\n",
        "\n",
        "\n",
        "# Grafica la convergencia del costo\n",
        "ax = pyplot.subplot(313)\n",
        "pyplot.plot(np.arange(len(J_history)), J_history, lw=2)\n",
        "pyplot.xlabel('Numero de iteraciones')\n",
        "pyplot.ylabel('Costo J')\n",
        "\n",
        "pass"
      ],
      "execution_count": 74,
      "outputs": [
        {
          "output_type": "display_data",
          "data": {
            "text/plain": [
              "<Figure size 400x1500 with 3 Axes>"
            ],
            "image/png": "[encoded data removed]"
          },
          "metadata": {}
        }
      ]
    }
  ]
}