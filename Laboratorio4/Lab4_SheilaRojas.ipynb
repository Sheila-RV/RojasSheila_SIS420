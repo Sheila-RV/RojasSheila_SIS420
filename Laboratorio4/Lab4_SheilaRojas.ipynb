{
  "cells": [
    {
      "cell_type": "code",
      "source": [
        "from google.colab import drive\n",
        "drive.mount('/content/drive')"
      ],
      "metadata": {
        "colab": {
          "base_uri": "https://localhost:8080/"
        },
        "id": "clyp4NcQycWP",
        "outputId": "d69dc0f4-dc7f-4d97-ad18-fb2906790aa4"
      },
      "execution_count": null,
      "outputs": [
        {
          "output_type": "stream",
          "name": "stdout",
          "text": [
            "Mounted at /content/drive\n"
          ]
        }
      ]
    },
    {
      "cell_type": "code",
      "execution_count": null,
      "metadata": {
        "id": "20Q29kX8SxgJ"
      },
      "outputs": [],
      "source": [
        "\n",
        "import os\n",
        "import numpy as np\n",
        "import pandas as pd\n",
        "from matplotlib import pyplot\n",
        "from scipy import optimize\n",
        "%matplotlib inline"
      ]
    },
    {
      "cell_type": "code",
      "source": [
        "#Lectura de archivo con pandas\n",
        "df = pd.read_csv('/content/drive/MyDrive/Colab Notebooks/machine learning/datasets/train.csv')"
      ],
      "metadata": {
        "colab": {
          "base_uri": "https://localhost:8080/"
        },
        "id": "7koEyJNRO0m1",
        "outputId": "2d77e42c-06cf-435a-e124-958186725412"
      },
      "execution_count": null,
      "outputs": [
        {
          "output_type": "stream",
          "name": "stderr",
          "text": [
            "<ipython-input-3-e415a641d4a3>:2: DtypeWarning: Columns (26) have mixed types. Specify dtype option on import or set low_memory=False.\n",
            "  df = pd.read_csv('/content/drive/MyDrive/Colab Notebooks/machine learning/datasets/train.csv')\n"
          ]
        }
      ]
    },
    {
      "cell_type": "code",
      "source": [
        "print(df.info())"
      ],
      "metadata": {
        "colab": {
          "base_uri": "https://localhost:8080/"
        },
        "id": "DlHgKjJNQpzu",
        "outputId": "1cf29870-5826-4cb2-b4ad-cbf73144fe5e"
      },
      "execution_count": null,
      "outputs": [
        {
          "output_type": "stream",
          "name": "stdout",
          "text": [
            "<class 'pandas.core.frame.DataFrame'>\n",
            "RangeIndex: 100000 entries, 0 to 99999\n",
            "Data columns (total 28 columns):\n",
            " #   Column                    Non-Null Count   Dtype  \n",
            "---  ------                    --------------   -----  \n",
            " 0   ID                        100000 non-null  object \n",
            " 1   Customer_ID               100000 non-null  object \n",
            " 2   Month                     100000 non-null  object \n",
            " 3   Name                      90015 non-null   object \n",
            " 4   Age                       100000 non-null  object \n",
            " 5   SSN                       100000 non-null  object \n",
            " 6   Occupation                100000 non-null  object \n",
            " 7   Annual_Income             100000 non-null  object \n",
            " 8   Monthly_Inhand_Salary     84998 non-null   float64\n",
            " 9   Num_Bank_Accounts         100000 non-null  int64  \n",
            " 10  Num_Credit_Card           100000 non-null  int64  \n",
            " 11  Interest_Rate             100000 non-null  int64  \n",
            " 12  Num_of_Loan               100000 non-null  object \n",
            " 13  Type_of_Loan              88592 non-null   object \n",
            " 14  Delay_from_due_date       100000 non-null  int64  \n",
            " 15  Num_of_Delayed_Payment    92998 non-null   object \n",
            " 16  Changed_Credit_Limit      100000 non-null  object \n",
            " 17  Num_Credit_Inquiries      98035 non-null   float64\n",
            " 18  Credit_Mix                100000 non-null  object \n",
            " 19  Outstanding_Debt          100000 non-null  object \n",
            " 20  Credit_Utilization_Ratio  100000 non-null  float64\n",
            " 21  Credit_History_Age        90970 non-null   object \n",
            " 22  Payment_of_Min_Amount     100000 non-null  object \n",
            " 23  Total_EMI_per_month       100000 non-null  float64\n",
            " 24  Amount_invested_monthly   95521 non-null   object \n",
            " 25  Payment_Behaviour         100000 non-null  object \n",
            " 26  Monthly_Balance           98800 non-null   object \n",
            " 27  Credit_Score              100000 non-null  object \n",
            "dtypes: float64(4), int64(4), object(20)\n",
            "memory usage: 21.4+ MB\n",
            "None\n"
          ]
        }
      ]
    },
    {
      "cell_type": "code",
      "source": [
        "#revisar datos faltantes\n",
        "print(df.isnull().sum())  # Sumar los valores nulos por columna\n"
      ],
      "metadata": {
        "colab": {
          "base_uri": "https://localhost:8080/"
        },
        "id": "sGnkXMocRUnh",
        "outputId": "dd491d38-d1c0-4b51-ca3a-43d8a27587e6"
      },
      "execution_count": null,
      "outputs": [
        {
          "output_type": "stream",
          "name": "stdout",
          "text": [
            "ID                              0\n",
            "Customer_ID                     0\n",
            "Month                           0\n",
            "Name                         9985\n",
            "Age                             0\n",
            "SSN                             0\n",
            "Occupation                      0\n",
            "Annual_Income                   0\n",
            "Monthly_Inhand_Salary       15002\n",
            "Num_Bank_Accounts               0\n",
            "Num_Credit_Card                 0\n",
            "Interest_Rate                   0\n",
            "Num_of_Loan                     0\n",
            "Type_of_Loan                11408\n",
            "Delay_from_due_date             0\n",
            "Num_of_Delayed_Payment       7002\n",
            "Changed_Credit_Limit            0\n",
            "Num_Credit_Inquiries         1965\n",
            "Credit_Mix                      0\n",
            "Outstanding_Debt                0\n",
            "Credit_Utilization_Ratio        0\n",
            "Credit_History_Age           9030\n",
            "Payment_of_Min_Amount           0\n",
            "Total_EMI_per_month             0\n",
            "Amount_invested_monthly      4479\n",
            "Payment_Behaviour               0\n",
            "Monthly_Balance              1200\n",
            "Credit_Score                    0\n",
            "dtype: int64\n"
          ]
        }
      ]
    },
    {
      "cell_type": "code",
      "source": [
        "#Eliminando flas con valores nulos\n",
        "df = df.dropna()"
      ],
      "metadata": {
        "id": "8EU2m0OjRjhK"
      },
      "execution_count": null,
      "outputs": []
    },
    {
      "cell_type": "code",
      "source": [
        "#nuevo tamaño del dataset\n",
        "print(df.shape)"
      ],
      "metadata": {
        "colab": {
          "base_uri": "https://localhost:8080/"
        },
        "id": "93RYXUk-R1NX",
        "outputId": "64bf0035-f25d-49f2-e9fb-2e3c3c60506e"
      },
      "execution_count": null,
      "outputs": [
        {
          "output_type": "stream",
          "name": "stdout",
          "text": [
            "(53049, 28)\n"
          ]
        }
      ]
    },
    {
      "cell_type": "code",
      "source": [
        "#Eliminar columnas xon valores nulos\n",
        "df = df.dropna(axis=1)  # Elimina las columnas con algún valor nulo\n"
      ],
      "metadata": {
        "id": "XAXY8zr1SFtl"
      },
      "execution_count": null,
      "outputs": []
    },
    {
      "cell_type": "code",
      "source": [
        "#nuevo tamaño del dataset\n",
        "print(df.shape)"
      ],
      "metadata": {
        "colab": {
          "base_uri": "https://localhost:8080/"
        },
        "id": "XcO8Ww-vSLC0",
        "outputId": "c70a1c4d-5724-475f-ee1a-9e946c5eba62"
      },
      "execution_count": null,
      "outputs": [
        {
          "output_type": "stream",
          "name": "stdout",
          "text": [
            "(53049, 28)\n"
          ]
        }
      ]
    },
    {
      "cell_type": "code",
      "source": [
        "#Eliminar columnas con datos que no son relevantes para la regresion\n",
        "df = df.drop(['ID', 'Customer_ID', 'Month', 'Name','SSN','Occupation', 'Type_of_Loan','Credit_Mix','Credit_History_Age','Payment_of_Min_Amount','Payment_Behaviour','Num_of_Delayed_Payment' ], axis=1)"
      ],
      "metadata": {
        "id": "QdW4VbPFSVGi"
      },
      "execution_count": null,
      "outputs": []
    },
    {
      "cell_type": "code",
      "source": [
        "print(df.shape)\n",
        "print(df.head())"
      ],
      "metadata": {
        "colab": {
          "base_uri": "https://localhost:8080/"
        },
        "id": "bodNH7dkT7n4",
        "outputId": "d3fffb9f-8be4-46bc-ca7f-d655622ec907"
      },
      "execution_count": null,
      "outputs": [
        {
          "output_type": "stream",
          "name": "stdout",
          "text": [
            "(53049, 16)\n",
            "    Age Annual_Income  Monthly_Inhand_Salary  Num_Bank_Accounts  \\\n",
            "0    23      19114.12            1824.843333                  3   \n",
            "6    23      19114.12            1824.843333                  3   \n",
            "8   28_      34847.84            3037.986667                  2   \n",
            "9    28      34847.84            3037.986667                  2   \n",
            "10   28     34847.84_            3037.986667                  2   \n",
            "\n",
            "    Num_Credit_Card  Interest_Rate Num_of_Loan  Delay_from_due_date  \\\n",
            "0                 4              3           4                    3   \n",
            "6                 4              3           4                    3   \n",
            "8                 4              6           1                    3   \n",
            "9                 4              6           1                    7   \n",
            "10             1385              6           1                    3   \n",
            "\n",
            "   Changed_Credit_Limit  Num_Credit_Inquiries Outstanding_Debt  \\\n",
            "0                 11.27                   4.0           809.98   \n",
            "6                 11.27                   4.0           809.98   \n",
            "8                  5.42                   2.0           605.03   \n",
            "9                  7.42                   2.0           605.03   \n",
            "10                 5.42                   2.0           605.03   \n",
            "\n",
            "    Credit_Utilization_Ratio  Total_EMI_per_month Amount_invested_monthly  \\\n",
            "0                  26.822620            49.574949       80.41529543900253   \n",
            "6                  22.537593            49.574949       178.3440674122349   \n",
            "8                  24.464031            18.816215        104.291825168246   \n",
            "9                  38.550848            18.816215       40.39123782853101   \n",
            "10                 33.224951            18.816215       58.51597569589465   \n",
            "\n",
            "       Monthly_Balance Credit_Score  \n",
            "0   312.49408867943663         Good  \n",
            "6    244.5653167062043         Good  \n",
            "8   470.69062692529184     Standard  \n",
            "9    484.5912142650067         Good  \n",
            "10  466.46647639764313     Standard  \n"
          ]
        }
      ]
    },
    {
      "cell_type": "code",
      "source": [
        "print(df.info())"
      ],
      "metadata": {
        "colab": {
          "base_uri": "https://localhost:8080/"
        },
        "id": "pnUaLanTUq_w",
        "outputId": "9fa1bb4c-6207-4208-d87c-7e1b972b3c29"
      },
      "execution_count": null,
      "outputs": [
        {
          "output_type": "stream",
          "name": "stdout",
          "text": [
            "<class 'pandas.core.frame.DataFrame'>\n",
            "Index: 53049 entries, 0 to 99999\n",
            "Data columns (total 16 columns):\n",
            " #   Column                    Non-Null Count  Dtype  \n",
            "---  ------                    --------------  -----  \n",
            " 0   Age                       53049 non-null  object \n",
            " 1   Annual_Income             53049 non-null  object \n",
            " 2   Monthly_Inhand_Salary     53049 non-null  float64\n",
            " 3   Num_Bank_Accounts         53049 non-null  int64  \n",
            " 4   Num_Credit_Card           53049 non-null  int64  \n",
            " 5   Interest_Rate             53049 non-null  int64  \n",
            " 6   Num_of_Loan               53049 non-null  object \n",
            " 7   Delay_from_due_date       53049 non-null  int64  \n",
            " 8   Changed_Credit_Limit      53049 non-null  object \n",
            " 9   Num_Credit_Inquiries      53049 non-null  float64\n",
            " 10  Outstanding_Debt          53049 non-null  object \n",
            " 11  Credit_Utilization_Ratio  53049 non-null  float64\n",
            " 12  Total_EMI_per_month       53049 non-null  float64\n",
            " 13  Amount_invested_monthly   53049 non-null  object \n",
            " 14  Monthly_Balance           53049 non-null  object \n",
            " 15  Credit_Score              53049 non-null  object \n",
            "dtypes: float64(4), int64(4), object(8)\n",
            "memory usage: 6.9+ MB\n",
            "None\n"
          ]
        }
      ]
    },
    {
      "cell_type": "markdown",
      "source": [],
      "metadata": {
        "id": "ZkRa62PQcZCy"
      }
    },
    {
      "cell_type": "code",
      "source": [
        "# Limpiar los guiones bajos en todas las columnas de tipo 'object'\n",
        "df_cleaned = df.applymap(lambda x: x.replace('_', '') if isinstance(x, str) else x)\n",
        "\n",
        "print(\"Dataset después de limpiar los guiones bajos:\")\n",
        "print(df_cleaned)"
      ],
      "metadata": {
        "colab": {
          "base_uri": "https://localhost:8080/"
        },
        "id": "xpJS5j-KcCmX",
        "outputId": "a6713834-acb7-4a0a-a4bf-604e185d6c1e"
      },
      "execution_count": null,
      "outputs": [
        {
          "output_type": "stream",
          "name": "stderr",
          "text": [
            "<ipython-input-13-a17825477eaa>:2: FutureWarning: DataFrame.applymap has been deprecated. Use DataFrame.map instead.\n",
            "  df_cleaned = df.applymap(lambda x: x.replace('_', '') if isinstance(x, str) else x)\n"
          ]
        },
        {
          "output_type": "stream",
          "name": "stdout",
          "text": [
            "Dataset después de limpiar los guiones bajos:\n",
            "      Age Annual_Income  Monthly_Inhand_Salary  Num_Bank_Accounts  \\\n",
            "0      23      19114.12            1824.843333                  3   \n",
            "6      23      19114.12            1824.843333                  3   \n",
            "8      28      34847.84            3037.986667                  2   \n",
            "9      28      34847.84            3037.986667                  2   \n",
            "10     28      34847.84            3037.986667                  2   \n",
            "...    ..           ...                    ...                ...   \n",
            "99994  25      39628.99            3359.415833                  4   \n",
            "99995  25      39628.99            3359.415833                  4   \n",
            "99996  25      39628.99            3359.415833                  4   \n",
            "99997  25      39628.99            3359.415833                  4   \n",
            "99999  25      39628.99            3359.415833                  4   \n",
            "\n",
            "       Num_Credit_Card  Interest_Rate Num_of_Loan  Delay_from_due_date  \\\n",
            "0                    4              3           4                    3   \n",
            "6                    4              3           4                    3   \n",
            "8                    4              6           1                    3   \n",
            "9                    4              6           1                    7   \n",
            "10                1385              6           1                    3   \n",
            "...                ...            ...         ...                  ...   \n",
            "99994                6              7           2                   20   \n",
            "99995                6              7           2                   23   \n",
            "99996                6              7           2                   18   \n",
            "99997                6           5729           2                   27   \n",
            "99999                6              7           2                   18   \n",
            "\n",
            "      Changed_Credit_Limit  Num_Credit_Inquiries Outstanding_Debt  \\\n",
            "0                    11.27                   4.0           809.98   \n",
            "6                    11.27                   4.0           809.98   \n",
            "8                     5.42                   2.0           605.03   \n",
            "9                     7.42                   2.0           605.03   \n",
            "10                    5.42                   2.0           605.03   \n",
            "...                    ...                   ...              ...   \n",
            "99994                  9.5                   3.0           502.38   \n",
            "99995                 11.5                   3.0           502.38   \n",
            "99996                 11.5                   3.0           502.38   \n",
            "99997                 11.5                   3.0           502.38   \n",
            "99999                 11.5                   3.0           502.38   \n",
            "\n",
            "       Credit_Utilization_Ratio  Total_EMI_per_month Amount_invested_monthly  \\\n",
            "0                     26.822620            49.574949       80.41529543900253   \n",
            "6                     22.537593            49.574949       178.3440674122349   \n",
            "8                     24.464031            18.816215        104.291825168246   \n",
            "9                     38.550848            18.816215       40.39123782853101   \n",
            "10                    33.224951            18.816215       58.51597569589465   \n",
            "...                         ...                  ...                     ...   \n",
            "99994                 39.323569            35.104023      140.58140274528395   \n",
            "99995                 34.663572            35.104023       60.97133255718485   \n",
            "99996                 40.565631            35.104023       54.18595028760385   \n",
            "99997                 41.255522            35.104023       24.02847744864441   \n",
            "99999                 34.192463            35.104023       167.1638651610451   \n",
            "\n",
            "          Monthly_Balance Credit_Score  \n",
            "0      312.49408867943663         Good  \n",
            "6       244.5653167062043         Good  \n",
            "8      470.69062692529184     Standard  \n",
            "9       484.5912142650067         Good  \n",
            "10     466.46647639764313     Standard  \n",
            "...                   ...          ...  \n",
            "99994          410.256158         Poor  \n",
            "99995          479.866228         Poor  \n",
            "99996           496.65161         Poor  \n",
            "99997          516.809083         Poor  \n",
            "99999          393.673696         Poor  \n",
            "\n",
            "[53049 rows x 16 columns]\n"
          ]
        }
      ]
    },
    {
      "cell_type": "code",
      "source": [
        "df_cleaned.info()"
      ],
      "metadata": {
        "colab": {
          "base_uri": "https://localhost:8080/"
        },
        "id": "K2JEe1c4dM9g",
        "outputId": "acd07a7a-c7bf-4ff3-bb75-f91e7969182b"
      },
      "execution_count": null,
      "outputs": [
        {
          "output_type": "stream",
          "name": "stdout",
          "text": [
            "<class 'pandas.core.frame.DataFrame'>\n",
            "Index: 53049 entries, 0 to 99999\n",
            "Data columns (total 16 columns):\n",
            " #   Column                    Non-Null Count  Dtype  \n",
            "---  ------                    --------------  -----  \n",
            " 0   Age                       53049 non-null  object \n",
            " 1   Annual_Income             53049 non-null  object \n",
            " 2   Monthly_Inhand_Salary     53049 non-null  float64\n",
            " 3   Num_Bank_Accounts         53049 non-null  int64  \n",
            " 4   Num_Credit_Card           53049 non-null  int64  \n",
            " 5   Interest_Rate             53049 non-null  int64  \n",
            " 6   Num_of_Loan               53049 non-null  object \n",
            " 7   Delay_from_due_date       53049 non-null  int64  \n",
            " 8   Changed_Credit_Limit      53049 non-null  object \n",
            " 9   Num_Credit_Inquiries      53049 non-null  float64\n",
            " 10  Outstanding_Debt          53049 non-null  object \n",
            " 11  Credit_Utilization_Ratio  53049 non-null  float64\n",
            " 12  Total_EMI_per_month       53049 non-null  float64\n",
            " 13  Amount_invested_monthly   53049 non-null  object \n",
            " 14  Monthly_Balance           53049 non-null  object \n",
            " 15  Credit_Score              53049 non-null  object \n",
            "dtypes: float64(4), int64(4), object(8)\n",
            "memory usage: 6.9+ MB\n"
          ]
        }
      ]
    },
    {
      "cell_type": "code",
      "source": [
        "df_cleaned.head()"
      ],
      "metadata": {
        "colab": {
          "base_uri": "https://localhost:8080/",
          "height": 226
        },
        "id": "VD2taJIYgwun",
        "outputId": "70c46cdf-c8af-4b99-ec2d-c9bf0d6a63dd"
      },
      "execution_count": null,
      "outputs": [
        {
          "output_type": "execute_result",
          "data": {
            "text/plain": [
              "   Age Annual_Income  Monthly_Inhand_Salary  Num_Bank_Accounts  \\\n",
              "0   23      19114.12            1824.843333                  3   \n",
              "6   23      19114.12            1824.843333                  3   \n",
              "8   28      34847.84            3037.986667                  2   \n",
              "9   28      34847.84            3037.986667                  2   \n",
              "10  28      34847.84            3037.986667                  2   \n",
              "\n",
              "    Num_Credit_Card  Interest_Rate Num_of_Loan  Delay_from_due_date  \\\n",
              "0                 4              3           4                    3   \n",
              "6                 4              3           4                    3   \n",
              "8                 4              6           1                    3   \n",
              "9                 4              6           1                    7   \n",
              "10             1385              6           1                    3   \n",
              "\n",
              "   Changed_Credit_Limit  Num_Credit_Inquiries Outstanding_Debt  \\\n",
              "0                 11.27                   4.0           809.98   \n",
              "6                 11.27                   4.0           809.98   \n",
              "8                  5.42                   2.0           605.03   \n",
              "9                  7.42                   2.0           605.03   \n",
              "10                 5.42                   2.0           605.03   \n",
              "\n",
              "    Credit_Utilization_Ratio  Total_EMI_per_month Amount_invested_monthly  \\\n",
              "0                  26.822620            49.574949       80.41529543900253   \n",
              "6                  22.537593            49.574949       178.3440674122349   \n",
              "8                  24.464031            18.816215        104.291825168246   \n",
              "9                  38.550848            18.816215       40.39123782853101   \n",
              "10                 33.224951            18.816215       58.51597569589465   \n",
              "\n",
              "       Monthly_Balance Credit_Score  \n",
              "0   312.49408867943663         Good  \n",
              "6    244.5653167062043         Good  \n",
              "8   470.69062692529184     Standard  \n",
              "9    484.5912142650067         Good  \n",
              "10  466.46647639764313     Standard  "
            ],
            "text/html": [
              "\n",
              "  <div id=\"df-c16c6c35-4ddc-4ffd-919e-7f04869f7d60\" class=\"colab-df-container\">\n",
              "    <div>\n",
              "<style scoped>\n",
              "    .dataframe tbody tr th:only-of-type {\n",
              "        vertical-align: middle;\n",
              "    }\n",
              "\n",
              "    .dataframe tbody tr th {\n",
              "        vertical-align: top;\n",
              "    }\n",
              "\n",
              "    .dataframe thead th {\n",
              "        text-align: right;\n",
              "    }\n",
              "</style>\n",
              "<table border=\"1\" class=\"dataframe\">\n",
              "  <thead>\n",
              "    <tr style=\"text-align: right;\">\n",
              "      <th></th>\n",
              "      <th>Age</th>\n",
              "      <th>Annual_Income</th>\n",
              "      <th>Monthly_Inhand_Salary</th>\n",
              "      <th>Num_Bank_Accounts</th>\n",
              "      <th>Num_Credit_Card</th>\n",
              "      <th>Interest_Rate</th>\n",
              "      <th>Num_of_Loan</th>\n",
              "      <th>Delay_from_due_date</th>\n",
              "      <th>Changed_Credit_Limit</th>\n",
              "      <th>Num_Credit_Inquiries</th>\n",
              "      <th>Outstanding_Debt</th>\n",
              "      <th>Credit_Utilization_Ratio</th>\n",
              "      <th>Total_EMI_per_month</th>\n",
              "      <th>Amount_invested_monthly</th>\n",
              "      <th>Monthly_Balance</th>\n",
              "      <th>Credit_Score</th>\n",
              "    </tr>\n",
              "  </thead>\n",
              "  <tbody>\n",
              "    <tr>\n",
              "      <th>0</th>\n",
              "      <td>23</td>\n",
              "      <td>19114.12</td>\n",
              "      <td>1824.843333</td>\n",
              "      <td>3</td>\n",
              "      <td>4</td>\n",
              "      <td>3</td>\n",
              "      <td>4</td>\n",
              "      <td>3</td>\n",
              "      <td>11.27</td>\n",
              "      <td>4.0</td>\n",
              "      <td>809.98</td>\n",
              "      <td>26.822620</td>\n",
              "      <td>49.574949</td>\n",
              "      <td>80.41529543900253</td>\n",
              "      <td>312.49408867943663</td>\n",
              "      <td>Good</td>\n",
              "    </tr>\n",
              "    <tr>\n",
              "      <th>6</th>\n",
              "      <td>23</td>\n",
              "      <td>19114.12</td>\n",
              "      <td>1824.843333</td>\n",
              "      <td>3</td>\n",
              "      <td>4</td>\n",
              "      <td>3</td>\n",
              "      <td>4</td>\n",
              "      <td>3</td>\n",
              "      <td>11.27</td>\n",
              "      <td>4.0</td>\n",
              "      <td>809.98</td>\n",
              "      <td>22.537593</td>\n",
              "      <td>49.574949</td>\n",
              "      <td>178.3440674122349</td>\n",
              "      <td>244.5653167062043</td>\n",
              "      <td>Good</td>\n",
              "    </tr>\n",
              "    <tr>\n",
              "      <th>8</th>\n",
              "      <td>28</td>\n",
              "      <td>34847.84</td>\n",
              "      <td>3037.986667</td>\n",
              "      <td>2</td>\n",
              "      <td>4</td>\n",
              "      <td>6</td>\n",
              "      <td>1</td>\n",
              "      <td>3</td>\n",
              "      <td>5.42</td>\n",
              "      <td>2.0</td>\n",
              "      <td>605.03</td>\n",
              "      <td>24.464031</td>\n",
              "      <td>18.816215</td>\n",
              "      <td>104.291825168246</td>\n",
              "      <td>470.69062692529184</td>\n",
              "      <td>Standard</td>\n",
              "    </tr>\n",
              "    <tr>\n",
              "      <th>9</th>\n",
              "      <td>28</td>\n",
              "      <td>34847.84</td>\n",
              "      <td>3037.986667</td>\n",
              "      <td>2</td>\n",
              "      <td>4</td>\n",
              "      <td>6</td>\n",
              "      <td>1</td>\n",
              "      <td>7</td>\n",
              "      <td>7.42</td>\n",
              "      <td>2.0</td>\n",
              "      <td>605.03</td>\n",
              "      <td>38.550848</td>\n",
              "      <td>18.816215</td>\n",
              "      <td>40.39123782853101</td>\n",
              "      <td>484.5912142650067</td>\n",
              "      <td>Good</td>\n",
              "    </tr>\n",
              "    <tr>\n",
              "      <th>10</th>\n",
              "      <td>28</td>\n",
              "      <td>34847.84</td>\n",
              "      <td>3037.986667</td>\n",
              "      <td>2</td>\n",
              "      <td>1385</td>\n",
              "      <td>6</td>\n",
              "      <td>1</td>\n",
              "      <td>3</td>\n",
              "      <td>5.42</td>\n",
              "      <td>2.0</td>\n",
              "      <td>605.03</td>\n",
              "      <td>33.224951</td>\n",
              "      <td>18.816215</td>\n",
              "      <td>58.51597569589465</td>\n",
              "      <td>466.46647639764313</td>\n",
              "      <td>Standard</td>\n",
              "    </tr>\n",
              "  </tbody>\n",
              "</table>\n",
              "</div>\n",
              "    <div class=\"colab-df-buttons\">\n",
              "\n",
              "  <div class=\"colab-df-container\">\n",
              "    <button class=\"colab-df-convert\" onclick=\"convertToInteractive('df-c16c6c35-4ddc-4ffd-919e-7f04869f7d60')\"\n",
              "            title=\"Convert this dataframe to an interactive table.\"\n",
              "            style=\"display:none;\">\n",
              "\n",
              "  <svg xmlns=\"http://www.w3.org/2000/svg\" height=\"24px\" viewBox=\"0 -960 960 960\">\n",
              "    <path d=\"M120-120v-720h720v720H120Zm60-500h600v-160H180v160Zm220 220h160v-160H400v160Zm0 220h160v-160H400v160ZM180-400h160v-160H180v160Zm440 0h160v-160H620v160ZM180-180h160v-160H180v160Zm440 0h160v-160H620v160Z\"/>\n",
              "  </svg>\n",
              "    </button>\n",
              "\n",
              "  <style>\n",
              "    .colab-df-container {\n",
              "      display:flex;\n",
              "      gap: 12px;\n",
              "    }\n",
              "\n",
              "    .colab-df-convert {\n",
              "      background-color: #E8F0FE;\n",
              "      border: none;\n",
              "      border-radius: 50%;\n",
              "      cursor: pointer;\n",
              "      display: none;\n",
              "      fill: #1967D2;\n",
              "      height: 32px;\n",
              "      padding: 0 0 0 0;\n",
              "      width: 32px;\n",
              "    }\n",
              "\n",
              "    .colab-df-convert:hover {\n",
              "      background-color: #E2EBFA;\n",
              "      box-shadow: 0px 1px 2px rgba(60, 64, 67, 0.3), 0px 1px 3px 1px rgba(60, 64, 67, 0.15);\n",
              "      fill: #174EA6;\n",
              "    }\n",
              "\n",
              "    .colab-df-buttons div {\n",
              "      margin-bottom: 4px;\n",
              "    }\n",
              "\n",
              "    [theme=dark] .colab-df-convert {\n",
              "      background-color: #3B4455;\n",
              "      fill: #D2E3FC;\n",
              "    }\n",
              "\n",
              "    [theme=dark] .colab-df-convert:hover {\n",
              "      background-color: #434B5C;\n",
              "      box-shadow: 0px 1px 3px 1px rgba(0, 0, 0, 0.15);\n",
              "      filter: drop-shadow(0px 1px 2px rgba(0, 0, 0, 0.3));\n",
              "      fill: #FFFFFF;\n",
              "    }\n",
              "  </style>\n",
              "\n",
              "    <script>\n",
              "      const buttonEl =\n",
              "        document.querySelector('#df-c16c6c35-4ddc-4ffd-919e-7f04869f7d60 button.colab-df-convert');\n",
              "      buttonEl.style.display =\n",
              "        google.colab.kernel.accessAllowed ? 'block' : 'none';\n",
              "\n",
              "      async function convertToInteractive(key) {\n",
              "        const element = document.querySelector('#df-c16c6c35-4ddc-4ffd-919e-7f04869f7d60');\n",
              "        const dataTable =\n",
              "          await google.colab.kernel.invokeFunction('convertToInteractive',\n",
              "                                                    [key], {});\n",
              "        if (!dataTable) return;\n",
              "\n",
              "        const docLinkHtml = 'Like what you see? Visit the ' +\n",
              "          '<a target=\"_blank\" href=https://colab.research.google.com/notebooks/data_table.ipynb>data table notebook</a>'\n",
              "          + ' to learn more about interactive tables.';\n",
              "        element.innerHTML = '';\n",
              "        dataTable['output_type'] = 'display_data';\n",
              "        await google.colab.output.renderOutput(dataTable, element);\n",
              "        const docLink = document.createElement('div');\n",
              "        docLink.innerHTML = docLinkHtml;\n",
              "        element.appendChild(docLink);\n",
              "      }\n",
              "    </script>\n",
              "  </div>\n",
              "\n",
              "\n",
              "<div id=\"df-5ad207ae-780b-43d8-9df0-a9237bc949e4\">\n",
              "  <button class=\"colab-df-quickchart\" onclick=\"quickchart('df-5ad207ae-780b-43d8-9df0-a9237bc949e4')\"\n",
              "            title=\"Suggest charts\"\n",
              "            style=\"display:none;\">\n",
              "\n",
              "<svg xmlns=\"http://www.w3.org/2000/svg\" height=\"24px\"viewBox=\"0 0 24 24\"\n",
              "     width=\"24px\">\n",
              "    <g>\n",
              "        <path d=\"M19 3H5c-1.1 0-2 .9-2 2v14c0 1.1.9 2 2 2h14c1.1 0 2-.9 2-2V5c0-1.1-.9-2-2-2zM9 17H7v-7h2v7zm4 0h-2V7h2v10zm4 0h-2v-4h2v4z\"/>\n",
              "    </g>\n",
              "</svg>\n",
              "  </button>\n",
              "\n",
              "<style>\n",
              "  .colab-df-quickchart {\n",
              "      --bg-color: #E8F0FE;\n",
              "      --fill-color: #1967D2;\n",
              "      --hover-bg-color: #E2EBFA;\n",
              "      --hover-fill-color: #174EA6;\n",
              "      --disabled-fill-color: #AAA;\n",
              "      --disabled-bg-color: #DDD;\n",
              "  }\n",
              "\n",
              "  [theme=dark] .colab-df-quickchart {\n",
              "      --bg-color: #3B4455;\n",
              "      --fill-color: #D2E3FC;\n",
              "      --hover-bg-color: #434B5C;\n",
              "      --hover-fill-color: #FFFFFF;\n",
              "      --disabled-bg-color: #3B4455;\n",
              "      --disabled-fill-color: #666;\n",
              "  }\n",
              "\n",
              "  .colab-df-quickchart {\n",
              "    background-color: var(--bg-color);\n",
              "    border: none;\n",
              "    border-radius: 50%;\n",
              "    cursor: pointer;\n",
              "    display: none;\n",
              "    fill: var(--fill-color);\n",
              "    height: 32px;\n",
              "    padding: 0;\n",
              "    width: 32px;\n",
              "  }\n",
              "\n",
              "  .colab-df-quickchart:hover {\n",
              "    background-color: var(--hover-bg-color);\n",
              "    box-shadow: 0 1px 2px rgba(60, 64, 67, 0.3), 0 1px 3px 1px rgba(60, 64, 67, 0.15);\n",
              "    fill: var(--button-hover-fill-color);\n",
              "  }\n",
              "\n",
              "  .colab-df-quickchart-complete:disabled,\n",
              "  .colab-df-quickchart-complete:disabled:hover {\n",
              "    background-color: var(--disabled-bg-color);\n",
              "    fill: var(--disabled-fill-color);\n",
              "    box-shadow: none;\n",
              "  }\n",
              "\n",
              "  .colab-df-spinner {\n",
              "    border: 2px solid var(--fill-color);\n",
              "    border-color: transparent;\n",
              "    border-bottom-color: var(--fill-color);\n",
              "    animation:\n",
              "      spin 1s steps(1) infinite;\n",
              "  }\n",
              "\n",
              "  @keyframes spin {\n",
              "    0% {\n",
              "      border-color: transparent;\n",
              "      border-bottom-color: var(--fill-color);\n",
              "      border-left-color: var(--fill-color);\n",
              "    }\n",
              "    20% {\n",
              "      border-color: transparent;\n",
              "      border-left-color: var(--fill-color);\n",
              "      border-top-color: var(--fill-color);\n",
              "    }\n",
              "    30% {\n",
              "      border-color: transparent;\n",
              "      border-left-color: var(--fill-color);\n",
              "      border-top-color: var(--fill-color);\n",
              "      border-right-color: var(--fill-color);\n",
              "    }\n",
              "    40% {\n",
              "      border-color: transparent;\n",
              "      border-right-color: var(--fill-color);\n",
              "      border-top-color: var(--fill-color);\n",
              "    }\n",
              "    60% {\n",
              "      border-color: transparent;\n",
              "      border-right-color: var(--fill-color);\n",
              "    }\n",
              "    80% {\n",
              "      border-color: transparent;\n",
              "      border-right-color: var(--fill-color);\n",
              "      border-bottom-color: var(--fill-color);\n",
              "    }\n",
              "    90% {\n",
              "      border-color: transparent;\n",
              "      border-bottom-color: var(--fill-color);\n",
              "    }\n",
              "  }\n",
              "</style>\n",
              "\n",
              "  <script>\n",
              "    async function quickchart(key) {\n",
              "      const quickchartButtonEl =\n",
              "        document.querySelector('#' + key + ' button');\n",
              "      quickchartButtonEl.disabled = true;  // To prevent multiple clicks.\n",
              "      quickchartButtonEl.classList.add('colab-df-spinner');\n",
              "      try {\n",
              "        const charts = await google.colab.kernel.invokeFunction(\n",
              "            'suggestCharts', [key], {});\n",
              "      } catch (error) {\n",
              "        console.error('Error during call to suggestCharts:', error);\n",
              "      }\n",
              "      quickchartButtonEl.classList.remove('colab-df-spinner');\n",
              "      quickchartButtonEl.classList.add('colab-df-quickchart-complete');\n",
              "    }\n",
              "    (() => {\n",
              "      let quickchartButtonEl =\n",
              "        document.querySelector('#df-5ad207ae-780b-43d8-9df0-a9237bc949e4 button');\n",
              "      quickchartButtonEl.style.display =\n",
              "        google.colab.kernel.accessAllowed ? 'block' : 'none';\n",
              "    })();\n",
              "  </script>\n",
              "</div>\n",
              "\n",
              "    </div>\n",
              "  </div>\n"
            ],
            "application/vnd.google.colaboratory.intrinsic+json": {
              "type": "dataframe",
              "variable_name": "df_cleaned",
              "summary": "{\n  \"name\": \"df_cleaned\",\n  \"rows\": 53049,\n  \"fields\": [\n    {\n      \"column\": \"Age\",\n      \"properties\": {\n        \"dtype\": \"category\",\n        \"num_unique_values\": 1009,\n        \"samples\": [\n          \"4946\",\n          \"5643\",\n          \"3452\"\n        ],\n        \"semantic_type\": \"\",\n        \"description\": \"\"\n      }\n    },\n    {\n      \"column\": \"Annual_Income\",\n      \"properties\": {\n        \"dtype\": \"category\",\n        \"num_unique_values\": 11595,\n        \"samples\": [\n          \"16905.13\",\n          \"43516.38\",\n          \"8068.86\"\n        ],\n        \"semantic_type\": \"\",\n        \"description\": \"\"\n      }\n    },\n    {\n      \"column\": \"Monthly_Inhand_Salary\",\n      \"properties\": {\n        \"dtype\": \"number\",\n        \"std\": 3094.9677388924133,\n        \"min\": 303.6454166666666,\n        \"max\": 15204.633333333331,\n        \"num_unique_values\": 11628,\n        \"samples\": [\n          5909.745,\n          4315.0075,\n          9233.3625\n        ],\n        \"semantic_type\": \"\",\n        \"description\": \"\"\n      }\n    },\n    {\n      \"column\": \"Num_Bank_Accounts\",\n      \"properties\": {\n        \"dtype\": \"number\",\n        \"std\": 115,\n        \"min\": -1,\n        \"max\": 1798,\n        \"num_unique_values\": 570,\n        \"samples\": [\n          926,\n          1789,\n          264\n        ],\n        \"semantic_type\": \"\",\n        \"description\": \"\"\n      }\n    },\n    {\n      \"column\": \"Num_Credit_Card\",\n      \"properties\": {\n        \"dtype\": \"number\",\n        \"std\": 129,\n        \"min\": 0,\n        \"max\": 1499,\n        \"num_unique_values\": 854,\n        \"samples\": [\n          889,\n          1409,\n          976\n        ],\n        \"semantic_type\": \"\",\n        \"description\": \"\"\n      }\n    },\n    {\n      \"column\": \"Interest_Rate\",\n      \"properties\": {\n        \"dtype\": \"number\",\n        \"std\": 479,\n        \"min\": 1,\n        \"max\": 5797,\n        \"num_unique_values\": 1060,\n        \"samples\": [\n          3852,\n          5763,\n          533\n        ],\n        \"semantic_type\": \"\",\n        \"description\": \"\"\n      }\n    },\n    {\n      \"column\": \"Num_of_Loan\",\n      \"properties\": {\n        \"dtype\": \"category\",\n        \"num_unique_values\": 239,\n        \"samples\": [\n          \"843\",\n          \"7\",\n          \"834\"\n        ],\n        \"semantic_type\": \"\",\n        \"description\": \"\"\n      }\n    },\n    {\n      \"column\": \"Delay_from_due_date\",\n      \"properties\": {\n        \"dtype\": \"number\",\n        \"std\": 15,\n        \"min\": -5,\n        \"max\": 67,\n        \"num_unique_values\": 73,\n        \"samples\": [\n          8,\n          38,\n          23\n        ],\n        \"semantic_type\": \"\",\n        \"description\": \"\"\n      }\n    },\n    {\n      \"column\": \"Changed_Credit_Limit\",\n      \"properties\": {\n        \"dtype\": \"category\",\n        \"num_unique_values\": 3975,\n        \"samples\": [\n          \"1.09\",\n          \"-4.76\",\n          \"1.1899999999999995\"\n        ],\n        \"semantic_type\": \"\",\n        \"description\": \"\"\n      }\n    },\n    {\n      \"column\": \"Num_Credit_Inquiries\",\n      \"properties\": {\n        \"dtype\": \"number\",\n        \"std\": 187.18582522474327,\n        \"min\": 0.0,\n        \"max\": 2594.0,\n        \"num_unique_values\": 747,\n        \"samples\": [\n          1465.0,\n          991.0,\n          1481.0\n        ],\n        \"semantic_type\": \"\",\n        \"description\": \"\"\n      }\n    },\n    {\n      \"column\": \"Outstanding_Debt\",\n      \"properties\": {\n        \"dtype\": \"category\",\n        \"num_unique_values\": 10858,\n        \"samples\": [\n          \"233.79\",\n          \"3446.44\",\n          \"741.64\"\n        ],\n        \"semantic_type\": \"\",\n        \"description\": \"\"\n      }\n    },\n    {\n      \"column\": \"Credit_Utilization_Ratio\",\n      \"properties\": {\n        \"dtype\": \"number\",\n        \"std\": 5.057398138373572,\n        \"min\": 20.88125003902868,\n        \"max\": 49.56451934738699,\n        \"num_unique_values\": 53049,\n        \"samples\": [\n          30.74951957909557,\n          25.48965661051326,\n          29.26656542557843\n        ],\n        \"semantic_type\": \"\",\n        \"description\": \"\"\n      }\n    },\n    {\n      \"column\": \"Total_EMI_per_month\",\n      \"properties\": {\n        \"dtype\": \"number\",\n        \"std\": 8407.42989323804,\n        \"min\": 4.4628374669131645,\n        \"max\": 82331.0,\n        \"num_unique_values\": 13301,\n        \"samples\": [\n          54.587566811939446,\n          30.964348882326284,\n          119.13973687493186\n        ],\n        \"semantic_type\": \"\",\n        \"description\": \"\"\n      }\n    },\n    {\n      \"column\": \"Amount_invested_monthly\",\n      \"properties\": {\n        \"dtype\": \"string\",\n        \"num_unique_values\": 50540,\n        \"samples\": [\n          \"113.32221367892828\",\n          \"68.96710832637875\",\n          \"170.04521265602932\"\n        ],\n        \"semantic_type\": \"\",\n        \"description\": \"\"\n      }\n    },\n    {\n      \"column\": \"Monthly_Balance\",\n      \"properties\": {\n        \"dtype\": \"string\",\n        \"num_unique_values\": 53044,\n        \"samples\": [\n          \"572.052888975446\",\n          \"785.1571806989883\",\n          \"394.3043403458275\"\n        ],\n        \"semantic_type\": \"\",\n        \"description\": \"\"\n      }\n    },\n    {\n      \"column\": \"Credit_Score\",\n      \"properties\": {\n        \"dtype\": \"category\",\n        \"num_unique_values\": 3,\n        \"samples\": [\n          \"Good\",\n          \"Standard\",\n          \"Poor\"\n        ],\n        \"semantic_type\": \"\",\n        \"description\": \"\"\n      }\n    }\n  ]\n}"
            }
          },
          "metadata": {},
          "execution_count": 15
        }
      ]
    },
    {
      "cell_type": "code",
      "source": [
        "#Reemplazar la columna 15 por valores numericos Good 3 Standard 2 and Bad 1\n",
        "df_cleaned['Credit_Score'] = df_cleaned['Credit_Score'].replace({'Good': 3, 'Standard': 2, 'Poor': 1})"
      ],
      "metadata": {
        "id": "09fQZChegEIp"
      },
      "execution_count": null,
      "outputs": []
    },
    {
      "cell_type": "markdown",
      "source": [],
      "metadata": {
        "id": "SrYVNe8XhvbY"
      }
    },
    {
      "cell_type": "code",
      "source": [
        "df = df_cleaned.apply(pd.to_numeric, errors='coerce')"
      ],
      "metadata": {
        "id": "PeYOgmdEaVr6"
      },
      "execution_count": null,
      "outputs": []
    },
    {
      "cell_type": "code",
      "source": [
        "df.info()"
      ],
      "metadata": {
        "colab": {
          "base_uri": "https://localhost:8080/"
        },
        "id": "GvFPTFGLd0jO",
        "outputId": "4d665aee-4b89-4b91-831d-b92048a4c20a"
      },
      "execution_count": null,
      "outputs": [
        {
          "output_type": "stream",
          "name": "stdout",
          "text": [
            "<class 'pandas.core.frame.DataFrame'>\n",
            "Index: 53049 entries, 0 to 99999\n",
            "Data columns (total 16 columns):\n",
            " #   Column                    Non-Null Count  Dtype  \n",
            "---  ------                    --------------  -----  \n",
            " 0   Age                       53049 non-null  int64  \n",
            " 1   Annual_Income             53049 non-null  float64\n",
            " 2   Monthly_Inhand_Salary     53049 non-null  float64\n",
            " 3   Num_Bank_Accounts         53049 non-null  int64  \n",
            " 4   Num_Credit_Card           53049 non-null  int64  \n",
            " 5   Interest_Rate             53049 non-null  int64  \n",
            " 6   Num_of_Loan               53049 non-null  int64  \n",
            " 7   Delay_from_due_date       53049 non-null  int64  \n",
            " 8   Changed_Credit_Limit      51947 non-null  float64\n",
            " 9   Num_Credit_Inquiries      53049 non-null  float64\n",
            " 10  Outstanding_Debt          53049 non-null  float64\n",
            " 11  Credit_Utilization_Ratio  53049 non-null  float64\n",
            " 12  Total_EMI_per_month       53049 non-null  float64\n",
            " 13  Amount_invested_monthly   53049 non-null  float64\n",
            " 14  Monthly_Balance           53049 non-null  float64\n",
            " 15  Credit_Score              53049 non-null  int64  \n",
            "dtypes: float64(9), int64(7)\n",
            "memory usage: 6.9 MB\n"
          ]
        }
      ]
    },
    {
      "cell_type": "code",
      "source": [
        "data=df.to_numpy()"
      ],
      "metadata": {
        "id": "gBvBLjxReF9E"
      },
      "execution_count": null,
      "outputs": []
    },
    {
      "cell_type": "code",
      "source": [
        "data"
      ],
      "metadata": {
        "colab": {
          "base_uri": "https://localhost:8080/"
        },
        "id": "tbr23alvv85l",
        "outputId": "41f0b397-923d-4cd3-c3e2-9ca89d9a8889"
      },
      "execution_count": null,
      "outputs": [
        {
          "output_type": "execute_result",
          "data": {
            "text/plain": [
              "array([[2.30000000e+01, 1.91141200e+04, 1.82484333e+03, ...,\n",
              "        8.04152954e+01, 3.12494089e+02, 3.00000000e+00],\n",
              "       [2.30000000e+01, 1.91141200e+04, 1.82484333e+03, ...,\n",
              "        1.78344067e+02, 2.44565317e+02, 3.00000000e+00],\n",
              "       [2.80000000e+01, 3.48478400e+04, 3.03798667e+03, ...,\n",
              "        1.04291825e+02, 4.70690627e+02, 2.00000000e+00],\n",
              "       ...,\n",
              "       [2.50000000e+01, 3.96289900e+04, 3.35941583e+03, ...,\n",
              "        5.41859503e+01, 4.96651610e+02, 1.00000000e+00],\n",
              "       [2.50000000e+01, 3.96289900e+04, 3.35941583e+03, ...,\n",
              "        2.40284774e+01, 5.16809083e+02, 1.00000000e+00],\n",
              "       [2.50000000e+01, 3.96289900e+04, 3.35941583e+03, ...,\n",
              "        1.67163865e+02, 3.93673696e+02, 1.00000000e+00]])"
            ]
          },
          "metadata": {},
          "execution_count": 23
        }
      ]
    },
    {
      "cell_type": "code",
      "execution_count": null,
      "metadata": {
        "id": "hhRjL2ptSxgK"
      },
      "outputs": [],
      "source": [
        "# La entrada es de 28 elementos contando con x0\n",
        "input_layer_size  = 9\n",
        "# Las clases son 3\n",
        "num_labels = 3\n",
        "#datos\n",
        "#data = np.loadtxt('/content/drive/MyDrive/Colab Notebooks/machine learning/datasets/train.csv', delimiter=',')\n",
        "#data = np.genfromtxt('/content/drive/MyDrive/Colab Notebooks/machine learning/datasets/train.csv', delimiter=',')\n",
        "\n",
        "# print(data['y'])\n",
        "# print(data['y'].ravel())\n",
        "# print(data['X'])\n",
        "#Datos de entrnamiento\n",
        "X = data[:40000, :8]\n",
        "y = data[:40000, 15]\n",
        "# X, y = data['X'], data['y'].ravel()\n",
        "# print(X)\n",
        "# print(y)\n",
        "# establecer el dígito cero en 0, en lugar del 10 asignado a este conjunto de datos\n",
        "# Esto se hace debido a que el conjunto de datos se utilizó en MATLAB donde no hay índice 0\n",
        "#y[y == 3] = 0\n",
        "# print(y)\n",
        "\n",
        "m = y.size"
      ]
    },
    {
      "cell_type": "code",
      "source": [
        "X.shape[1]"
      ],
      "metadata": {
        "colab": {
          "base_uri": "https://localhost:8080/"
        },
        "id": "KyJxkcZA5NqP",
        "outputId": "b45cb388-686a-4969-b05f-9690019d8965"
      },
      "execution_count": null,
      "outputs": [
        {
          "output_type": "execute_result",
          "data": {
            "text/plain": [
              "8"
            ]
          },
          "metadata": {},
          "execution_count": 68
        }
      ]
    },
    {
      "cell_type": "code",
      "execution_count": null,
      "metadata": {
        "id": "aw2yVc8ESxgL"
      },
      "outputs": [],
      "source": [
        "#print(X_train[0,:])\n",
        "#print(y_train)"
      ]
    },
    {
      "cell_type": "code",
      "source": [
        "#X=X_train\n",
        "#y=y_train"
      ],
      "metadata": {
        "id": "nqSZHQ5Rk7la"
      },
      "execution_count": null,
      "outputs": []
    },
    {
      "cell_type": "code",
      "source": [
        "def  featureNormalize(X):\n",
        "    X_norm = X.copy()\n",
        "    mu = np.zeros(X.shape[1])\n",
        "    sigma = np.zeros(X.shape[1])\n",
        "\n",
        "    mu = np.mean(X, axis = 0)\n",
        "    sigma = np.std(X, axis = 0)\n",
        "    X_norm = (X - mu) / sigma\n",
        "\n",
        "    return X_norm, mu, sigma"
      ],
      "metadata": {
        "id": "HWF5C5Jt8wNb"
      },
      "execution_count": null,
      "outputs": []
    },
    {
      "cell_type": "code",
      "source": [
        "# llama featureNormalize con los datos cargados\n",
        "X_norm, mu, sigma = featureNormalize(X)"
      ],
      "metadata": {
        "id": "f4W6d-ya1ABV"
      },
      "execution_count": null,
      "outputs": []
    },
    {
      "cell_type": "code",
      "source": [
        "print(X_norm[0,:])\n",
        "print(y)"
      ],
      "metadata": {
        "colab": {
          "base_uri": "https://localhost:8080/"
        },
        "id": "_lk8TeZPt5_S",
        "outputId": "5ac120b6-6be8-4553-f93b-97e08954fc55"
      },
      "execution_count": null,
      "outputs": [
        {
          "output_type": "stream",
          "name": "stdout",
          "text": [
            "[-0.12906243 -0.10807039 -0.70639132 -0.1189524  -0.14577664 -0.15300084\n",
            "  0.01025343 -1.24834389]\n",
            "[3. 3. 2. ... 2. 2. 2.]\n"
          ]
        }
      ]
    },
    {
      "cell_type": "code",
      "source": [
        "# Configurar la matriz adecuadamente, y agregar una columna de unos que corresponde al termino de intercepción.\n",
        "m, n = X.shape\n",
        "# Agraga el termino de intercepción a A\n",
        "# X = np.concatenate([np.ones((m, 1)), X_norm], axis=1)\n",
        "X = X_norm\n",
        "# X = np.concatenate([np.ones((m, 1)), X], axis=1)"
      ],
      "metadata": {
        "id": "r9e6MRrW1G22"
      },
      "execution_count": null,
      "outputs": []
    },
    {
      "cell_type": "code",
      "execution_count": null,
      "metadata": {
        "id": "0sB9Kyi8SxgN"
      },
      "outputs": [],
      "source": [
        "def sigmoid(z):\n",
        "    \"\"\"\n",
        "    Calcula la sigmoide de z.\n",
        "    \"\"\"\n",
        "    return 1.0 / (1.0 + np.exp(-z))"
      ]
    },
    {
      "cell_type": "code",
      "source": [
        "def calcularSigmoide(z):\n",
        "    # Calcula la sigmoide de z.\n",
        "\n",
        "    return 1.0 / (1.0 + np.exp(-z))"
      ],
      "metadata": {
        "id": "DarFq4r48bl0"
      },
      "execution_count": null,
      "outputs": []
    },
    {
      "cell_type": "code",
      "source": [
        "def calcularCosto(theta, X, y, lambda_):\n",
        "    # Inicializa algunos valores utiles\n",
        "    m = y.size\n",
        "\n",
        "    # convierte las etiquetas a valores enteros si son boleanos\n",
        "    if y.dtype == bool:\n",
        "        y = y.astype(int)\n",
        "\n",
        "    J = 0\n",
        "    grad = np.zeros(theta.shape)\n",
        "\n",
        "    h = calcularSigmoide(X.dot(theta.T))\n",
        "\n",
        "    temp = theta\n",
        "    temp[0] = 0\n",
        "\n",
        "    J = (1 / m) * np.sum(-y.dot(np.log(h)) - (1 - y).dot(np.log(1 - h))) + (lambda_ / (2 * m)) * np.sum(np.square(temp))\n",
        "\n",
        "    grad = (1 / m) * (h - y).dot(X)\n",
        "    # Se aplica regularizacion en la siguiente linea\n",
        "    grad = grad + (lambda_ / m) * temp\n",
        "\n",
        "    return J, grad"
      ],
      "metadata": {
        "id": "mrlTVesk8VxP"
      },
      "execution_count": null,
      "outputs": []
    },
    {
      "cell_type": "code",
      "source": [
        "def oneVsAll(X, y, num_labels, lambda_):\n",
        "\n",
        "    m, n = X.shape\n",
        "\n",
        "    all_theta = np.zeros((num_labels, n + 1))\n",
        "\n",
        "    # Agrega unos a la matriz X\n",
        "    X = np.concatenate([np.ones((m, 1)), X], axis=1)\n",
        "\n",
        "\n",
        "    for c in np.arange(num_labels):\n",
        "        initial_theta = np.zeros(n + 1)\n",
        "        options = {'maxiter': 50}\n",
        "        res = optimize.minimize(calcularCosto,\n",
        "                                initial_theta,\n",
        "                                (X, (y == (c + 1)), lambda_),\n",
        "                                jac=True,\n",
        "                                method='BFGS',\n",
        "                                options=options)\n",
        "\n",
        "        all_theta[c] = res.x\n",
        "\n",
        "    return all_theta"
      ],
      "metadata": {
        "id": "gdLGaVn07-X9"
      },
      "execution_count": null,
      "outputs": []
    },
    {
      "cell_type": "code",
      "execution_count": null,
      "metadata": {
        "id": "w6JbsLLMSxgO",
        "outputId": "db83cc52-6209-4b95-9e07-59abbc6cd9e3",
        "colab": {
          "base_uri": "https://localhost:8080/"
        }
      },
      "outputs": [
        {
          "output_type": "stream",
          "name": "stdout",
          "text": [
            "(3, 9)\n"
          ]
        }
      ],
      "source": [
        "lambda_ = 0.1\n",
        "all_theta = oneVsAll(X, y, num_labels, lambda_)\n",
        "print(all_theta.shape)"
      ]
    },
    {
      "cell_type": "code",
      "source": [
        "print(all_theta)"
      ],
      "metadata": {
        "colab": {
          "base_uri": "https://localhost:8080/"
        },
        "id": "V1EfKaiEgtcw",
        "outputId": "896fe9ff-886f-44cb-aabe-e82bc79f424d"
      },
      "execution_count": null,
      "outputs": [
        {
          "output_type": "stream",
          "name": "stdout",
          "text": [
            "[[-8.89976181e-01 -2.91344229e-03 -1.82662353e-02 -2.33905953e-01\n",
            "   5.86082850e-03  2.17199075e-02  1.37018272e-02 -1.94624260e-03\n",
            "   7.53654836e-01]\n",
            " [ 1.04672188e-01  9.61809281e-03  9.13236499e-03 -1.80812560e-02\n",
            "   6.20389677e-03 -1.08896876e-02 -1.61545464e-02 -1.83594073e-03\n",
            "  -2.22959216e-01]\n",
            " [-2.22003423e+00 -1.43869183e-02  9.97276562e-03  2.49711118e-01\n",
            "  -1.98966941e-02 -1.20582230e-02  9.36145089e-03  1.06183603e-02\n",
            "  -1.41587208e+00]]\n"
          ]
        }
      ]
    },
    {
      "cell_type": "code",
      "execution_count": null,
      "metadata": {
        "id": "PjFoFe1bSxgO"
      },
      "outputs": [],
      "source": [
        "def predictOneVsAll(all_theta, X):\n",
        "\n",
        "    m = X.shape[0];\n",
        "    num_labels = all_theta.shape[0]\n",
        "\n",
        "    p = np.zeros(m)\n",
        "\n",
        "    # Add ones to the X data matrix\n",
        "    X = np.concatenate([np.ones((m, 1)), X], axis=1)\n",
        "    p = np.argmax(sigmoid(X.dot(all_theta.T)), axis = 1)\n",
        "\n",
        "    return p"
      ]
    },
    {
      "cell_type": "code",
      "execution_count": null,
      "metadata": {
        "id": "mE7v5cglSxgO",
        "outputId": "7f1ec072-6b1f-40e7-9964-3035b2add004",
        "colab": {
          "base_uri": "https://localhost:8080/"
        }
      },
      "outputs": [
        {
          "output_type": "stream",
          "name": "stdout",
          "text": [
            "(40000, 8)\n",
            "Precision del conjuto de entrenamiento: 20.57%\n",
            "(140, 8)\n",
            "(140, 9)\n",
            "[1 1 1 1 1 1 1 1 1 2 2 1 1 1 1 1 1 1 1 1 1 1 1 1 1 1 1 1 1 1 1 1 1 1 1 1 1\n",
            " 1 1 1 1 1 1 1 1 1 1 1 1 1 1 1 1 1 1 1 1 1 1 1 1 1 1 1 0 0 0 0 0 0 0 0 0 0\n",
            " 1 1 1 0 0 1 1 0 0 0 0 1 1 1 1 1 1 1 1 1 1 0 0 0 0 1 1 1 1 1 1 1 1 1 1 1 1\n",
            " 1 1 1 1 1 1 1 1 1 1 1 1 1 1 1 0 0 0 0 1 1 1 1 1 1 1 1 1 1]\n",
            "[3. 2. 2. 2. 2. 2. 2. 2. 2. 3. 3. 3. 3. 3. 3. 1. 1. 1. 3. 2. 3. 2. 3. 3.\n",
            " 3. 3. 3. 2. 2. 2. 2. 2. 2. 3. 2. 3. 3. 2. 2. 2. 2. 2. 2. 2. 1. 1. 1. 2.\n",
            " 2. 2. 2. 2. 2. 2. 2. 2. 2. 2. 2. 2. 2. 2. 2. 2. 1. 2. 1. 2. 1. 1. 2. 1.\n",
            " 1. 1. 2. 1. 1. 1. 2. 2. 2. 1. 1. 1. 2. 2. 2. 2. 2. 2. 2. 2. 2. 2. 2. 1.\n",
            " 1. 1. 1. 3. 3. 2. 2. 1. 2. 1. 1. 1. 2. 2. 2. 2. 2. 2. 2. 2. 2. 2. 2. 3.\n",
            " 3. 2. 2. 3. 3. 3. 2. 1. 1. 1. 2. 2. 2. 2. 2. 2. 1. 1. 1. 1.]\n"
          ]
        }
      ],
      "source": [
        "print(X.shape)\n",
        "pred = predictOneVsAll(all_theta, X)\n",
        "print('Precision del conjuto de entrenamiento: {:.2f}%'.format(np.mean(pred == y_train) * 100))\n",
        "XPrueba = X[10:150, :].copy()\n",
        "print(XPrueba.shape)\n",
        "#print(np.ones((1)))\n",
        "#print(XPrueba)\n",
        "#p = np.zeros(1)\n",
        "XPrueba = np.concatenate([np.ones((140, 1)), XPrueba], axis=1)\n",
        "print(XPrueba.shape)\n",
        "p = np.argmax(sigmoid(XPrueba.dot(all_theta.T)), axis = 1)\n",
        "print(p)\n",
        "\n",
        "# displayData(X[1002:1003, :])\n",
        "print(y[10:150])"
      ]
    }
  ],
  "metadata": {
    "kernelspec": {
      "display_name": "Python 3",
      "language": "python",
      "name": "python3"
    },
    "language_info": {
      "codemirror_mode": {
        "name": "ipython",
        "version": 3
      },
      "file_extension": ".py",
      "mimetype": "text/x-python",
      "name": "python",
      "nbconvert_exporter": "python",
      "pygments_lexer": "ipython3",
      "version": "3.8.5"
    },
    "colab": {
      "provenance": []
    }
  },
  "nbformat": 4,
  "nbformat_minor": 0
}