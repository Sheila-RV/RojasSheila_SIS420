{
  "nbformat": 4,
  "nbformat_minor": 0,
  "metadata": {
    "kernelspec": {
      "display_name": "Python 3",
      "language": "python",
      "name": "python3"
    },
    "language_info": {
      "codemirror_mode": {
        "name": "ipython",
        "version": 3
      },
      "file_extension": ".py",
      "mimetype": "text/x-python",
      "name": "python",
      "nbconvert_exporter": "python",
      "pygments_lexer": "ipython3",
      "version": "3.7.6"
    },
    "colab": {
      "provenance": []
    }
  },
  "cells": [
    {
      "cell_type": "markdown",
      "metadata": {
        "id": "Ye1ZcaOdSd21"
      },
      "source": [
        "# Ejercicio de programación Regresión Lineal"
      ]
    },
    {
      "cell_type": "code",
      "metadata": {
        "id": "6PSq0fx3Sd23"
      },
      "source": [
        "# utilizado para manejos de directorios y rutas\n",
        "import os\n",
        "\n",
        "# Computacion vectorial y cientifica para python\n",
        "import numpy as np\n",
        "import pandas as pd\n",
        "\n",
        "# Librerias para graficación (trazado de gráficos)\n",
        "from matplotlib import pyplot\n",
        "from mpl_toolkits.mplot3d import Axes3D  # Necesario para graficar superficies 3D\n",
        "\n",
        "# llama a matplotlib a embeber graficas dentro de los cuadernillos\n",
        "%matplotlib inline"
      ],
      "execution_count": 214,
      "outputs": []
    },
    {
      "cell_type": "markdown",
      "metadata": {
        "id": "4aIabLl1Sd24"
      },
      "source": [
        "## 1 Regresión lineal con una variable\n",
        "\n",
        "El archivo `Data/ex1data1.txt` contiene el dataset para el problema de regresion lineal. La primera columna es la problacion de una ciudad (en 10,000s) y la segunda columna es el beneficio que genera un camion de comida en esa ciudad (en $10,000s). Un valor negativo indica una perdida."
      ]
    },
    {
      "cell_type": "code",
      "source": [
        "from google.colab import drive\n",
        "drive.mount('/content/drive')"
      ],
      "metadata": {
        "colab": {
          "base_uri": "https://localhost:8080/"
        },
        "id": "rH3Zu-2YVSgb",
        "outputId": "1a4e5fb5-228a-47a9-ee5e-e4b232dccab3"
      },
      "execution_count": 2,
      "outputs": [
        {
          "output_type": "stream",
          "name": "stdout",
          "text": [
            "Mounted at /content/drive\n"
          ]
        }
      ]
    },
    {
      "cell_type": "code",
      "metadata": {
        "id": "rEpvKQOhSd25",
        "colab": {
          "base_uri": "https://localhost:8080/"
        },
        "outputId": "5145fcd4-6bac-485f-9106-93dd5561d93d"
      },
      "source": [
        "# Leer datos separados por una coma\n",
        "# data = np.loadtxt(os.path.join('data', 'ex1data1.txt'), delimiter=',')\n",
        "\n",
        "#data = pd.read_csv('/content/drive/MyDrive/Colab Notebooks/canada_per_capita_income.csv')\n",
        "data= np.genfromtxt('/content/drive/MyDrive/Colab Notebooks/canada_per_capita_income.csv', delimiter=',')\n",
        "data\n"
      ],
      "execution_count": 215,
      "outputs": [
        {
          "output_type": "execute_result",
          "data": {
            "text/plain": [
              "array([[         nan,          nan],\n",
              "       [ 1970.      ,  3399.299037],\n",
              "       [ 1971.      ,  3768.297935],\n",
              "       [ 1972.      ,  4251.175484],\n",
              "       [ 1973.      ,  4804.463248],\n",
              "       [ 1974.      ,  5576.514583],\n",
              "       [ 1975.      ,  5998.144346],\n",
              "       [ 1976.      ,  7062.131392],\n",
              "       [ 1977.      ,  7100.12617 ],\n",
              "       [ 1978.      ,  7247.967035],\n",
              "       [ 1979.      ,  7602.912681],\n",
              "       [ 1980.      ,  8355.96812 ],\n",
              "       [ 1981.      ,  9434.390652],\n",
              "       [ 1982.      ,  9619.438377],\n",
              "       [ 1983.      , 10416.53659 ],\n",
              "       [ 1984.      , 10790.32872 ],\n",
              "       [ 1985.      , 11018.95585 ],\n",
              "       [ 1986.      , 11482.89153 ],\n",
              "       [ 1987.      , 12974.80662 ],\n",
              "       [ 1988.      , 15080.28345 ],\n",
              "       [ 1989.      , 16426.72548 ],\n",
              "       [ 1990.      , 16838.6732  ],\n",
              "       [ 1991.      , 17266.09769 ],\n",
              "       [ 1992.      , 16412.08309 ],\n",
              "       [ 1993.      , 15875.58673 ],\n",
              "       [ 1994.      , 15755.82027 ],\n",
              "       [ 1995.      , 16369.31725 ],\n",
              "       [ 1996.      , 16699.82668 ],\n",
              "       [ 1997.      , 17310.75775 ],\n",
              "       [ 1998.      , 16622.67187 ],\n",
              "       [ 1999.      , 17581.02414 ],\n",
              "       [ 2000.      , 18987.38241 ],\n",
              "       [ 2001.      , 18601.39724 ],\n",
              "       [ 2002.      , 19232.17556 ],\n",
              "       [ 2003.      , 22739.42628 ],\n",
              "       [ 2004.      , 25719.14715 ],\n",
              "       [ 2005.      , 29198.05569 ],\n",
              "       [ 2006.      , 32738.2629  ],\n",
              "       [ 2007.      , 36144.48122 ],\n",
              "       [ 2008.      , 37446.48609 ],\n",
              "       [ 2009.      , 32755.17682 ],\n",
              "       [ 2010.      , 38420.52289 ],\n",
              "       [ 2011.      , 42334.71121 ],\n",
              "       [ 2012.      , 42665.25597 ],\n",
              "       [ 2013.      , 42676.46837 ],\n",
              "       [ 2014.      , 41039.8936  ],\n",
              "       [ 2015.      , 35175.18898 ],\n",
              "       [ 2016.      , 34229.19363 ]])"
            ]
          },
          "metadata": {},
          "execution_count": 215
        }
      ]
    },
    {
      "cell_type": "code",
      "source": [
        "#X=data.iloc[:,0]\n",
        "#y=data.iloc[:,1]\n",
        "#m=y.size\n",
        "#m"
      ],
      "metadata": {
        "id": "zONNR46hkUfD"
      },
      "execution_count": 135,
      "outputs": []
    },
    {
      "cell_type": "code",
      "source": [
        "X, y = data[1:, 0], data[1:, 1]    #Fila,Columna subindices desde 0\n",
        "\n",
        "m = y.size  # m = numero de ejemplos de entrenamiento\n",
        "#X=X/1000"
      ],
      "metadata": {
        "id": "55JLL14JjNy9"
      },
      "execution_count": 216,
      "outputs": []
    },
    {
      "cell_type": "code",
      "source": [
        "print(X)"
      ],
      "metadata": {
        "colab": {
          "base_uri": "https://localhost:8080/"
        },
        "id": "wMtVrzhdfaCi",
        "outputId": "0861e962-2f2d-4ada-bc1b-0f7eea494238"
      },
      "execution_count": 217,
      "outputs": [
        {
          "output_type": "stream",
          "name": "stdout",
          "text": [
            "[1970. 1971. 1972. 1973. 1974. 1975. 1976. 1977. 1978. 1979. 1980. 1981.\n",
            " 1982. 1983. 1984. 1985. 1986. 1987. 1988. 1989. 1990. 1991. 1992. 1993.\n",
            " 1994. 1995. 1996. 1997. 1998. 1999. 2000. 2001. 2002. 2003. 2004. 2005.\n",
            " 2006. 2007. 2008. 2009. 2010. 2011. 2012. 2013. 2014. 2015. 2016.]\n"
          ]
        }
      ]
    },
    {
      "cell_type": "code",
      "source": [
        "# Normalizar los datos\n",
        "X = (X - np.mean(X)) / np.std(X)"
      ],
      "metadata": {
        "id": "C-s-ski2mJjW"
      },
      "execution_count": 218,
      "outputs": []
    },
    {
      "cell_type": "code",
      "source": [
        "X"
      ],
      "metadata": {
        "colab": {
          "base_uri": "https://localhost:8080/"
        },
        "id": "TXiGMu6ImLwh",
        "outputId": "e8dd33fb-121d-4fca-aad4-6130ecac8e5e"
      },
      "execution_count": 219,
      "outputs": [
        {
          "output_type": "execute_result",
          "data": {
            "text/plain": [
              "array([-1.6955825 , -1.62186152, -1.54814054, -1.47441956, -1.40069858,\n",
              "       -1.32697761, -1.25325663, -1.17953565, -1.10581467, -1.03209369,\n",
              "       -0.95837272, -0.88465174, -0.81093076, -0.73720978, -0.6634888 ,\n",
              "       -0.58976782, -0.51604685, -0.44232587, -0.36860489, -0.29488391,\n",
              "       -0.22116293, -0.14744196, -0.07372098,  0.        ,  0.07372098,\n",
              "        0.14744196,  0.22116293,  0.29488391,  0.36860489,  0.44232587,\n",
              "        0.51604685,  0.58976782,  0.6634888 ,  0.73720978,  0.81093076,\n",
              "        0.88465174,  0.95837272,  1.03209369,  1.10581467,  1.17953565,\n",
              "        1.25325663,  1.32697761,  1.40069858,  1.47441956,  1.54814054,\n",
              "        1.62186152,  1.6955825 ])"
            ]
          },
          "metadata": {},
          "execution_count": 219
        }
      ]
    },
    {
      "cell_type": "code",
      "source": [
        "#y=y/10000\n",
        "print(y)"
      ],
      "metadata": {
        "colab": {
          "base_uri": "https://localhost:8080/"
        },
        "id": "Pf-9nKMafpXh",
        "outputId": "42a27ee1-b16b-4c1e-c9f0-15bc0080eded"
      },
      "execution_count": 220,
      "outputs": [
        {
          "output_type": "stream",
          "name": "stdout",
          "text": [
            "[ 3399.299037  3768.297935  4251.175484  4804.463248  5576.514583\n",
            "  5998.144346  7062.131392  7100.12617   7247.967035  7602.912681\n",
            "  8355.96812   9434.390652  9619.438377 10416.53659  10790.32872\n",
            " 11018.95585  11482.89153  12974.80662  15080.28345  16426.72548\n",
            " 16838.6732   17266.09769  16412.08309  15875.58673  15755.82027\n",
            " 16369.31725  16699.82668  17310.75775  16622.67187  17581.02414\n",
            " 18987.38241  18601.39724  19232.17556  22739.42628  25719.14715\n",
            " 29198.05569  32738.2629   36144.48122  37446.48609  32755.17682\n",
            " 38420.52289  42334.71121  42665.25597  42676.46837  41039.8936\n",
            " 35175.18898  34229.19363 ]\n"
          ]
        }
      ]
    },
    {
      "cell_type": "code",
      "source": [
        "print(X.size) #N° de datos del dataset\n",
        "# Datos suficientes para generar los modelos"
      ],
      "metadata": {
        "colab": {
          "base_uri": "https://localhost:8080/"
        },
        "id": "XpM8pFcmf1PO",
        "outputId": "d44e44f5-d67b-4149-fe9e-d77119ff1dc5"
      },
      "execution_count": 221,
      "outputs": [
        {
          "output_type": "stream",
          "name": "stdout",
          "text": [
            "47\n"
          ]
        }
      ]
    },
    {
      "cell_type": "markdown",
      "metadata": {
        "id": "bt1oQ_t5Sd25"
      },
      "source": [
        "### 1.1 Trazar los datos"
      ]
    },
    {
      "cell_type": "code",
      "metadata": {
        "id": "PWCJQ5laSd25"
      },
      "source": [
        "def plotData(x, y):\n",
        "    #Grafica los puntos x e y en una figura nueva.\n",
        "\n",
        "    fig = pyplot.figure()  # abre una nueva figura\n",
        "\n",
        "    pyplot.plot(x, y, 'ro', ms=10, mec='k')\n",
        "    pyplot.ylabel('Ingreso per capita')\n",
        "    pyplot.xlabel('Año')\n"
      ],
      "execution_count": 222,
      "outputs": []
    },
    {
      "cell_type": "code",
      "metadata": {
        "colab": {
          "base_uri": "https://localhost:8080/",
          "height": 449
        },
        "id": "EFot_cibSd26",
        "outputId": "0dbc1f8e-18c0-402d-e1e1-8be2969c4cb7"
      },
      "source": [
        "plotData(X, y)"
      ],
      "execution_count": 223,
      "outputs": [
        {
          "output_type": "display_data",
          "data": {
            "text/plain": [
              "<Figure size 640x480 with 1 Axes>"
            ],
            "image/png": "[encoded data removed]"
          },
          "metadata": {}
        }
      ]
    },
    {
      "cell_type": "code",
      "metadata": {
        "id": "lZ04s5_eSd27"
      },
      "source": [
        "#?pyplot.plot"
      ],
      "execution_count": 224,
      "outputs": []
    },
    {
      "cell_type": "markdown",
      "metadata": {
        "id": "elpjQ_TPSd27"
      },
      "source": [
        "# <a id=\"section2\"></a>\n",
        "### 1.2 Descenso por el gradiente\n",
        "\n",
        "#### 1.2.1 Ecuaciones de actualización\n",
        "\n",
        "El objetivo de la regresion lineal es minimizar la funcion de costo\n",
        "\n",
        "$$ J(\\theta) = \\frac{1}{2m} \\sum_{i=1}^m \\left( h_{\\theta}(x^{(i)}) - y^{(i)}\\right)^2$$\n",
        "\n",
        "donde la hipotesis $h_\\theta(x)$ esta dada por el modelo lineal\n",
        "$$ h_\\theta(x) = \\theta^Tx = \\theta_0 + \\theta_1 x_1$$\n",
        "\n",
        "Los parametros del modelo son los valores $\\theta_j$. Estos son los valores que se ajustaran al costo minimo $J(\\theta)$. Un camino para lograr esto es usar el algoritmo por lotes del descenso por el gradiente. En el descenso por el gradiente por lotes, cada iteracion ejecuta una actualizacion\n",
        "$$ \\theta_j = \\theta_j - \\alpha \\frac{1}{m} \\sum_{i=1}^m \\left( h_\\theta(x^{(i)}) - y^{(i)}\\right)x_j^{(i)} \\qquad \\text{actualizacion simultanea } \\theta_j \\text{ for all } j$$\n",
        "\n",
        "Con cada paso del descenso por el gradiente, los parametros $\\theta_j$ son mas cercanos a los valores optimos que permitiran lograr el costo mas bajo J($\\theta$).\n",
        "\n",
        "#### 1.2.2 Implementación"
      ]
    },
    {
      "cell_type": "code",
      "metadata": {
        "id": "Hli_L8XISd28"
      },
      "source": [
        "# Agrega una columna de unos a X. La funcion stack de numpy une matrices a lo largo de un eje dado.\n",
        "# El primer eje (eje = 0) se refiere a filas (ejemplos de entrenamiento)\n",
        "# y el segundo eje (eje = 1) se refiere a columnas (características).\n",
        "#La columna es de x0 que tiene el valor de 1\n",
        "X = np.stack([np.ones(m), X], axis=1)"
      ],
      "execution_count": 225,
      "outputs": []
    },
    {
      "cell_type": "code",
      "source": [
        "X"
      ],
      "metadata": {
        "colab": {
          "base_uri": "https://localhost:8080/"
        },
        "id": "csQLNY-BWPg6",
        "outputId": "f876a5af-e366-4b9b-cf39-664bd49aa1e0"
      },
      "execution_count": 226,
      "outputs": [
        {
          "output_type": "execute_result",
          "data": {
            "text/plain": [
              "array([[ 1.        , -1.6955825 ],\n",
              "       [ 1.        , -1.62186152],\n",
              "       [ 1.        , -1.54814054],\n",
              "       [ 1.        , -1.47441956],\n",
              "       [ 1.        , -1.40069858],\n",
              "       [ 1.        , -1.32697761],\n",
              "       [ 1.        , -1.25325663],\n",
              "       [ 1.        , -1.17953565],\n",
              "       [ 1.        , -1.10581467],\n",
              "       [ 1.        , -1.03209369],\n",
              "       [ 1.        , -0.95837272],\n",
              "       [ 1.        , -0.88465174],\n",
              "       [ 1.        , -0.81093076],\n",
              "       [ 1.        , -0.73720978],\n",
              "       [ 1.        , -0.6634888 ],\n",
              "       [ 1.        , -0.58976782],\n",
              "       [ 1.        , -0.51604685],\n",
              "       [ 1.        , -0.44232587],\n",
              "       [ 1.        , -0.36860489],\n",
              "       [ 1.        , -0.29488391],\n",
              "       [ 1.        , -0.22116293],\n",
              "       [ 1.        , -0.14744196],\n",
              "       [ 1.        , -0.07372098],\n",
              "       [ 1.        ,  0.        ],\n",
              "       [ 1.        ,  0.07372098],\n",
              "       [ 1.        ,  0.14744196],\n",
              "       [ 1.        ,  0.22116293],\n",
              "       [ 1.        ,  0.29488391],\n",
              "       [ 1.        ,  0.36860489],\n",
              "       [ 1.        ,  0.44232587],\n",
              "       [ 1.        ,  0.51604685],\n",
              "       [ 1.        ,  0.58976782],\n",
              "       [ 1.        ,  0.6634888 ],\n",
              "       [ 1.        ,  0.73720978],\n",
              "       [ 1.        ,  0.81093076],\n",
              "       [ 1.        ,  0.88465174],\n",
              "       [ 1.        ,  0.95837272],\n",
              "       [ 1.        ,  1.03209369],\n",
              "       [ 1.        ,  1.10581467],\n",
              "       [ 1.        ,  1.17953565],\n",
              "       [ 1.        ,  1.25325663],\n",
              "       [ 1.        ,  1.32697761],\n",
              "       [ 1.        ,  1.40069858],\n",
              "       [ 1.        ,  1.47441956],\n",
              "       [ 1.        ,  1.54814054],\n",
              "       [ 1.        ,  1.62186152],\n",
              "       [ 1.        ,  1.6955825 ]])"
            ]
          },
          "metadata": {},
          "execution_count": 226
        }
      ]
    },
    {
      "cell_type": "markdown",
      "metadata": {
        "id": "ElowgFt2Sd28"
      },
      "source": [
        "<a id=\"section2\"></a>\n",
        "#### 1.2.3 Cálculo del costo $J(\\theta)$"
      ]
    },
    {
      "cell_type": "code",
      "metadata": {
        "id": "DYJ8v-K0Sd28"
      },
      "source": [
        "def computeCost(X, y, theta):\n",
        "    # inicializa algunos valores importantes\n",
        "    m = y.size  # numero de ejemplos de entrenamiento\n",
        "\n",
        "    #J = 0\n",
        "    h = np.dot(X, theta) #producto de x y theta también puede ser  theta*X\n",
        "    J = (1/(2 * m)) * np.sum(np.square(np.dot(X, theta) - y))\n",
        "    return J"
      ],
      "execution_count": 227,
      "outputs": []
    },
    {
      "cell_type": "markdown",
      "metadata": {
        "id": "I22C3lMeSd29"
      },
      "source": [
        "Ejemplo de funcionamiento de la funcion computeCoste con dos valores diferentes de $\\theta$."
      ]
    },
    {
      "cell_type": "code",
      "metadata": {
        "id": "7HZREYI4Sd29",
        "colab": {
          "base_uri": "https://localhost:8080/"
        },
        "outputId": "844d540e-291b-4204-c125-b974f73e07a5"
      },
      "source": [
        "J = computeCost(X, y, theta=np.array([0.0, 0.0]))\n",
        "print('Con theta = [0, 0] \\n Costo calculado = %.2f' % J)\n",
        "#print('Valor de costo esperado (aproximadamente) 32.07\\n')\n",
        "\n",
        "# pruebas adicionales de la función de costes\n",
        "J = computeCost(X, y, theta=np.array([-1, 2]))\n",
        "print('Con theta = [-1, 2]\\n Costo calculado = %.2f' % J)\n",
        "#print('Valor de costo esperado (aproximadamente)  54.24')\n",
        "#print('Con theta = [-1, 2]\\n Costo calculado = %.2f' % J)\n",
        "J = computeCost(X, y, theta=np.array([-0.8246, 1.3661]))\n",
        "print('Con theta = [-2, 2]\\n Costo calculado = %.2f' % J)"
      ],
      "execution_count": 228,
      "outputs": [
        {
          "output_type": "stream",
          "name": "stdout",
          "text": [
            "Con theta = [0, 0] \n",
            " Costo calculado = 249861765.82\n",
            "Con theta = [-1, 2]\n",
            " Costo calculado = 249858212.76\n",
            "Con theta = [-2, 2]\n",
            " Costo calculado = 249862016.61\n"
          ]
        }
      ]
    },
    {
      "cell_type": "markdown",
      "metadata": {
        "id": "IqT-oqwiSd29"
      },
      "source": [
        "<a id=\"section3\"></a>\n",
        "#### 1.2.4 Descenso por el gradiente\n",
        "\n",
        "El costo $J(\\theta)$ esta parametrizado por el vector $\\theta$, no $X$ y $y$. Donde hay que minimizar el valor de $J(\\theta)$ cambiando los valores del vector $\\theta$. Una buena manera de verificar si el descenso por el gradiente esta trabajando correctamente es ver los valores de $J(\\theta)$ y verificar si estos decresen en cada paso.\n",
        "\n",
        "<div class=\"alert alert-box alert-warning\">\n",
        "**Vectores y matrices en `numpy`** - Importantes notas para implementación\n",
        "Un vector en `numpy` es un array de una diemension, por ejemplo `np.array([1, 2, 3])` es un vector. Una matriz en `numpy` is un arreglo de dos dimensiones, por ejemplo  `np.array([[1, 2, 3], [4, 5, 6]])`. Sin embargo, lo siguiente todavía se considera una matriz `np.array ([[1, 2, 3]])` ya que tiene dos dimensiones, incluso si tiene una forma de 1x3 (que parece un vector)."
      ]
    },
    {
      "cell_type": "code",
      "source": [
        "y.shape[0]"
      ],
      "metadata": {
        "colab": {
          "base_uri": "https://localhost:8080/"
        },
        "id": "e7RCyaN7cLQA",
        "outputId": "f075af02-9189-4de7-f082-94b6f5ab7c92"
      },
      "execution_count": 229,
      "outputs": [
        {
          "output_type": "execute_result",
          "data": {
            "text/plain": [
              "47"
            ]
          },
          "metadata": {},
          "execution_count": 229
        }
      ]
    },
    {
      "cell_type": "code",
      "metadata": {
        "id": "mOJCrh4gSd2-"
      },
      "source": [
        "def gradientDescent(X, y, theta, alpha, num_iters):\n",
        "        # Inicializa algunos valores importantes\n",
        "    m = y.shape[0]  # numero de ejemplos de entrenamiento\n",
        "\n",
        "    # hace una copia de theta, para evitar cambiar la matriz original,\n",
        "    # ya que las matrices numpy se pasan por referencia a las funciones\n",
        "\n",
        "    #alpha =0.001 0.005\n",
        "    theta = theta.copy() #.copy -> evitar las referencias\n",
        "\n",
        "    J_history = [] # Lista que se utiliza para almacenar el costo en cada iteración\n",
        "\n",
        "    for i in range(num_iters):\n",
        "        theta = theta - (alpha / m) * (np.dot(X, theta) - y).dot(X)\n",
        "        # save the cost J in every iteration\n",
        "        J_history.append(computeCost(X, y, theta))\n",
        "\n",
        "    return theta, J_history"
      ],
      "execution_count": 230,
      "outputs": []
    },
    {
      "cell_type": "markdown",
      "metadata": {
        "id": "DjVpuPURSd2-"
      },
      "source": [
        "Se inicializan los parametros $\\theta$ con 0 y la taza de aprendizaje $\\alpha$ con 0.01."
      ]
    },
    {
      "cell_type": "code",
      "metadata": {
        "id": "B7_xnHp1Sd2-",
        "colab": {
          "base_uri": "https://localhost:8080/"
        },
        "outputId": "cb938914-9c6f-4d37-bcb3-2300a0407e28"
      },
      "source": [
        "# inicializa los parametros de ajuste\n",
        "theta = np.zeros(2)\n",
        "\n",
        "# configuraciones para el descenso por el gradiente\n",
        "iterations = 1500\n",
        "alpha = 0.01\n",
        "\n",
        "theta, J_history = gradientDescent(X ,y, theta, alpha, iterations)\n",
        "print('Theta encontrada por descenso gradiente: {:.4f}, {:.4f}'.format(*theta))\n",
        "print('Valores theta esperados (aproximadamente): [-3.6303, 1.1664]')"
      ],
      "execution_count": 231,
      "outputs": [
        {
          "output_type": "stream",
          "name": "stdout",
          "text": [
            "Theta encontrada por descenso gradiente: 18920.1317, 11237.8439\n",
            "Valores theta esperados (aproximadamente): [-3.6303, 1.1664]\n"
          ]
        }
      ]
    },
    {
      "cell_type": "code",
      "source": [
        "J_history"
      ],
      "metadata": {
        "colab": {
          "base_uri": "https://localhost:8080/"
        },
        "id": "eRALWyVGdLd0",
        "outputId": "4b615f14-61a9-4da1-8f48-4772d2bc4235"
      },
      "execution_count": 232,
      "outputs": [
        {
          "output_type": "execute_result",
          "data": {
            "text/plain": [
              "[245043370.93308046,\n",
              " 240320862.10517415,\n",
              " 235692331.20294324,\n",
              " 231155908.06566656,\n",
              " 226709759.74882182,\n",
              " 222352089.7834822,\n",
              " 218081137.4504529,\n",
              " 213895177.06885082,\n",
              " 209792517.2988427,\n",
              " 205771500.45825768,\n",
              " 201830501.85280037,\n",
              " 197967929.11959156,\n",
              " 194182221.58377367,\n",
              " 190471849.62791857,\n",
              " 186835314.07398495,\n",
              " 183271145.5775746,\n",
              " 179777904.03424287,\n",
              " 176354177.99762338,\n",
              " 172998584.10913265,\n",
              " 169709766.53902292,\n",
              " 166486396.43855834,\n",
              " 163327171.40309298,\n",
              " 160230814.9458334,\n",
              " 157196075.98207328,\n",
              " 154221728.323692,\n",
              " 151306570.18371248,\n",
              " 148449423.6907186,\n",
              " 145649134.41293526,\n",
              " 142904570.8917798,\n",
              " 140214624.1846954,\n",
              " 137578207.41708192,\n",
              " 134994255.34314394,\n",
              " 132461723.91547735,\n",
              " 129979589.86322133,\n",
              " 127546850.27860521,\n",
              " 125162522.21172293,\n",
              " 122825642.2733716,\n",
              " 120535266.2457935,\n",
              " 118290468.70116419,\n",
              " 116090342.62767299,\n",
              " 113933999.06304426,\n",
              " 111820566.73535164,\n",
              " 109749191.7109801,\n",
              " 107719037.04959358,\n",
              " 105729282.46596864,\n",
              " 103779123.99855784,\n",
              " 101867773.68464851,\n",
              " 99994459.24198596,\n",
              " 98158423.7567324,\n",
              " 96358925.37763542,\n",
              " 94595237.01628247,\n",
              " 92866646.05332042,\n",
              " 91172454.05052131,\n",
              " 89511976.4685779,\n",
              " 87884542.39051518,\n",
              " 86289494.25060588,\n",
              " 84726187.56868082,\n",
              " 83193990.68972604,\n",
              " 81692284.52866244,\n",
              " 80220462.32020405,\n",
              " 78777929.37369396,\n",
              " 77364102.83281942,\n",
              " 75978411.4401083,\n",
              " 74620295.3061121,\n",
              " 73289205.68318246,\n",
              " 71984604.7437491,\n",
              " 70705965.36301047,\n",
              " 69452770.90594853,\n",
              " 68224515.01858214,\n",
              " 67020701.42337432,\n",
              " 65840843.71871114,\n",
              " 64684465.182370745,\n",
              " 63551098.57890354,\n",
              " 62440285.97084534,\n",
              " 61351578.5336875,\n",
              " 60284536.37452908,\n",
              " 59238728.3543379,\n",
              " 58213731.91374857,\n",
              " 57209132.90232695,\n",
              " 56224525.41123261,\n",
              " 55259511.60921106,\n",
              " 54313701.58184974,\n",
              " 53386713.1740329,\n",
              " 52478171.83553162,\n",
              " 51587710.4696665,\n",
              " 50714969.28498213,\n",
              " 49859595.649872944,\n",
              " 49021243.95010245,\n",
              " 48199575.44915739,\n",
              " 47394258.15138113,\n",
              " 46604966.667830616,\n",
              " 45831382.08480278,\n",
              " 45073191.83497717,\n",
              " 44330089.57112309,\n",
              " 43601775.04231972,\n",
              " 42887953.97263954,\n",
              " 42188337.942245975,\n",
              " 41502644.27085727,\n",
              " 40830595.903529175,\n",
              " 40171921.29871092,\n",
              " 39526354.31852855,\n",
              " 38893634.12125179,\n",
              " 38273505.05590086,\n",
              " 37665716.5589504,\n",
              " 37070023.05308926,\n",
              " 36486183.847994745,\n",
              " 35913963.04308163,\n",
              " 35353129.43218628,\n",
              " 34803456.41014776,\n",
              " 34264721.88124779,\n",
              " 33736708.16947293,\n",
              " 33219201.930562396,\n",
              " 32711994.065806177,\n",
              " 32214879.637558598,\n",
              " 31727657.786433157,\n",
              " 31250131.650145113,\n",
              " 30782108.283969205,\n",
              " 30323398.582780182,\n",
              " 29873817.204644825,\n",
              " 29433182.49593436,\n",
              " 29001316.41792724,\n",
              " 28578044.474872466,\n",
              " 28163195.64348448,\n",
              " 27756602.303841103,\n",
              " 27358100.171656653,\n",
              " 26967528.231902655,\n",
              " 26584728.673749756,\n",
              " 26209546.82680411,\n",
              " 25841831.098612674,\n",
              " 25481432.913412265,\n",
              " 25128206.652097337,\n",
              " 24782009.593382567,\n",
              " 24442701.856136225,\n",
              " 24110146.342861082,\n",
              " 23784208.684300117,\n",
              " 23464757.185144525,\n",
              " 23151662.770822123,\n",
              " 22844798.93534474,\n",
              " 22544041.690193344,\n",
              " 22249269.514220472,\n",
              " 21960363.304549452,\n",
              " 21677206.328450892,\n",
              " 21399684.17617669,\n",
              " 21127684.714732748,\n",
              " 20861098.042571537,\n",
              " 20599816.445186332,\n",
              " 20343734.351589102,\n",
              " 20092748.291654453,\n",
              " 19846756.854312498,\n",
              " 19605660.646573648,\n",
              " 19369362.253368806,\n",
              " 19137766.198188737,\n",
              " 18910778.904506754,\n",
              " 18688308.657969046,\n",
              " 18470265.569337428,\n",
              " 18256561.53816958,\n",
              " 18047110.21722198,\n",
              " 17841826.97756122,\n",
              " 17640628.874369737,\n",
              " 17443434.613431755,\n",
              " 17250164.51828643,\n",
              " 17060740.4980345,\n",
              " 16875086.01578559,\n",
              " 16693126.057733426,\n",
              " 16514787.102846505,\n",
              " 16339997.093161823,\n",
              " 16168685.404669877,\n",
              " 16000782.818778917,\n",
              " 15836221.494347192,\n",
              " 15674934.940271651,\n",
              " 15516857.98862221,\n",
              " 15361926.768310605,\n",
              " 15210078.679283194,\n",
              " 15061252.367227437,\n",
              " 14915387.698781582,\n",
              " 14772425.737237804,\n",
              " 14632308.71872874,\n",
              " 14494980.028888011,\n",
              " 14360384.17997511,\n",
              " 14228466.788455578,\n",
              " 14099174.553027287,\n",
              " 13972455.23308402,\n",
              " 13848257.627607621,\n",
              " 13726531.554480208,\n",
              " 13607227.83020802,\n",
              " 13490298.250048855,\n",
              " 13375695.568534859,\n",
              " 13263373.480382983,\n",
              " 13153286.601785332,\n",
              " 13045390.452071778,\n",
              " 12939641.435737519,\n",
              " 12835996.824828316,\n",
              " 12734414.741676206,\n",
              " 12634854.141978819,\n",
              " 12537274.79821541,\n",
              " 12441637.283392891,\n",
              " 12347902.955115343,\n",
              " 12256033.939970523,\n",
              " 12165993.118227081,\n",
              " 12077744.10883633,\n",
              " 11991251.254732462,\n",
              " 11906479.60842526,\n",
              " 11823394.917879563,\n",
              " 11741963.612675738,\n",
              " 11662152.79044546,\n",
              " 11583930.203577569,\n",
              " 11507264.246188344,\n",
              " 11432123.941351172,\n",
              " 11358478.928580254,\n",
              " 11286299.45156348,\n",
              " 11215556.346139332,\n",
              " 11146221.02851313,\n",
              " 11078265.483707694,\n",
              " 11011662.25424388,\n",
              " 10946384.429046398,\n",
              " 10882405.632570347,\n",
              " 10819700.014144171,\n",
              " 10758242.237524677,\n",
              " 10698007.47065991,\n",
              " 10638971.375655752,\n",
              " 10581110.098942174,\n",
              " 10524400.261635197,\n",
              " 10468818.950090632,\n",
              " 10414343.706645804,\n",
              " 10360952.52054552,\n",
              " 10308623.819048632,\n",
              " 10257336.458711542,\n",
              " 10207069.71684516,\n",
              " 10157803.283141913,\n",
              " 10109517.251469363,\n",
              " 10062192.111827096,\n",
              " 10015808.74246371,\n",
              " 9970348.402150657,\n",
              " 9925792.722609831,\n",
              " 9882123.70109187,\n",
              " 9839323.693102118,\n",
              " 9797375.405271357,\n",
              " 9756261.888368426,\n",
              " 9715966.530451868,\n",
              " 9676473.050157843,\n",
              " 9637765.490121676,\n",
              " 9599828.210530227,\n",
              " 9562645.882802643,\n",
              " 9526203.483396847,\n",
              " 9490486.287739221,\n",
              " 9455479.864275184,\n",
              " 9421170.068638079,\n",
              " 9387543.037934152,\n",
              " 9354585.18514124,\n",
              " 9322283.193618903,\n",
              " 9290624.011727853,\n",
              " 9259594.847556442,\n",
              " 9229183.163752038,\n",
              " 9199376.672455344,\n",
              " 9170163.330335453,\n",
              " 9141531.33372375,\n",
              " 9113469.113844618,\n",
              " 9085965.332141083,\n",
              " 9059008.87569345,\n",
              " 9032588.852729123,\n",
              " 9006694.588221781,\n",
              " 8981315.619578138,\n",
              " 8956441.69241051,\n",
              " 8932062.756393509,\n",
              " 8908168.961203251,\n",
              " 8884750.652537284,\n",
              " 8861798.368213762,\n",
              " 8839302.83434828,\n",
              " 8817254.961606719,\n",
              " 8795645.84153272,\n",
              " 8774466.742948191,\n",
              " 8753709.108425496,\n",
              " 8733364.550829805,\n",
              " 8713424.849930266,\n",
              " 8693881.949078623,\n",
              " 8674727.95195393,\n",
              " 8655955.119372023,\n",
              " 8637555.866158491,\n",
              " 8619522.758083912,\n",
              " 8601848.508860009,\n",
              " 8584525.977195665,\n",
              " 8567548.163911445,\n",
              " 8550908.209111579,\n",
              " 8534599.38941223,\n",
              " 8518615.115224898,\n",
              " 8502948.928093893,\n",
              " 8487594.498086797,\n",
              " 8472545.621236846,\n",
              " 8457796.2170362,\n",
              " 8443340.325979155,\n",
              " 8429172.107154138,\n",
              " 8415285.835883744,\n",
              " 8401675.90141163,\n",
              " 8388336.804635512,\n",
              " 8375263.155885238,\n",
              " 8362449.672745096,\n",
              " 8349891.177919441,\n",
              " 8337582.597140813,\n",
              " 8325518.957119684,\n",
              " 8313695.383534974,\n",
              " 8302107.0990646,\n",
              " 8290749.421455188,\n",
              " 8279617.7616302,\n",
              " 8268707.621835731,\n",
              " 8258014.59382317,\n",
              " 8247534.357068059,\n",
              " 8237262.677024377,\n",
              " 8227195.403413566,\n",
              " 8217328.468547605,\n",
              " 8207657.885685478,\n",
              " 8198179.7474223105,\n",
              " 8188890.224110582,\n",
              " 8179785.562312752,\n",
              " 8170862.0832847,\n",
              " 8162116.181489307,\n",
              " 8153544.323139642,\n",
              " 8145143.044771133,\n",
              " 8136908.951842165,\n",
              " 8128838.717362474,\n",
              " 8120929.0805489365,\n",
              " 8113176.84550798,\n",
              " 8105578.879944347,\n",
              " 8098132.1138954265,\n",
              " 8090833.538490882,\n",
              " 8083680.204736883,\n",
              " 8076669.222324592,\n",
              " 8069797.758462306,\n",
              " 8063063.036730875,\n",
              " 8056462.335961903,\n",
              " 8049992.989138232,\n",
              " 8043652.382316352,\n",
              " 8037437.95357023,\n",
              " 8031347.191956155,\n",
              " 8025377.636498202,\n",
              " 8019526.875193856,\n",
              " 8013792.544039474,\n",
              " 8008172.326075059,\n",
              " 8002663.950448139,\n",
              " 7997265.19149619,\n",
              " 7991973.86784739,\n",
              " 7986787.841539197,\n",
              " 7981705.01715454,\n",
              " 7976723.340975138,\n",
              " 7971840.800151704,\n",
              " 7967055.421890658,\n",
              " 7962365.272657007,\n",
              " 7957768.457393104,\n",
              " 7953263.118752953,\n",
              " 7948847.436351741,\n",
              " 7944519.626030316,\n",
              " 7940277.939134286,\n",
              " 7936120.661807484,\n",
              " 7932046.11429949,\n",
              " 7928052.650286902,\n",
              " 7924138.656208161,\n",
              " 7920302.550611592,\n",
              " 7916542.783516394,\n",
              " 7912857.835786388,\n",
              " 7909246.21851621,\n",
              " 7905706.472429711,\n",
              " 7902237.16729033,\n",
              " 7898836.901323224,\n",
              " 7895504.300648866,\n",
              " 7892238.018727923,\n",
              " 7889036.735817209,\n",
              " 7885899.158436421,\n",
              " 7882824.018845506,\n",
              " 7879810.074532453,\n",
              " 7876856.10771123,\n",
              " 7873960.924829749,\n",
              " 7871123.356087608,\n",
              " 7868342.254963438,\n",
              " 7865616.497751636,\n",
              " 7862944.983108352,\n",
              " 7860326.631606467,\n",
              " 7857760.385299472,\n",
              " 7855245.2072939845,\n",
              " 7852780.081330805,\n",
              " 7850364.011374293,\n",
              " 7847996.021209918,\n",
              " 7845675.154049814,\n",
              " 7843400.472146193,\n",
              " 7841171.056412457,\n",
              " 7838986.006051818,\n",
              " 7836844.438193361,\n",
              " 7834745.487535284,\n",
              " 7832688.305995301,\n",
              " 7830672.062367972,\n",
              " 7828695.941988822,\n",
              " 7826759.1464052135,\n",
              " 7824860.893053722,\n",
              " 7823000.414943926,\n",
              " 7821176.960348515,\n",
              " 7819389.79249955,\n",
              " 7817638.189290782,\n",
              " 7815921.442985867,\n",
              " 7814238.859932423,\n",
              " 7812589.760281739,\n",
              " 7810973.477714104,\n",
              " 7809389.359169564,\n",
              " 7807836.764584063,\n",
              " 7806315.0666308105,\n",
              " 7804823.650466831,\n",
              " 7803361.913484514,\n",
              " 7801929.265068144,\n",
              " 7800525.12635526,\n",
              " 7799148.930002761,\n",
              " 7797800.119957676,\n",
              " 7796478.151232491,\n",
              " 7795182.489684937,\n",
              " 7793912.611802179,\n",
              " 7792668.004489289,\n",
              " 7791448.164861924,\n",
              " 7790252.600043144,\n",
              " 7789080.826964256,\n",
              " 7787932.372169642,\n",
              " 7786806.771625436,\n",
              " 7785703.570532066,\n",
              " 7784622.323140446,\n",
              " 7783562.592571925,\n",
              " 7782523.950641714,\n",
              " 7781505.977685917,\n",
              " 7780508.262391936,\n",
              " 7779530.401632312,\n",
              " 7778572.0003018,\n",
              " 7777632.671157768,\n",
              " 7776712.0346637,\n",
              " 7775809.718835863,\n",
              " 7774925.359093005,\n",
              " 7774058.598109025,\n",
              " 7773209.085668627,\n",
              " 7772376.478525794,\n",
              " 7771560.440265102,\n",
              " 7770760.641165799,\n",
              " 7769976.758068573,\n",
              " 7769208.474244978,\n",
              " 7768455.479269477,\n",
              " 7767717.468893983,\n",
              " 7766994.144924965,\n",
              " 7766285.2151029315,\n",
              " 7765590.392984356,\n",
              " 7764909.39782594,\n",
              " 7764241.954471175,\n",
              " 7763587.793239173,\n",
              " 7762946.649815681,\n",
              " 7762318.265146325,\n",
              " 7761702.385331883,\n",
              " 7761098.761525751,\n",
              " 7760507.149833362,\n",
              " 7759927.311213648,\n",
              " 7759359.011382468,\n",
              " 7758802.020717929,\n",
              " 7758256.114167617,\n",
              " 7757721.07115765,\n",
              " 7757196.675503586,\n",
              " 7756682.7153230375,\n",
              " 7756178.982950082,\n",
              " 7755685.274851347,\n",
              " 7755201.391543776,\n",
              " 7754727.13751403,\n",
              " 7754262.3211394735,\n",
              " 7753806.754610768,\n",
              " 7753360.253855986,\n",
              " 7752922.638466229,\n",
              " 7752493.73162272,\n",
              " 7752073.360025398,\n",
              " 7751661.3538228655,\n",
              " 7751257.546543764,\n",
              " 7750861.775029513,\n",
              " 7750473.879368397,\n",
              " 7750093.702830939,\n",
              " 7749721.0918065775,\n",
              " 7749355.895741599,\n",
              " 7748997.96707831,\n",
              " 7748647.161195426,\n",
              " 7748303.336349611,\n",
              " 7747966.353618225,\n",
              " 7747636.076843193,\n",
              " 7747312.372575988,\n",
              " 7746995.110023696,\n",
              " 7746684.160996196,\n",
              " 7746379.399854344,\n",
              " 7746080.7034592135,\n",
              " 7745787.951122351,\n",
              " 7745501.024556985,\n",
              " 7745219.807830272,\n",
              " 7744944.187316424,\n",
              " 7744674.051650798,\n",
              " 7744409.29168492,\n",
              " 7744149.800442363,\n",
              " 7743895.473075531,\n",
              " 7743646.206823301,\n",
              " 7743401.900969489,\n",
              " 7743162.456802172,\n",
              " 7742927.777573776,\n",
              " 7742697.768462034,\n",
              " 7742472.336531611,\n",
              " 7742251.390696606,\n",
              " 7742034.841683712,\n",
              " 7741822.601996177,\n",
              " 7741614.585878425,\n",
              " 7741410.709281419,\n",
              " 7741210.889828689,\n",
              " 7741015.04678307,\n",
              " 7740823.101014058,\n",
              " 7740634.97496585,\n",
              " 7740450.5926260045,\n",
              " 7740269.879494719,\n",
              " 7740092.762554745,\n",
              " 7739919.170241881,\n",
              " 7739749.032416038,\n",
              " 7739582.28033293,\n",
              " 7739418.846616276,\n",
              " 7739258.665230586,\n",
              " 7739101.671454468,\n",
              " 7738947.801854498,\n",
              " 7738796.994259564,\n",
              " 7738649.187735772,\n",
              " 7738504.322561799,\n",
              " 7738362.340204794,\n",
              " 7738223.183296692,\n",
              " 7738086.79561106,\n",
              " 7737953.122040371,\n",
              " 7737822.108573741,\n",
              " 7737693.702275095,\n",
              " 7737567.851261793,\n",
              " 7737444.504683656,\n",
              " 7737323.612702424,\n",
              " 7737205.126471615,\n",
              " 7737088.998116806,\n",
              " 7736975.180716252,\n",
              " 7736863.62828197,\n",
              " 7736754.295741131,\n",
              " 7736647.138917853,\n",
              " 7736542.114515362,\n",
              " 7736439.180098475,\n",
              " 7736338.294076491,\n",
              " 7736239.415686342,\n",
              " 7736142.504976157,\n",
              " 7736047.522789101,\n",
              " 7735954.430747571,\n",
              " 7735863.191237667,\n",
              " 7735773.76739401,\n",
              " 7735686.123084839,\n",
              " 7735600.222897424,\n",
              " 7735516.032123738,\n",
              " 7735433.516746446,\n",
              " 7735352.643425164,\n",
              " 7735273.379482977,\n",
              " 7735195.692893237,\n",
              " 7735119.552266636,\n",
              " 7735044.9268385,\n",
              " 7734971.786456387,\n",
              " 7734900.101567878,\n",
              " 7734829.843208651,\n",
              " 7734760.982990768,\n",
              " 7734693.493091226,\n",
              " 7734627.346240683,\n",
              " 7734562.515712465,\n",
              " 7734498.975311757,\n",
              " 7734436.69936503,\n",
              " 7734375.662709634,\n",
              " 7734315.840683683,\n",
              " 7734257.20911605,\n",
              " 7734199.744316616,\n",
              " 7734143.423066684,\n",
              " 7734088.22260963,\n",
              " 7734034.12064167,\n",
              " 7733981.095302873,\n",
              " 7733929.125168321,\n",
              " 7733878.189239442,\n",
              " 7733828.266935549,\n",
              " 7733779.338085502,\n",
              " 7733731.382919572,\n",
              " 7733684.382061444,\n",
              " 7733638.316520396,\n",
              " 7733593.167683613,\n",
              " 7733548.917308683,\n",
              " 7733505.547516213,\n",
              " 7733463.04078261,\n",
              " 7733421.379933008,\n",
              " 7733380.548134313,\n",
              " 7733340.528888409,\n",
              " 7733301.306025508,\n",
              " 7733262.863697569,\n",
              " 7733225.186371959,\n",
              " 7733188.2588251345,\n",
              " 7733152.066136484,\n",
              " 7733116.5936823385,\n",
              " 7733081.827130032,\n",
              " 7733047.752432116,\n",
              " 7733014.355820691,\n",
              " 7732981.62380183,\n",
              " 7732949.543150146,\n",
              " 7732918.100903432,\n",
              " 7732887.284357422,\n",
              " 7732857.081060684,\n",
              " 7732827.4788095495,\n",
              " 7732798.46564321,\n",
              " 7732770.0298388805,\n",
              " 7732742.159907062,\n",
              " 7732714.844586884,\n",
              " 7732688.072841574,\n",
              " 7732661.833854002,\n",
              " 7732636.117022279,\n",
              " 7732610.911955506,\n",
              " 7732586.208469566,\n",
              " 7732561.996582992,\n",
              " 7732538.266512966,\n",
              " 7732515.008671329,\n",
              " 7732492.213660741,\n",
              " 7732469.872270864,\n",
              " 7732447.975474646,\n",
              " 7732426.514424671,\n",
              " 7732405.480449594,\n",
              " 7732384.86505062,\n",
              " 7732364.659898083,\n",
              " 7732344.856828083,\n",
              " 7732325.44783918,\n",
              " 7732306.42508915,\n",
              " 7732287.78089185,\n",
              " 7732269.507714075,\n",
              " 7732251.598172532,\n",
              " 7732234.045030871,\n",
              " 7732216.841196733,\n",
              " 7732199.979718889,\n",
              " 7732183.4537844565,\n",
              " 7732167.256716115,\n",
              " 7732151.381969438,\n",
              " 7732135.823130219,\n",
              " 7732120.573911899,\n",
              " 7732105.628153023,\n",
              " 7732090.979814751,\n",
              " 7732076.62297841,\n",
              " 7732062.551843111,\n",
              " 7732048.760723406,\n",
              " 7732035.244046982,\n",
              " 7732021.996352421,\n",
              " 7732009.01228698,\n",
              " 7731996.286604441,\n",
              " 7731983.814162982,\n",
              " 7731971.589923112,\n",
              " 7731959.608945615,\n",
              " 7731947.86638957,\n",
              " 7731936.357510388,\n",
              " 7731925.077657906,\n",
              " 7731914.022274487,\n",
              " 7731903.186893191,\n",
              " 7731892.567135991,\n",
              " 7731882.158711957,\n",
              " 7731871.957415561,\n",
              " 7731861.959124963,\n",
              " 7731852.159800348,\n",
              " 7731842.5554822935,\n",
              " 7731833.1422901675,\n",
              " 7731823.916420566,\n",
              " 7731814.874145769,\n",
              " 7731806.011812242,\n",
              " 7731797.325839148,\n",
              " 7731788.812716924,\n",
              " 7731780.46900583,\n",
              " 7731772.291334584,\n",
              " 7731764.276399,\n",
              " 7731756.420960629,\n",
              " 7731748.721845486,\n",
              " 7731741.175942731,\n",
              " 7731733.780203444,\n",
              " 7731726.531639372,\n",
              " 7731719.427321718,\n",
              " 7731712.464379987,\n",
              " 7731705.640000796,\n",
              " 7731698.951426755,\n",
              " 7731692.395955334,\n",
              " 7731685.970937797,\n",
              " 7731679.673778104,\n",
              " 7731673.501931893,\n",
              " 7731667.452905419,\n",
              " 7731661.524254575,\n",
              " 7731655.71358388,\n",
              " 7731650.018545536,\n",
              " 7731644.436838448,\n",
              " 7731638.966207336,\n",
              " 7731633.604441783,\n",
              " 7731628.349375364,\n",
              " 7731623.198884768,\n",
              " 7731618.150888931,\n",
              " 7731613.203348212,\n",
              " 7731608.354263555,\n",
              " 7731603.601675686,\n",
              " 7731598.943664312,\n",
              " 7731594.378347362,\n",
              " 7731589.903880221,\n",
              " 7731585.518454979,\n",
              " 7731581.220299694,\n",
              " 7731577.007677703,\n",
              " 7731572.878886891,\n",
              " 7731568.832259014,\n",
              " 7731564.866159032,\n",
              " 7731560.978984441,\n",
              " 7731557.169164619,\n",
              " 7731553.435160216,\n",
              " 7731549.775462501,\n",
              " 7731546.18859277,\n",
              " 7731542.673101745,\n",
              " 7731539.227568992,\n",
              " 7731535.85060234,\n",
              " 7731532.540837327,\n",
              " 7731529.296936636,\n",
              " 7731526.117589569,\n",
              " 7731523.001511507,\n",
              " 7731519.947443401,\n",
              " 7731516.954151251,\n",
              " 7731514.02042561,\n",
              " 7731511.145081115,\n",
              " 7731508.326955972,\n",
              " 7731505.564911524,\n",
              " 7731502.857831757,\n",
              " 7731500.204622872,\n",
              " 7731497.60421285,\n",
              " 7731495.05555099,\n",
              " 7731492.557607496,\n",
              " 7731490.10937308,\n",
              " 7731487.7098585265,\n",
              " 7731485.358094314,\n",
              " 7731483.05313021,\n",
              " 7731480.794034891,\n",
              " 7731478.579895567,\n",
              " 7731476.409817616,\n",
              " 7731474.282924222,\n",
              " 7731472.198356001,\n",
              " 7731470.155270689,\n",
              " 7731468.152842771,\n",
              " 7731466.1902631745,\n",
              " 7731464.26673891,\n",
              " 7731462.381492776,\n",
              " 7731460.533763044,\n",
              " 7731458.722803133,\n",
              " 7731456.94788132,\n",
              " 7731455.208280455,\n",
              " 7731453.503297647,\n",
              " 7731451.832243997,\n",
              " 7731450.194444313,\n",
              " 7731448.589236842,\n",
              " 7731447.015973001,\n",
              " 7731445.474017109,\n",
              " 7731443.962746141,\n",
              " 7731442.481549464,\n",
              " 7731441.029828604,\n",
              " 7731439.606996985,\n",
              " 7731438.212479719,\n",
              " 7731436.8457133435,\n",
              " 7731435.506145621,\n",
              " 7731434.193235299,\n",
              " 7731432.906451885,\n",
              " 7731431.645275466,\n",
              " 7731430.409196458,\n",
              " 7731429.197715418,\n",
              " 7731428.010342851,\n",
              " 7731426.846599004,\n",
              " 7731425.706013654,\n",
              " 7731424.588125955,\n",
              " 7731423.49248422,\n",
              " 7731422.418645757,\n",
              " 7731421.366176679,\n",
              " 7731420.334651735,\n",
              " 7731419.323654137,\n",
              " 7731418.332775391,\n",
              " 7731417.361615136,\n",
              " 7731416.409780965,\n",
              " 7731415.476888295,\n",
              " 7731414.56256019,\n",
              " 7731413.666427216,\n",
              " 7731412.788127286,\n",
              " 7731411.927305522,\n",
              " 7731411.083614118,\n",
              " 7731410.2567121675,\n",
              " 7731409.446265569,\n",
              " 7731408.651946858,\n",
              " 7731407.873435085,\n",
              " 7731407.1104157,\n",
              " 7731406.362580401,\n",
              " 7731405.629627021,\n",
              " 7731404.9112594165,\n",
              " 7731404.207187324,\n",
              " 7731403.517126272,\n",
              " 7731402.840797429,\n",
              " 7731402.177927536,\n",
              " 7731401.52824875,\n",
              " 7731400.89149857,\n",
              " 7731400.267419721,\n",
              " 7731399.65576004,\n",
              " 7731399.0562723875,\n",
              " 7731398.468714539,\n",
              " 7731397.8928490905,\n",
              " 7731397.328443365,\n",
              " 7731396.7752693165,\n",
              " 7731396.233103429,\n",
              " 7731395.701726644,\n",
              " 7731395.1809242545,\n",
              " 7731394.670485834,\n",
              " 7731394.170205137,\n",
              " 7731393.67988003,\n",
              " 7731393.199312387,\n",
              " 7731392.728308044,\n",
              " 7731392.266676687,\n",
              " 7731391.814231793,\n",
              " 7731391.370790552,\n",
              " 7731390.936173791,\n",
              " 7731390.510205904,\n",
              " 7731390.092714779,\n",
              " 7731389.683531728,\n",
              " 7731389.282491418,\n",
              " 7731388.889431813,\n",
              " 7731388.504194089,\n",
              " 7731388.1266226,\n",
              " 7731387.756564779,\n",
              " 7731387.393871117,\n",
              " 7731387.038395054,\n",
              " 7731386.689992962,\n",
              " 7731386.348524077,\n",
              " 7731386.01385042,\n",
              " 7731385.685836769,\n",
              " 7731385.36435059,\n",
              " 7731385.049261984,\n",
              " 7731384.740443641,\n",
              " 7731384.437770785,\n",
              " 7731384.141121119,\n",
              " 7731383.850374781,\n",
              " 7731383.5654142955,\n",
              " 7731383.286124524,\n",
              " 7731383.012392617,\n",
              " 7731382.744107974,\n",
              " 7731382.481162197,\n",
              " 7731382.223449042,\n",
              " 7731381.970864381,\n",
              " 7731381.723306151,\n",
              " 7731381.480674333,\n",
              " 7731381.242870884,\n",
              " 7731381.009799725,\n",
              " 7731380.781366682,\n",
              " 7731380.55747946,\n",
              " 7731380.33804759,\n",
              " 7731380.122982413,\n",
              " 7731379.912197036,\n",
              " 7731379.705606288,\n",
              " 7731379.503126695,\n",
              " 7731379.304676445,\n",
              " 7731379.110175357,\n",
              " 7731378.919544838,\n",
              " 7731378.7327078665,\n",
              " 7731378.549588954,\n",
              " 7731378.370114109,\n",
              " 7731378.194210808,\n",
              " 7731378.021807986,\n",
              " 7731377.852835978,\n",
              " 7731377.6872265125,\n",
              " 7731377.524912678,\n",
              " 7731377.36582889,\n",
              " 7731377.209910866,\n",
              " 7731377.057095612,\n",
              " 7731376.907321382,\n",
              " 7731376.760527656,\n",
              " 7731376.616655132,\n",
              " 7731376.475645666,\n",
              " 7731376.337442287,\n",
              " 7731376.201989158,\n",
              " 7731376.069231545,\n",
              " 7731375.939115811,\n",
              " 7731375.811589379,\n",
              " 7731375.686600721,\n",
              " 7731375.5640993435,\n",
              " 7731375.444035735,\n",
              " 7731375.3263613945,\n",
              " 7731375.211028777,\n",
              " 7731375.0979912765,\n",
              " 7731374.987203223,\n",
              " 7731374.878619851,\n",
              " 7731374.772197286,\n",
              " 7731374.667892533,\n",
              " 7731374.565663443,\n",
              " 7731374.465468716,\n",
              " 7731374.367267858,\n",
              " 7731374.2710211985,\n",
              " 7731374.176689849,\n",
              " 7731374.084235694,\n",
              " 7731373.993621375,\n",
              " 7731373.904810285,\n",
              " 7731373.817766531,\n",
              " 7731373.732454949,\n",
              " 7731373.648841069,\n",
              " 7731373.566891102,\n",
              " 7731373.486571943,\n",
              " 7731373.40785113,\n",
              " 7731373.330696868,\n",
              " 7731373.255077972,\n",
              " 7731373.180963892,\n",
              " 7731373.108324683,\n",
              " 7731373.037130991,\n",
              " 7731372.96735406,\n",
              " 7731372.898965682,\n",
              " 7731372.831938242,\n",
              " 7731372.766244642,\n",
              " 7731372.701858346,\n",
              " 7731372.638753335,\n",
              " 7731372.576904121,\n",
              " 7731372.516285696,\n",
              " 7731372.456873586,\n",
              " 7731372.398643772,\n",
              " 7731372.3415727345,\n",
              " 7731372.285637408,\n",
              " 7731372.230815195,\n",
              " 7731372.177083945,\n",
              " 7731372.124421949,\n",
              " 7731372.072807923,\n",
              " 7731372.022221019,\n",
              " 7731371.972640791,\n",
              " 7731371.924047212,\n",
              " 7731371.876420643,\n",
              " 7731371.829741848,\n",
              " 7731371.783991955,\n",
              " 7731371.739152487,\n",
              " 7731371.695205325,\n",
              " 7731371.65213271,\n",
              " 7731371.609917246,\n",
              " 7731371.568541863,\n",
              " 7731371.5279898485,\n",
              " 7731371.488244825,\n",
              " 7731371.4492907245,\n",
              " 7731371.41111181,\n",
              " 7731371.37369266,\n",
              " 7731371.337018146,\n",
              " 7731371.301073457,\n",
              " 7731371.2658440685,\n",
              " 7731371.231315744,\n",
              " 7731371.197474533,\n",
              " 7731371.16430676,\n",
              " 7731371.131799031,\n",
              " 7731371.099938198,\n",
              " 7731371.068711405,\n",
              " 7731371.038106019,\n",
              " 7731371.008109679,\n",
              " 7731370.978710269,\n",
              " 7731370.949895909,\n",
              " 7731370.921654951,\n",
              " 7731370.89397599,\n",
              " 7731370.866847839,\n",
              " 7731370.840259541,\n",
              " 7731370.814200348,\n",
              " 7731370.788659732,\n",
              " 7731370.763627376,\n",
              " 7731370.739093164,\n",
              " 7731370.715047178,\n",
              " 7731370.6914797155,\n",
              " 7731370.668381238,\n",
              " 7731370.645742424,\n",
              " 7731370.623554123,\n",
              " 7731370.60180737,\n",
              " 7731370.580493375,\n",
              " 7731370.559603527,\n",
              " 7731370.539129391,\n",
              " 7731370.519062689,\n",
              " 7731370.499395315,\n",
              " 7731370.480119317,\n",
              " 7731370.461226916,\n",
              " 7731370.44271047,\n",
              " 7731370.424562504,\n",
              " 7731370.406775683,\n",
              " 7731370.3893428175,\n",
              " 7731370.372256869,\n",
              " 7731370.3555109305,\n",
              " 7731370.339098237,\n",
              " 7731370.323012153,\n",
              " 7731370.307246184,\n",
              " 7731370.291793954,\n",
              " 7731370.276649229,\n",
              " 7731370.261805882,\n",
              " 7731370.247257917,\n",
              " 7731370.232999455,\n",
              " 7731370.21902474,\n",
              " 7731370.205328119,\n",
              " 7731370.191904061,\n",
              " 7731370.178747144,\n",
              " 7731370.165852048,\n",
              " 7731370.153213564,\n",
              " 7731370.140826584,\n",
              " 7731370.128686109,\n",
              " 7731370.116787228,\n",
              " 7731370.105125133,\n",
              " 7731370.093695115,\n",
              " 7731370.0824925555,\n",
              " 7731370.071512924,\n",
              " 7731370.060751789,\n",
              " 7731370.050204803,\n",
              " 7731370.039867699,\n",
              " 7731370.029736305,\n",
              " 7731370.019806523,\n",
              " 7731370.010074346,\n",
              " 7731370.0005358355,\n",
              " 7731369.991187148,\n",
              " 7731369.982024497,\n",
              " ...]"
            ]
          },
          "metadata": {},
          "execution_count": 232
        }
      ]
    },
    {
      "cell_type": "markdown",
      "metadata": {
        "id": "kEIEsQgISd2-"
      },
      "source": [
        "Se utilizan los parametros finales para grafical la linea."
      ]
    },
    {
      "cell_type": "code",
      "source": [
        "X"
      ],
      "metadata": {
        "colab": {
          "base_uri": "https://localhost:8080/"
        },
        "id": "9EIbIH9PeLpx",
        "outputId": "30131da9-598c-4598-db67-b6503ece654a"
      },
      "execution_count": 233,
      "outputs": [
        {
          "output_type": "execute_result",
          "data": {
            "text/plain": [
              "array([[ 1.        , -1.6955825 ],\n",
              "       [ 1.        , -1.62186152],\n",
              "       [ 1.        , -1.54814054],\n",
              "       [ 1.        , -1.47441956],\n",
              "       [ 1.        , -1.40069858],\n",
              "       [ 1.        , -1.32697761],\n",
              "       [ 1.        , -1.25325663],\n",
              "       [ 1.        , -1.17953565],\n",
              "       [ 1.        , -1.10581467],\n",
              "       [ 1.        , -1.03209369],\n",
              "       [ 1.        , -0.95837272],\n",
              "       [ 1.        , -0.88465174],\n",
              "       [ 1.        , -0.81093076],\n",
              "       [ 1.        , -0.73720978],\n",
              "       [ 1.        , -0.6634888 ],\n",
              "       [ 1.        , -0.58976782],\n",
              "       [ 1.        , -0.51604685],\n",
              "       [ 1.        , -0.44232587],\n",
              "       [ 1.        , -0.36860489],\n",
              "       [ 1.        , -0.29488391],\n",
              "       [ 1.        , -0.22116293],\n",
              "       [ 1.        , -0.14744196],\n",
              "       [ 1.        , -0.07372098],\n",
              "       [ 1.        ,  0.        ],\n",
              "       [ 1.        ,  0.07372098],\n",
              "       [ 1.        ,  0.14744196],\n",
              "       [ 1.        ,  0.22116293],\n",
              "       [ 1.        ,  0.29488391],\n",
              "       [ 1.        ,  0.36860489],\n",
              "       [ 1.        ,  0.44232587],\n",
              "       [ 1.        ,  0.51604685],\n",
              "       [ 1.        ,  0.58976782],\n",
              "       [ 1.        ,  0.6634888 ],\n",
              "       [ 1.        ,  0.73720978],\n",
              "       [ 1.        ,  0.81093076],\n",
              "       [ 1.        ,  0.88465174],\n",
              "       [ 1.        ,  0.95837272],\n",
              "       [ 1.        ,  1.03209369],\n",
              "       [ 1.        ,  1.10581467],\n",
              "       [ 1.        ,  1.17953565],\n",
              "       [ 1.        ,  1.25325663],\n",
              "       [ 1.        ,  1.32697761],\n",
              "       [ 1.        ,  1.40069858],\n",
              "       [ 1.        ,  1.47441956],\n",
              "       [ 1.        ,  1.54814054],\n",
              "       [ 1.        ,  1.62186152],\n",
              "       [ 1.        ,  1.6955825 ]])"
            ]
          },
          "metadata": {},
          "execution_count": 233
        }
      ]
    },
    {
      "cell_type": "code",
      "source": [
        "a=np.dot(X, theta)\n",
        "a"
      ],
      "metadata": {
        "colab": {
          "base_uri": "https://localhost:8080/"
        },
        "id": "tZxxqjQFdZBi",
        "outputId": "ec05181c-0a50-47dd-d40d-eab73dbc24b9"
      },
      "execution_count": 234,
      "outputs": [
        {
          "output_type": "execute_result",
          "data": {
            "text/plain": [
              "array([ -134.55962855,   693.90521167,  1522.3700519 ,  2350.83489212,\n",
              "        3179.29973235,  4007.76457257,  4836.22941279,  5664.69425302,\n",
              "        6493.15909324,  7321.62393346,  8150.08877369,  8978.55361391,\n",
              "        9807.01845413, 10635.48329436, 11463.94813458, 12292.41297481,\n",
              "       13120.87781503, 13949.34265525, 14777.80749548, 15606.2723357 ,\n",
              "       16434.73717592, 17263.20201615, 18091.66685637, 18920.13169659,\n",
              "       19748.59653682, 20577.06137704, 21405.52621727, 22233.99105749,\n",
              "       23062.45589771, 23890.92073794, 24719.38557816, 25547.85041838,\n",
              "       26376.31525861, 27204.78009883, 28033.24493906, 28861.70977928,\n",
              "       29690.1746195 , 30518.63945973, 31347.10429995, 32175.56914017,\n",
              "       33004.0339804 , 33832.49882062, 34660.96366084, 35489.42850107,\n",
              "       36317.89334129, 37146.35818152, 37974.82302174])"
            ]
          },
          "metadata": {},
          "execution_count": 234
        }
      ]
    },
    {
      "cell_type": "code",
      "metadata": {
        "id": "PbQqiQ3ZSd2-",
        "colab": {
          "base_uri": "https://localhost:8080/",
          "height": 449
        },
        "outputId": "224bc4e6-71fb-473b-98bd-676778d8c96a"
      },
      "source": [
        "# grafica la linea de ajuste\n",
        "plotData(X[:, 1], y)\n",
        "pyplot.plot(X[:, 1], np.dot(X, theta), '-')\n",
        "pyplot.legend(['Datos de entrenamiento', 'Regresión linear']);"
      ],
      "execution_count": 235,
      "outputs": [
        {
          "output_type": "display_data",
          "data": {
            "text/plain": [
              "<Figure size 640x480 with 1 Axes>"
            ],
            "image/png": "[encoded data removed]"
          },
          "metadata": {}
        }
      ]
    },
    {
      "cell_type": "markdown",
      "metadata": {
        "id": "Xl3oHvXWSd2_"
      },
      "source": [
        "Los valores finales de $\\theta$ se utilizaran para realizar predicciones."
      ]
    },
    {
      "cell_type": "code",
      "source": [
        "year = 2020\n",
        "\n",
        "# Normalizar el año 2018 (usando la misma media y desviación estándar que usaste para normalizar los datos de entrenamiento)\n",
        "X_norm = (year - np.mean(data[1:, 0])) / np.std(data[1:, 0])\n",
        "X_norm\n",
        "y_pred = theta[0] + theta[1] * X_norm\n",
        "\n",
        "print(f\"La predicción para el año {year} es: {y_pred}\")"
      ],
      "metadata": {
        "colab": {
          "base_uri": "https://localhost:8080/"
        },
        "id": "h6whKvwRvHJu",
        "outputId": "5cce7614-8183-48d4-fccd-c503943c0e11"
      },
      "execution_count": 244,
      "outputs": [
        {
          "output_type": "stream",
          "name": "stdout",
          "text": [
            "La predicción para el año 2020 es: 41288.682382633735\n"
          ]
        }
      ]
    },
    {
      "cell_type": "code",
      "metadata": {
        "id": "Z55waXwbSd2_",
        "colab": {
          "base_uri": "https://localhost:8080/"
        },
        "outputId": "c40a8fbd-1b6c-4f8a-9233-422845440552"
      },
      "source": [
        "year = 2025\n",
        "\n",
        "# Normalizar el año 2018 (usando la misma media y desviación estándar que usaste para normalizar los datos de entrenamiento)\n",
        "X_norm = (year - np.mean(data[1:, 0])) / np.std(data[1:, 0])\n",
        "X_norm\n",
        "y_pred = theta[0] + theta[1] * X_norm\n",
        "\n",
        "print(f\"La predicción para el año {year} es: {y_pred}\")"
      ],
      "execution_count": 245,
      "outputs": [
        {
          "output_type": "stream",
          "name": "stdout",
          "text": [
            "La predicción para el año 2025 es: 45431.00658375205\n"
          ]
        }
      ]
    },
    {
      "cell_type": "markdown",
      "metadata": {
        "id": "3k081p1xSd2_"
      },
      "source": [
        "### 1.4 Visualizar $J(\\theta)$\n",
        "\n",
        "Para comprender mejor la función de costo $J(\\theta)$, se graficará la funcion de costo en 2 dimenciones con los valores de $\\theta_0$ y $\\theta_1$.\n",
        "\n",
        "El proposito de graficar el costo para observar como $J(\\theta)$ varia con cambios en $\\theta_0$ y $\\theta_1$. La función de costo  $J(\\theta)$ tiene forma de una cuenca con un minimo global. (Esto es mas facil observar en los contornos de una superficie 3D). El minimo es el punto optimo para $\\theta_0$ y $\\theta_1$, en cada paso del descenso por el gradiente se mueve mas cerca a este punto."
      ]
    },
    {
      "cell_type": "code",
      "metadata": {
        "id": "NwOIhT8NSd2_",
        "colab": {
          "base_uri": "https://localhost:8080/",
          "height": 1000
        },
        "outputId": "9dacd084-6369-4845-f5f0-079cc171631c"
      },
      "source": [
        "# cuadrícula sobre la que se calcula J\n",
        "theta0_vals = np.linspace(-10, 10, 100)\n",
        "theta1_vals = np.linspace(-1, 4, 100)\n",
        "\n",
        "# inicializa J_vals con una matriz de 0's\n",
        "J_vals = np.zeros((theta0_vals.shape[0], theta1_vals.shape[0]))\n",
        "\n",
        "# Completar J_vals\n",
        "for i, theta0 in enumerate(theta0_vals):\n",
        "    for j, theta1 in enumerate(theta1_vals):\n",
        "        J_vals[i, j] = computeCost(X, y, [theta0, theta1])\n",
        "\n",
        "# Debido a la forma en que funcionan las cuadrículas en el comando surf,\n",
        "# se necesita transponer J_vals antes de llamar a surf, o de lo contrario los ejes se invertirán\n",
        "J_vals = J_vals.T\n",
        "\n",
        "# graficar la superficie\n",
        "fig = pyplot.figure(figsize=(4, 15))\n",
        "ax = fig.add_subplot(311, projection='3d')\n",
        "ax.plot_surface(theta0_vals, theta1_vals, J_vals, cmap='viridis')\n",
        "pyplot.xlabel('theta0')\n",
        "pyplot.ylabel('theta1')\n",
        "pyplot.title('Surface')\n",
        "\n",
        "# graficar contornos\n",
        "# Grafica J_vals como 15 contours spaciados logaritmicamente entre 0.01 y 100\n",
        "ax = pyplot.subplot(312)\n",
        "pyplot.contour(theta0_vals, theta1_vals, J_vals, linewidths=2, cmap='viridis', levels=np.logspace(-2, 3, 20))\n",
        "pyplot.xlabel('theta0')\n",
        "pyplot.ylabel('theta1')\n",
        "pyplot.plot(theta[0], theta[1], 'ro', ms=10, lw=2)\n",
        "pyplot.title('Contorno, mostrando el minimo')\n",
        "\n",
        "\n",
        "# Grafica la convergencia del costo\n",
        "ax = pyplot.subplot(313)\n",
        "pyplot.plot(np.arange(len(J_history)), J_history, lw=2)\n",
        "pyplot.xlabel('Numero de iteraciones')\n",
        "pyplot.ylabel('Costo J')\n",
        "\n",
        "pass"
      ],
      "execution_count": 237,
      "outputs": [
        {
          "output_type": "display_data",
          "data": {
            "text/plain": [
              "<Figure size 400x1500 with 3 Axes>"
            ],
            "image/png": "[encoded data removed]"
          },
          "metadata": {}
        }
      ]
    },
    {
      "cell_type": "markdown",
      "source": [],
      "metadata": {
        "id": "PonAG7TGoFrn"
      }
    },
    {
      "cell_type": "code",
      "source": [
        "#X = (X - np.mean(X)) / np.std(X)\n",
        "# Datos del año 2018\n",
        "year = 2018\n",
        "\n",
        "# Normalizar el año 2018 (usando la misma media y desviación estándar que usaste para normalizar los datos de entrenamiento)\n",
        "X_norm = (year - np.mean(data[1:, 0])) / np.std(data[1:, 0])\n",
        "X_norm\n",
        "y_pred = theta[0] + theta[1] * X_norm\n",
        "\n",
        "print(f\"La predicción para el año {year} es: {y_pred}\")"
      ],
      "metadata": {
        "id": "OBFFmzX9VMTe",
        "colab": {
          "base_uri": "https://localhost:8080/"
        },
        "outputId": "86ffc7c1-e2ba-48d2-bf3d-d46e492be4af"
      },
      "execution_count": 243,
      "outputs": [
        {
          "output_type": "stream",
          "name": "stdout",
          "text": [
            "La predicción para el año 2018 es: 39631.75270218641\n"
          ]
        }
      ]
    },
    {
      "cell_type": "code",
      "source": [],
      "metadata": {
        "id": "vkhgMMRdqfHg"
      },
      "execution_count": null,
      "outputs": []
    }
  ]
}